{
  "cells": [
    {
      "cell_type": "code",
      "execution_count": null,
      "metadata": {
        "colab": {
          "base_uri": "https://localhost:8080/"
        },
        "id": "BlyMBSXLdiGC",
        "outputId": "18af1acd-4902-4444-9ebe-8f36c7bf62e2"
      },
      "outputs": [
        {
          "name": "stderr",
          "output_type": "stream",
          "text": [
            "[nltk_data] Downloading package stopwords to /root/nltk_data...\n",
            "[nltk_data]   Package stopwords is already up-to-date!\n",
            "[nltk_data] Downloading package punkt to /root/nltk_data...\n",
            "[nltk_data]   Unzipping tokenizers/punkt.zip.\n"
          ]
        },
        {
          "data": {
            "text/plain": [
              "True"
            ]
          },
          "execution_count": 5,
          "metadata": {},
          "output_type": "execute_result"
        }
      ],
      "source": [
        "import nltk\n",
        "import pandas as pd\n",
        "import numpy as np\n",
        "\n",
        "nltk.download(\"stopwords\")\n",
        "nltk.download('punkt')"
      ]
    },
    {
      "attachments": {},
      "cell_type": "markdown",
      "metadata": {},
      "source": [
        "Read the dataset into dataframe"
      ]
    },
    {
      "cell_type": "code",
      "execution_count": null,
      "metadata": {
        "id": "gO-A4NOTMuyt"
      },
      "outputs": [],
      "source": [
        "df=pd.read_excel(r'/content/drive/MyDrive/IR_project/fake job posting.xlsx')"
      ]
    },
    {
      "cell_type": "code",
      "execution_count": null,
      "metadata": {
        "colab": {
          "base_uri": "https://localhost:8080/",
          "height": 513
        },
        "id": "NXMWuMppNwNE",
        "outputId": "f6431e64-ed13-45f8-debb-85b47744a2a8"
      },
      "outputs": [
        {
          "data": {
            "text/html": [
              "\n",
              "  <div id=\"df-50d58301-d2c0-4b2e-859a-b8d938e9d5eb\">\n",
              "    <div class=\"colab-df-container\">\n",
              "      <div>\n",
              "<style scoped>\n",
              "    .dataframe tbody tr th:only-of-type {\n",
              "        vertical-align: middle;\n",
              "    }\n",
              "\n",
              "    .dataframe tbody tr th {\n",
              "        vertical-align: top;\n",
              "    }\n",
              "\n",
              "    .dataframe thead th {\n",
              "        text-align: right;\n",
              "    }\n",
              "</style>\n",
              "<table border=\"1\" class=\"dataframe\">\n",
              "  <thead>\n",
              "    <tr style=\"text-align: right;\">\n",
              "      <th></th>\n",
              "      <th>job_id</th>\n",
              "      <th>title</th>\n",
              "      <th>location</th>\n",
              "      <th>department</th>\n",
              "      <th>salary_range</th>\n",
              "      <th>company_profile</th>\n",
              "      <th>description</th>\n",
              "      <th>requirements</th>\n",
              "      <th>benefits</th>\n",
              "      <th>telecommuting</th>\n",
              "      <th>has_company_logo</th>\n",
              "      <th>has_questions</th>\n",
              "      <th>employment_type</th>\n",
              "      <th>required_experience</th>\n",
              "      <th>required_education</th>\n",
              "      <th>industry</th>\n",
              "      <th>function</th>\n",
              "      <th>fraudulent</th>\n",
              "    </tr>\n",
              "  </thead>\n",
              "  <tbody>\n",
              "    <tr>\n",
              "      <th>0</th>\n",
              "      <td>1</td>\n",
              "      <td>Marketing Intern</td>\n",
              "      <td>US, NY, New York</td>\n",
              "      <td>Marketing</td>\n",
              "      <td>NaN</td>\n",
              "      <td>We're Food52, and we've created a groundbreaki...</td>\n",
              "      <td>Food52, a fast-growing, James Beard Award-winn...</td>\n",
              "      <td>Experience with content management systems a m...</td>\n",
              "      <td>NaN</td>\n",
              "      <td>0</td>\n",
              "      <td>1</td>\n",
              "      <td>0</td>\n",
              "      <td>Other</td>\n",
              "      <td>Internship</td>\n",
              "      <td>NaN</td>\n",
              "      <td>NaN</td>\n",
              "      <td>Marketing</td>\n",
              "      <td>0</td>\n",
              "    </tr>\n",
              "    <tr>\n",
              "      <th>1</th>\n",
              "      <td>2</td>\n",
              "      <td>Customer Service - Cloud Video Production</td>\n",
              "      <td>NZ, , Auckland</td>\n",
              "      <td>Success</td>\n",
              "      <td>NaN</td>\n",
              "      <td>90 Seconds, the worlds Cloud Video Production ...</td>\n",
              "      <td>Organised - Focused - Vibrant - Awesome!Do you...</td>\n",
              "      <td>What we expect from you:Your key responsibilit...</td>\n",
              "      <td>What you will get from usThrough being part of...</td>\n",
              "      <td>0</td>\n",
              "      <td>1</td>\n",
              "      <td>0</td>\n",
              "      <td>Full-time</td>\n",
              "      <td>Not Applicable</td>\n",
              "      <td>NaN</td>\n",
              "      <td>Marketing and Advertising</td>\n",
              "      <td>Customer Service</td>\n",
              "      <td>0</td>\n",
              "    </tr>\n",
              "    <tr>\n",
              "      <th>2</th>\n",
              "      <td>3</td>\n",
              "      <td>Commissioning Machinery Assistant (CMA)</td>\n",
              "      <td>US, IA, Wever</td>\n",
              "      <td>NaN</td>\n",
              "      <td>NaN</td>\n",
              "      <td>Valor Services provides Workforce Solutions th...</td>\n",
              "      <td>Our client, located in Houston, is actively se...</td>\n",
              "      <td>Implement pre-commissioning and commissioning ...</td>\n",
              "      <td>NaN</td>\n",
              "      <td>0</td>\n",
              "      <td>1</td>\n",
              "      <td>0</td>\n",
              "      <td>NaN</td>\n",
              "      <td>NaN</td>\n",
              "      <td>NaN</td>\n",
              "      <td>NaN</td>\n",
              "      <td>NaN</td>\n",
              "      <td>0</td>\n",
              "    </tr>\n",
              "    <tr>\n",
              "      <th>3</th>\n",
              "      <td>4</td>\n",
              "      <td>Account Executive - Washington DC</td>\n",
              "      <td>US, DC, Washington</td>\n",
              "      <td>Sales</td>\n",
              "      <td>NaN</td>\n",
              "      <td>Our passion for improving quality of life thro...</td>\n",
              "      <td>THE COMPANY: ESRI â€“ Environmental Systems Re...</td>\n",
              "      <td>EDUCATION:Â Bachelorâ€™s or Masterâ€™s in GIS,...</td>\n",
              "      <td>Our culture is anything but corporateâ€”we hav...</td>\n",
              "      <td>0</td>\n",
              "      <td>1</td>\n",
              "      <td>0</td>\n",
              "      <td>Full-time</td>\n",
              "      <td>Mid-Senior level</td>\n",
              "      <td>Bachelor's Degree</td>\n",
              "      <td>Computer Software</td>\n",
              "      <td>Sales</td>\n",
              "      <td>0</td>\n",
              "    </tr>\n",
              "    <tr>\n",
              "      <th>4</th>\n",
              "      <td>5</td>\n",
              "      <td>Bill Review Manager</td>\n",
              "      <td>US, FL, Fort Worth</td>\n",
              "      <td>NaN</td>\n",
              "      <td>NaN</td>\n",
              "      <td>SpotSource Solutions LLC is a Global Human Cap...</td>\n",
              "      <td>JOB TITLE: Itemization Review ManagerLOCATION:...</td>\n",
              "      <td>QUALIFICATIONS:RN license in the State of Texa...</td>\n",
              "      <td>Full Benefits Offered</td>\n",
              "      <td>0</td>\n",
              "      <td>1</td>\n",
              "      <td>1</td>\n",
              "      <td>Full-time</td>\n",
              "      <td>Mid-Senior level</td>\n",
              "      <td>Bachelor's Degree</td>\n",
              "      <td>Hospital &amp; Health Care</td>\n",
              "      <td>Health Care Provider</td>\n",
              "      <td>0</td>\n",
              "    </tr>\n",
              "  </tbody>\n",
              "</table>\n",
              "</div>\n",
              "      <button class=\"colab-df-convert\" onclick=\"convertToInteractive('df-50d58301-d2c0-4b2e-859a-b8d938e9d5eb')\"\n",
              "              title=\"Convert this dataframe to an interactive table.\"\n",
              "              style=\"display:none;\">\n",
              "        \n",
              "  <svg xmlns=\"http://www.w3.org/2000/svg\" height=\"24px\"viewBox=\"0 0 24 24\"\n",
              "       width=\"24px\">\n",
              "    <path d=\"M0 0h24v24H0V0z\" fill=\"none\"/>\n",
              "    <path d=\"M18.56 5.44l.94 2.06.94-2.06 2.06-.94-2.06-.94-.94-2.06-.94 2.06-2.06.94zm-11 1L8.5 8.5l.94-2.06 2.06-.94-2.06-.94L8.5 2.5l-.94 2.06-2.06.94zm10 10l.94 2.06.94-2.06 2.06-.94-2.06-.94-.94-2.06-.94 2.06-2.06.94z\"/><path d=\"M17.41 7.96l-1.37-1.37c-.4-.4-.92-.59-1.43-.59-.52 0-1.04.2-1.43.59L10.3 9.45l-7.72 7.72c-.78.78-.78 2.05 0 2.83L4 21.41c.39.39.9.59 1.41.59.51 0 1.02-.2 1.41-.59l7.78-7.78 2.81-2.81c.8-.78.8-2.07 0-2.86zM5.41 20L4 18.59l7.72-7.72 1.47 1.35L5.41 20z\"/>\n",
              "  </svg>\n",
              "      </button>\n",
              "      \n",
              "  <style>\n",
              "    .colab-df-container {\n",
              "      display:flex;\n",
              "      flex-wrap:wrap;\n",
              "      gap: 12px;\n",
              "    }\n",
              "\n",
              "    .colab-df-convert {\n",
              "      background-color: #E8F0FE;\n",
              "      border: none;\n",
              "      border-radius: 50%;\n",
              "      cursor: pointer;\n",
              "      display: none;\n",
              "      fill: #1967D2;\n",
              "      height: 32px;\n",
              "      padding: 0 0 0 0;\n",
              "      width: 32px;\n",
              "    }\n",
              "\n",
              "    .colab-df-convert:hover {\n",
              "      background-color: #E2EBFA;\n",
              "      box-shadow: 0px 1px 2px rgba(60, 64, 67, 0.3), 0px 1px 3px 1px rgba(60, 64, 67, 0.15);\n",
              "      fill: #174EA6;\n",
              "    }\n",
              "\n",
              "    [theme=dark] .colab-df-convert {\n",
              "      background-color: #3B4455;\n",
              "      fill: #D2E3FC;\n",
              "    }\n",
              "\n",
              "    [theme=dark] .colab-df-convert:hover {\n",
              "      background-color: #434B5C;\n",
              "      box-shadow: 0px 1px 3px 1px rgba(0, 0, 0, 0.15);\n",
              "      filter: drop-shadow(0px 1px 2px rgba(0, 0, 0, 0.3));\n",
              "      fill: #FFFFFF;\n",
              "    }\n",
              "  </style>\n",
              "\n",
              "      <script>\n",
              "        const buttonEl =\n",
              "          document.querySelector('#df-50d58301-d2c0-4b2e-859a-b8d938e9d5eb button.colab-df-convert');\n",
              "        buttonEl.style.display =\n",
              "          google.colab.kernel.accessAllowed ? 'block' : 'none';\n",
              "\n",
              "        async function convertToInteractive(key) {\n",
              "          const element = document.querySelector('#df-50d58301-d2c0-4b2e-859a-b8d938e9d5eb');\n",
              "          const dataTable =\n",
              "            await google.colab.kernel.invokeFunction('convertToInteractive',\n",
              "                                                     [key], {});\n",
              "          if (!dataTable) return;\n",
              "\n",
              "          const docLinkHtml = 'Like what you see? Visit the ' +\n",
              "            '<a target=\"_blank\" href=https://colab.research.google.com/notebooks/data_table.ipynb>data table notebook</a>'\n",
              "            + ' to learn more about interactive tables.';\n",
              "          element.innerHTML = '';\n",
              "          dataTable['output_type'] = 'display_data';\n",
              "          await google.colab.output.renderOutput(dataTable, element);\n",
              "          const docLink = document.createElement('div');\n",
              "          docLink.innerHTML = docLinkHtml;\n",
              "          element.appendChild(docLink);\n",
              "        }\n",
              "      </script>\n",
              "    </div>\n",
              "  </div>\n",
              "  "
            ],
            "text/plain": [
              "   job_id                                      title            location  \\\n",
              "0       1                           Marketing Intern    US, NY, New York   \n",
              "1       2  Customer Service - Cloud Video Production      NZ, , Auckland   \n",
              "2       3    Commissioning Machinery Assistant (CMA)       US, IA, Wever   \n",
              "3       4          Account Executive - Washington DC  US, DC, Washington   \n",
              "4       5                        Bill Review Manager  US, FL, Fort Worth   \n",
              "\n",
              "  department salary_range                                    company_profile  \\\n",
              "0  Marketing          NaN  We're Food52, and we've created a groundbreaki...   \n",
              "1    Success          NaN  90 Seconds, the worlds Cloud Video Production ...   \n",
              "2        NaN          NaN  Valor Services provides Workforce Solutions th...   \n",
              "3      Sales          NaN  Our passion for improving quality of life thro...   \n",
              "4        NaN          NaN  SpotSource Solutions LLC is a Global Human Cap...   \n",
              "\n",
              "                                         description  \\\n",
              "0  Food52, a fast-growing, James Beard Award-winn...   \n",
              "1  Organised - Focused - Vibrant - Awesome!Do you...   \n",
              "2  Our client, located in Houston, is actively se...   \n",
              "3  THE COMPANY: ESRI â€“ Environmental Systems Re...   \n",
              "4  JOB TITLE: Itemization Review ManagerLOCATION:...   \n",
              "\n",
              "                                        requirements  \\\n",
              "0  Experience with content management systems a m...   \n",
              "1  What we expect from you:Your key responsibilit...   \n",
              "2  Implement pre-commissioning and commissioning ...   \n",
              "3  EDUCATION:Â Bachelorâ€™s or Masterâ€™s in GIS,...   \n",
              "4  QUALIFICATIONS:RN license in the State of Texa...   \n",
              "\n",
              "                                            benefits  telecommuting  \\\n",
              "0                                                NaN              0   \n",
              "1  What you will get from usThrough being part of...              0   \n",
              "2                                                NaN              0   \n",
              "3  Our culture is anything but corporateâ€”we hav...              0   \n",
              "4                              Full Benefits Offered              0   \n",
              "\n",
              "   has_company_logo  has_questions employment_type required_experience  \\\n",
              "0                 1              0           Other          Internship   \n",
              "1                 1              0       Full-time      Not Applicable   \n",
              "2                 1              0             NaN                 NaN   \n",
              "3                 1              0       Full-time    Mid-Senior level   \n",
              "4                 1              1       Full-time    Mid-Senior level   \n",
              "\n",
              "  required_education                   industry              function  \\\n",
              "0                NaN                        NaN             Marketing   \n",
              "1                NaN  Marketing and Advertising      Customer Service   \n",
              "2                NaN                        NaN                   NaN   \n",
              "3  Bachelor's Degree          Computer Software                 Sales   \n",
              "4  Bachelor's Degree     Hospital & Health Care  Health Care Provider   \n",
              "\n",
              "   fraudulent  \n",
              "0           0  \n",
              "1           0  \n",
              "2           0  \n",
              "3           0  \n",
              "4           0  "
            ]
          },
          "execution_count": 42,
          "metadata": {},
          "output_type": "execute_result"
        }
      ],
      "source": [
        "df.head()"
      ]
    },
    {
      "cell_type": "code",
      "execution_count": null,
      "metadata": {
        "colab": {
          "base_uri": "https://localhost:8080/"
        },
        "id": "sLDEx-PgM39F",
        "outputId": "70e7abce-4ca9-485d-e178-a2236ce5e46a"
      },
      "outputs": [
        {
          "name": "stdout",
          "output_type": "stream",
          "text": [
            "<class 'pandas.core.frame.DataFrame'>\n",
            "RangeIndex: 17880 entries, 0 to 17879\n",
            "Data columns (total 18 columns):\n",
            " #   Column               Non-Null Count  Dtype \n",
            "---  ------               --------------  ----- \n",
            " 0   job_id               17880 non-null  int64 \n",
            " 1   title                17880 non-null  object\n",
            " 2   location             17534 non-null  object\n",
            " 3   department           6333 non-null   object\n",
            " 4   salary_range         2868 non-null   object\n",
            " 5   company_profile      14572 non-null  object\n",
            " 6   description          17871 non-null  object\n",
            " 7   requirements         15147 non-null  object\n",
            " 8   benefits             10639 non-null  object\n",
            " 9   telecommuting        17880 non-null  int64 \n",
            " 10  has_company_logo     17880 non-null  int64 \n",
            " 11  has_questions        17880 non-null  int64 \n",
            " 12  employment_type      14409 non-null  object\n",
            " 13  required_experience  10830 non-null  object\n",
            " 14  required_education   9775 non-null   object\n",
            " 15  industry             12977 non-null  object\n",
            " 16  function             11425 non-null  object\n",
            " 17  fraudulent           17880 non-null  int64 \n",
            "dtypes: int64(5), object(13)\n",
            "memory usage: 2.5+ MB\n"
          ]
        }
      ],
      "source": [
        "df.info()"
      ]
    },
    {
      "cell_type": "code",
      "execution_count": null,
      "metadata": {
        "colab": {
          "base_uri": "https://localhost:8080/",
          "height": 113
        },
        "id": "w8HQcHO-dg5c",
        "outputId": "a10e22f6-637a-41ed-b2da-4ceb4de5bbcc"
      },
      "outputs": [
        {
          "data": {
            "text/html": [
              "\n",
              "  <div id=\"df-a504e1b8-f175-4b25-b3e2-9cb034689441\">\n",
              "    <div class=\"colab-df-container\">\n",
              "      <div>\n",
              "<style scoped>\n",
              "    .dataframe tbody tr th:only-of-type {\n",
              "        vertical-align: middle;\n",
              "    }\n",
              "\n",
              "    .dataframe tbody tr th {\n",
              "        vertical-align: top;\n",
              "    }\n",
              "\n",
              "    .dataframe thead th {\n",
              "        text-align: right;\n",
              "    }\n",
              "</style>\n",
              "<table border=\"1\" class=\"dataframe\">\n",
              "  <thead>\n",
              "    <tr style=\"text-align: right;\">\n",
              "      <th></th>\n",
              "      <th>job_id</th>\n",
              "      <th>title</th>\n",
              "      <th>location</th>\n",
              "      <th>department</th>\n",
              "      <th>salary_range</th>\n",
              "      <th>company_profile</th>\n",
              "      <th>description</th>\n",
              "      <th>requirements</th>\n",
              "      <th>benefits</th>\n",
              "      <th>telecommuting</th>\n",
              "      <th>has_company_logo</th>\n",
              "      <th>has_questions</th>\n",
              "      <th>employment_type</th>\n",
              "      <th>required_experience</th>\n",
              "      <th>required_education</th>\n",
              "      <th>industry</th>\n",
              "      <th>function</th>\n",
              "      <th>fraudulent</th>\n",
              "    </tr>\n",
              "  </thead>\n",
              "  <tbody>\n",
              "  </tbody>\n",
              "</table>\n",
              "</div>\n",
              "      <button class=\"colab-df-convert\" onclick=\"convertToInteractive('df-a504e1b8-f175-4b25-b3e2-9cb034689441')\"\n",
              "              title=\"Convert this dataframe to an interactive table.\"\n",
              "              style=\"display:none;\">\n",
              "        \n",
              "  <svg xmlns=\"http://www.w3.org/2000/svg\" height=\"24px\"viewBox=\"0 0 24 24\"\n",
              "       width=\"24px\">\n",
              "    <path d=\"M0 0h24v24H0V0z\" fill=\"none\"/>\n",
              "    <path d=\"M18.56 5.44l.94 2.06.94-2.06 2.06-.94-2.06-.94-.94-2.06-.94 2.06-2.06.94zm-11 1L8.5 8.5l.94-2.06 2.06-.94-2.06-.94L8.5 2.5l-.94 2.06-2.06.94zm10 10l.94 2.06.94-2.06 2.06-.94-2.06-.94-.94-2.06-.94 2.06-2.06.94z\"/><path d=\"M17.41 7.96l-1.37-1.37c-.4-.4-.92-.59-1.43-.59-.52 0-1.04.2-1.43.59L10.3 9.45l-7.72 7.72c-.78.78-.78 2.05 0 2.83L4 21.41c.39.39.9.59 1.41.59.51 0 1.02-.2 1.41-.59l7.78-7.78 2.81-2.81c.8-.78.8-2.07 0-2.86zM5.41 20L4 18.59l7.72-7.72 1.47 1.35L5.41 20z\"/>\n",
              "  </svg>\n",
              "      </button>\n",
              "      \n",
              "  <style>\n",
              "    .colab-df-container {\n",
              "      display:flex;\n",
              "      flex-wrap:wrap;\n",
              "      gap: 12px;\n",
              "    }\n",
              "\n",
              "    .colab-df-convert {\n",
              "      background-color: #E8F0FE;\n",
              "      border: none;\n",
              "      border-radius: 50%;\n",
              "      cursor: pointer;\n",
              "      display: none;\n",
              "      fill: #1967D2;\n",
              "      height: 32px;\n",
              "      padding: 0 0 0 0;\n",
              "      width: 32px;\n",
              "    }\n",
              "\n",
              "    .colab-df-convert:hover {\n",
              "      background-color: #E2EBFA;\n",
              "      box-shadow: 0px 1px 2px rgba(60, 64, 67, 0.3), 0px 1px 3px 1px rgba(60, 64, 67, 0.15);\n",
              "      fill: #174EA6;\n",
              "    }\n",
              "\n",
              "    [theme=dark] .colab-df-convert {\n",
              "      background-color: #3B4455;\n",
              "      fill: #D2E3FC;\n",
              "    }\n",
              "\n",
              "    [theme=dark] .colab-df-convert:hover {\n",
              "      background-color: #434B5C;\n",
              "      box-shadow: 0px 1px 3px 1px rgba(0, 0, 0, 0.15);\n",
              "      filter: drop-shadow(0px 1px 2px rgba(0, 0, 0, 0.3));\n",
              "      fill: #FFFFFF;\n",
              "    }\n",
              "  </style>\n",
              "\n",
              "      <script>\n",
              "        const buttonEl =\n",
              "          document.querySelector('#df-a504e1b8-f175-4b25-b3e2-9cb034689441 button.colab-df-convert');\n",
              "        buttonEl.style.display =\n",
              "          google.colab.kernel.accessAllowed ? 'block' : 'none';\n",
              "\n",
              "        async function convertToInteractive(key) {\n",
              "          const element = document.querySelector('#df-a504e1b8-f175-4b25-b3e2-9cb034689441');\n",
              "          const dataTable =\n",
              "            await google.colab.kernel.invokeFunction('convertToInteractive',\n",
              "                                                     [key], {});\n",
              "          if (!dataTable) return;\n",
              "\n",
              "          const docLinkHtml = 'Like what you see? Visit the ' +\n",
              "            '<a target=\"_blank\" href=https://colab.research.google.com/notebooks/data_table.ipynb>data table notebook</a>'\n",
              "            + ' to learn more about interactive tables.';\n",
              "          element.innerHTML = '';\n",
              "          dataTable['output_type'] = 'display_data';\n",
              "          await google.colab.output.renderOutput(dataTable, element);\n",
              "          const docLink = document.createElement('div');\n",
              "          docLink.innerHTML = docLinkHtml;\n",
              "          element.appendChild(docLink);\n",
              "        }\n",
              "      </script>\n",
              "    </div>\n",
              "  </div>\n",
              "  "
            ],
            "text/plain": [
              "Empty DataFrame\n",
              "Columns: [job_id, title, location, department, salary_range, company_profile, description, requirements, benefits, telecommuting, has_company_logo, has_questions, employment_type, required_experience, required_education, industry, function, fraudulent]\n",
              "Index: []"
            ]
          },
          "execution_count": 44,
          "metadata": {},
          "output_type": "execute_result"
        }
      ],
      "source": [
        "df[df.duplicated()]\n",
        "# No duplicated Data"
      ]
    },
    {
      "cell_type": "code",
      "execution_count": null,
      "metadata": {
        "colab": {
          "base_uri": "https://localhost:8080/",
          "height": 447
        },
        "id": "Rd6rZ9tSNPD1",
        "outputId": "0043556e-5b8d-4552-adac-639a0d0ca8d2"
      },
      "outputs": [
        {
          "data": {
            "text/plain": [
              "<Axes: >"
            ]
          },
          "execution_count": 45,
          "metadata": {},
          "output_type": "execute_result"
        },
        {
          "data": {
            "image/png": "[encoded data removed]",
            "text/plain": [
              "<Figure size 640x480 with 1 Axes>"
            ]
          },
          "metadata": {},
          "output_type": "display_data"
        }
      ],
      "source": [
        "df.isna().sum().plot(kind='barh')"
      ]
    },
    {
      "cell_type": "code",
      "execution_count": null,
      "metadata": {
        "colab": {
          "base_uri": "https://localhost:8080/"
        },
        "id": "0qnrN_FCf3bX",
        "outputId": "6c844ff5-8600-49a3-d8ac-ad203eef0f8e"
      },
      "outputs": [
        {
          "data": {
            "text/plain": [
              "fraudulent\n",
              "0    17014\n",
              "1      866\n",
              "dtype: int64"
            ]
          },
          "execution_count": 46,
          "metadata": {},
          "output_type": "execute_result"
        }
      ],
      "source": [
        "df.value_counts(\"fraudulent\")"
      ]
    },
    {
      "attachments": {},
      "cell_type": "markdown",
      "metadata": {
        "id": "QYjGzK0lSdwD"
      },
      "source": [
        "## Removing columns and Preprocessing Dataframe ands saving"
      ]
    },
    {
      "cell_type": "code",
      "execution_count": null,
      "metadata": {
        "id": "bnQGi-BXRUDj"
      },
      "outputs": [],
      "source": [
        "del_columns=['job_id','telecommuting','has_company_logo','has_questions','salary_range']\n",
        "\n",
        "for i in del_columns:\n",
        "  del df[i]\n",
        "\n",
        "df=df.fillna('')"
      ]
    },
    {
      "cell_type": "code",
      "execution_count": null,
      "metadata": {
        "colab": {
          "base_uri": "https://localhost:8080/"
        },
        "id": "8x6_bSB9S1ks",
        "outputId": "d5d47361-05c9-4558-cb3b-0fd181b76b2e"
      },
      "outputs": [
        {
          "name": "stdout",
          "output_type": "stream",
          "text": [
            "<class 'pandas.core.frame.DataFrame'>\n",
            "RangeIndex: 17880 entries, 0 to 17879\n",
            "Data columns (total 13 columns):\n",
            " #   Column               Non-Null Count  Dtype \n",
            "---  ------               --------------  ----- \n",
            " 0   title                17880 non-null  object\n",
            " 1   location             17880 non-null  object\n",
            " 2   department           17880 non-null  object\n",
            " 3   company_profile      17880 non-null  object\n",
            " 4   description          17880 non-null  object\n",
            " 5   requirements         17880 non-null  object\n",
            " 6   benefits             17880 non-null  object\n",
            " 7   employment_type      17880 non-null  object\n",
            " 8   required_experience  17880 non-null  object\n",
            " 9   required_education   17880 non-null  object\n",
            " 10  industry             17880 non-null  object\n",
            " 11  function             17880 non-null  object\n",
            " 12  fraudulent           17880 non-null  int64 \n",
            "dtypes: int64(1), object(12)\n",
            "memory usage: 1.8+ MB\n"
          ]
        }
      ],
      "source": [
        "df.info()"
      ]
    },
    {
      "cell_type": "code",
      "execution_count": null,
      "metadata": {
        "id": "uJqbsjAHS89i"
      },
      "outputs": [],
      "source": [
        "columns=['title','location','department','company_profile','description','requirements','benefits','employment_type','required_experience','required_education','industry','function']\n",
        "\n",
        "for i in columns:\n",
        "  df[i]=df[i].astype('str')\n",
        "\n",
        "df['text'] = df['title']+' '+df['department']+' '+df['company_profile']+' '+df['description']+' '+df['requirements']+' '+df['benefits']+' '+df['employment_type']+' '+df['required_experience']+' '+df['required_education']+' '+df['industry']+' '+df['function']"
      ]
    },
    {
      "cell_type": "code",
      "execution_count": null,
      "metadata": {
        "colab": {
          "base_uri": "https://localhost:8080/"
        },
        "id": "R4TOcUxpXLuF",
        "outputId": "f7e74ea5-ccf1-4a59-bab4-6de416fea129"
      },
      "outputs": [
        {
          "name": "stdout",
          "output_type": "stream",
          "text": [
            "0    Marketing Intern Marketing We're Food52, and w...\n",
            "1    Customer Service - Cloud Video Production Succ...\n",
            "2    Commissioning Machinery Assistant (CMA)  Valor...\n",
            "3    Account Executive - Washington DC Sales Our pa...\n",
            "4    Bill Review Manager  SpotSource Solutions LLC ...\n",
            "Name: text, dtype: object\n"
          ]
        }
      ],
      "source": [
        "print(df['text'].head())"
      ]
    },
    {
      "cell_type": "code",
      "execution_count": null,
      "metadata": {
        "id": "DtttH13UXfax"
      },
      "outputs": [],
      "source": [
        "from sklearn.feature_extraction.text import CountVectorizer,TfidfVectorizer\n",
        "from sklearn.model_selection import train_test_split\n",
        "from sklearn.pipeline import Pipeline\n",
        "from sklearn.metrics import accuracy_score, classification_report, confusion_matrix\n",
        "import re"
      ]
    },
    {
      "cell_type": "code",
      "execution_count": null,
      "metadata": {
        "id": "sdzGKbcpXgDp"
      },
      "outputs": [],
      "source": [
        "from bs4 import BeautifulSoup\n",
        "import spacy\n",
        "import nltk\n",
        "from nltk.corpus import stopwords\n",
        "\n",
        "stop_words = set(stopwords.words(\"english\"))\n",
        "\n",
        "#function to lemmatize the text\n",
        "load_model = spacy.load('en_core_web_sm',disable = ['parser','ner'])\n",
        "def lemmatize(text):\n",
        "    doc = load_model(text)\n",
        "    tex= \" \".join([token.lemma_ for token in doc])\n",
        "    return tex\n",
        "\n",
        "\n",
        "#function to clean the whole text\n",
        "def clean_text(text):\n",
        "    #Converting to lowercase\n",
        "    text = text.lower()\n",
        "    #Removing emails\n",
        "    text = re.sub(r'([a-zA-Z0-9+._-]+@[a-zA-Z0-9._-]+\\.[a-zA-Z0-9_-]+)', '', text)\n",
        "    #Removing URLs\n",
        "    text = re.sub(r'(http|ftp|https)://([\\w_-]+(?:(?:\\.[\\w_-]+)+))([\\w.,@?^=%&:/~+#-]*[\\w@?^=%&/~+#-])?', '', text)\n",
        "    #Removing HTML tags\n",
        "    text = BeautifulSoup(text, 'lxml').get_text()\n",
        "    #Removing punctuations and numbers\n",
        "    text = re.sub('[^A-Z a-z ]+', ' ', text)\n",
        "    #Removing Multiple spaces\n",
        "    text =  \" \".join(text.split())\n",
        "    #Removing Stop words\n",
        "    text =  \" \".join([t for t in text.split() if t not in stop_words])\n",
        "    #lemmatizing the text\n",
        "    text = lemmatize(text)\n",
        "    return text"
      ]
    },
    {
      "cell_type": "code",
      "execution_count": null,
      "metadata": {
        "colab": {
          "base_uri": "https://localhost:8080/"
        },
        "id": "J5WXxg60XheA",
        "outputId": "842f4fae-f044-46c8-fae6-bd64e5d041e4"
      },
      "outputs": [
        {
          "name": "stderr",
          "output_type": "stream",
          "text": [
            "<ipython-input-52-52bd71cba2c7>:25: MarkupResemblesLocatorWarning: The input looks more like a filename than markup. You may want to open this file and pass the filehandle into Beautiful Soup.\n",
            "  text = BeautifulSoup(text, 'lxml').get_text()\n"
          ]
        }
      ],
      "source": [
        "df['pre_processed'] = df['text'].apply(clean_text)"
      ]
    },
    {
      "cell_type": "code",
      "execution_count": null,
      "metadata": {
        "colab": {
          "base_uri": "https://localhost:8080/"
        },
        "id": "QUWY3b-g7MFx",
        "outputId": "fe7cc30f-93f4-49b9-a3fd-d84206096f35"
      },
      "outputs": [
        {
          "data": {
            "text/plain": [
              "0    market intern marketing food create groundbrea...\n",
              "1    customer service cloud video production succes...\n",
              "2    commission machinery assistant cma valor servi...\n",
              "3    account executive washington dc sale passion i...\n",
              "4    bill review manager spotsource solution llc gl...\n",
              "Name: pre_processed, dtype: object"
            ]
          },
          "execution_count": 54,
          "metadata": {},
          "output_type": "execute_result"
        }
      ],
      "source": [
        "df['pre_processed'].head()"
      ]
    },
    {
      "cell_type": "code",
      "execution_count": null,
      "metadata": {
        "id": "VI2XXXj4fZc3"
      },
      "outputs": [],
      "source": [
        "from sklearn.model_selection import train_test_split\n",
        "xtr,xt,ytr,yt=train_test_split(df['pre_processed'],df['fraudulent'],test_size=0.2,random_state=42)"
      ]
    },
    {
      "cell_type": "code",
      "execution_count": null,
      "metadata": {
        "id": "eeGnL0bQkYm2"
      },
      "outputs": [],
      "source": [
        "# saving training and testing to data frames\n",
        "train_data=pd.DataFrame()\n",
        "train_data['preprocessed_data']=xtr\n",
        "train_data['label']=ytr\n",
        "test_data=pd.DataFrame()\n",
        "test_data['preprocessed_data']=xt\n",
        "test_data['label']=yt\n"
      ]
    },
    {
      "cell_type": "code",
      "execution_count": null,
      "metadata": {
        "id": "lQKIYXQA-bAi"
      },
      "outputs": [],
      "source": [
        "train_data.to_csv(r'/content/drive/MyDrive/IR_project/train.csv',index=False)\n",
        "test_data.to_csv(r'/content/drive/MyDrive/IR_project/test.csv',index=False)"
      ]
    },
    {
      "attachments": {},
      "cell_type": "markdown",
      "metadata": {
        "id": "c0LvXdRf9mlC"
      },
      "source": [
        "## Implementing Simple machine Learning models\n",
        "\n",
        "1.   KNN\n",
        "2.   Naive Bayes\n",
        "3.   Decision Tree\n",
        "4.   Support Vector Machine\n",
        "5.   Random Forest classifier\n",
        "\n",
        "\n"
      ]
    },
    {
      "attachments": {},
      "cell_type": "markdown",
      "metadata": {
        "id": "ymA-lp-c-ZSF"
      },
      "source": [
        "## Tf Idf Vectoriser"
      ]
    },
    {
      "cell_type": "code",
      "execution_count": null,
      "metadata": {
        "id": "W8qc6tc4-dyN"
      },
      "outputs": [],
      "source": [
        "from sklearn.feature_extraction.text import CountVectorizer,TfidfVectorizer\n",
        "from sklearn.model_selection import train_test_split\n",
        "from sklearn.pipeline import Pipeline\n",
        "from sklearn.metrics import accuracy_score, classification_report, confusion_matrix\n",
        "import pandas as pd\n",
        "import numpy as np\n",
        "from nltk.stem import PorterStemmer\n",
        "from nltk.tokenize import word_tokenize\n",
        "stemmer = PorterStemmer()\n",
        "\n",
        "train_df=pd.read_csv(r'/content/drive/MyDrive/IR_project/train.csv')\n",
        "test_df=pd.read_csv(r'/content/drive/MyDrive/IR_project/test.csv')\n",
        "\n",
        "vectoriser = TfidfVectorizer(max_features = 100)\n",
        "xtr_df = vectoriser.fit_transform(train_df['preprocessed_data'])\n",
        "xt_df = vectoriser.fit_transform(test_df['preprocessed_data'])\n",
        "\n",
        "xtr=pd.DataFrame(xtr_df.toarray(),columns=vectoriser.get_feature_names_out())\n",
        "xt=pd.DataFrame(xt_df.toarray(),columns=vectoriser.get_feature_names_out())\n",
        "ytr=train_df['label']\n",
        "yt=test_df['label']"
      ]
    },
    {
      "cell_type": "code",
      "execution_count": null,
      "metadata": {
        "colab": {
          "base_uri": "https://localhost:8080/"
        },
        "id": "e03--qlR7eC4",
        "outputId": "15ccf8b7-5238-4537-8f79-72c2d8dfb6a1"
      },
      "outputs": [
        {
          "name": "stdout",
          "output_type": "stream",
          "text": [
            "<class 'pandas.core.frame.DataFrame'>\n",
            "RangeIndex: 14304 entries, 0 to 14303\n",
            "Data columns (total 2 columns):\n",
            " #   Column             Non-Null Count  Dtype \n",
            "---  ------             --------------  ----- \n",
            " 0   preprocessed_data  14304 non-null  object\n",
            " 1   label              14304 non-null  int64 \n",
            "dtypes: int64(1), object(1)\n",
            "memory usage: 223.6+ KB\n"
          ]
        }
      ],
      "source": [
        "train_df.info()"
      ]
    },
    {
      "cell_type": "code",
      "execution_count": null,
      "metadata": {
        "colab": {
          "base_uri": "https://localhost:8080/"
        },
        "id": "c8XpyR_87hcx",
        "outputId": "ce71612b-15fe-4832-e34d-d1bac535dbc4"
      },
      "outputs": [
        {
          "name": "stdout",
          "output_type": "stream",
          "text": [
            "<class 'pandas.core.frame.DataFrame'>\n",
            "RangeIndex: 3576 entries, 0 to 3575\n",
            "Data columns (total 2 columns):\n",
            " #   Column             Non-Null Count  Dtype \n",
            "---  ------             --------------  ----- \n",
            " 0   preprocessed_data  3576 non-null   object\n",
            " 1   label              3576 non-null   int64 \n",
            "dtypes: int64(1), object(1)\n",
            "memory usage: 56.0+ KB\n"
          ]
        }
      ],
      "source": [
        "test_df.info()"
      ]
    },
    {
      "attachments": {},
      "cell_type": "markdown",
      "metadata": {
        "id": "HYUApoQ2Ga46"
      },
      "source": [
        "scaling the Dataset"
      ]
    },
    {
      "cell_type": "code",
      "execution_count": null,
      "metadata": {
        "id": "BmqZQ0zREFvZ"
      },
      "outputs": [],
      "source": [
        "from sklearn.preprocessing import StandardScaler\n",
        "\n",
        "# Feature scaling\n",
        "scaler = StandardScaler()\n",
        "scaler.fit(xtr)\n",
        "\n",
        "xtr = scaler.transform(xtr)\n",
        "xt = scaler.transform(xt)"
      ]
    },
    {
      "attachments": {},
      "cell_type": "markdown",
      "metadata": {
        "id": "hbwSQnrLGdS5"
      },
      "source": [
        "KNN with n_neighbors=1"
      ]
    },
    {
      "cell_type": "code",
      "execution_count": null,
      "metadata": {
        "colab": {
          "base_uri": "https://localhost:8080/"
        },
        "id": "eXVCM722SU_y",
        "outputId": "3833bc79-a4d5-4866-f1bb-509e6f7ad6fd"
      },
      "outputs": [
        {
          "name": "stdout",
          "output_type": "stream",
          "text": [
            "Best Parameters: {'weights': 'distance', 'p': 1, 'n_neighbors': 7}\n",
            "Best Score: 0.9776283883831054\n"
          ]
        }
      ],
      "source": [
        "# Create a KNN classifier\n",
        "knn_classifier = KNeighborsClassifier()\n",
        "\n",
        "# Define the hyperparameter grid\n",
        "param_grid = {\n",
        "    'n_neighbors': np.arange(1, 21),\n",
        "    'weights': ['uniform', 'distance'],\n",
        "    'p': [1, 2]\n",
        "}\n",
        "\n",
        "# Perform random search cross-validation\n",
        "random_search = RandomizedSearchCV(knn_classifier, param_distributions=param_grid, n_iter=10, cv=10)\n",
        "random_search.fit(xtr, ytr)\n",
        "\n",
        "# Print the best parameters and score\n",
        "print(\"Best Parameters:\", random_search.best_params_)\n",
        "print(\"Best Score:\", random_search.best_score_)"
      ]
    },
    {
      "cell_type": "code",
      "execution_count": null,
      "metadata": {
        "colab": {
          "base_uri": "https://localhost:8080/"
        },
        "id": "TMuPsIsWBGuA",
        "outputId": "6de51928-e236-4063-ae1c-50a5cba908dc"
      },
      "outputs": [
        {
          "name": "stdout",
          "output_type": "stream",
          "text": [
            "[[3362   33]\n",
            " [ 101   80]]\n",
            "              precision    recall  f1-score   support\n",
            "\n",
            "           0       0.97      0.99      0.98      3395\n",
            "           1       0.71      0.44      0.54       181\n",
            "\n",
            "    accuracy                           0.96      3576\n",
            "   macro avg       0.84      0.72      0.76      3576\n",
            "weighted avg       0.96      0.96      0.96      3576\n",
            "\n",
            "0.9625279642058165\n"
          ]
        }
      ],
      "source": [
        "from sklearn.neighbors import KNeighborsClassifier\n",
        "from sklearn.metrics import accuracy_score\n",
        "import joblib\n",
        "\n",
        "knn=KNeighborsClassifier(weights='distance', p= 1, n_neighbors= 7)\n",
        "knn.fit(xtr, ytr)\n",
        "\n",
        "# Make predictions\n",
        "y_pred = knn.predict(xt)\n",
        "\n",
        "# Evaluate the model\n",
        "print(confusion_matrix(yt, y_pred))\n",
        "print(classification_report(yt, y_pred))\n",
        "print(accuracy_score(yt,y_pred))\n",
        "# joblib.dump(knn,r'/content/drive/MyDrive/IR_project/models/knn_model.joblib')\n"
      ]
    },
    {
      "attachments": {},
      "cell_type": "markdown",
      "metadata": {
        "id": "EuiQ4y2rIUZR"
      },
      "source": [
        "Random Forest Classifier"
      ]
    },
    {
      "cell_type": "code",
      "execution_count": null,
      "metadata": {
        "colab": {
          "base_uri": "https://localhost:8080/"
        },
        "id": "5K5bPSRaNfhg",
        "outputId": "5bcb24bd-d31a-48ff-9dd5-a3a7598def4b"
      },
      "outputs": [
        {
          "name": "stderr",
          "output_type": "stream",
          "text": [
            "/usr/local/lib/python3.10/dist-packages/sklearn/ensemble/_forest.py:424: FutureWarning: `max_features='auto'` has been deprecated in 1.1 and will be removed in 1.3. To keep the past behaviour, explicitly set `max_features='sqrt'` or remove this parameter as it is also the default value for RandomForestClassifiers and ExtraTreesClassifiers.\n",
            "  warn(\n",
            "/usr/local/lib/python3.10/dist-packages/sklearn/ensemble/_forest.py:424: FutureWarning: `max_features='auto'` has been deprecated in 1.1 and will be removed in 1.3. To keep the past behaviour, explicitly set `max_features='sqrt'` or remove this parameter as it is also the default value for RandomForestClassifiers and ExtraTreesClassifiers.\n",
            "  warn(\n",
            "/usr/local/lib/python3.10/dist-packages/sklearn/ensemble/_forest.py:424: FutureWarning: `max_features='auto'` has been deprecated in 1.1 and will be removed in 1.3. To keep the past behaviour, explicitly set `max_features='sqrt'` or remove this parameter as it is also the default value for RandomForestClassifiers and ExtraTreesClassifiers.\n",
            "  warn(\n",
            "/usr/local/lib/python3.10/dist-packages/sklearn/ensemble/_forest.py:424: FutureWarning: `max_features='auto'` has been deprecated in 1.1 and will be removed in 1.3. To keep the past behaviour, explicitly set `max_features='sqrt'` or remove this parameter as it is also the default value for RandomForestClassifiers and ExtraTreesClassifiers.\n",
            "  warn(\n",
            "/usr/local/lib/python3.10/dist-packages/sklearn/ensemble/_forest.py:424: FutureWarning: `max_features='auto'` has been deprecated in 1.1 and will be removed in 1.3. To keep the past behaviour, explicitly set `max_features='sqrt'` or remove this parameter as it is also the default value for RandomForestClassifiers and ExtraTreesClassifiers.\n",
            "  warn(\n",
            "/usr/local/lib/python3.10/dist-packages/sklearn/ensemble/_forest.py:424: FutureWarning: `max_features='auto'` has been deprecated in 1.1 and will be removed in 1.3. To keep the past behaviour, explicitly set `max_features='sqrt'` or remove this parameter as it is also the default value for RandomForestClassifiers and ExtraTreesClassifiers.\n",
            "  warn(\n",
            "/usr/local/lib/python3.10/dist-packages/sklearn/ensemble/_forest.py:424: FutureWarning: `max_features='auto'` has been deprecated in 1.1 and will be removed in 1.3. To keep the past behaviour, explicitly set `max_features='sqrt'` or remove this parameter as it is also the default value for RandomForestClassifiers and ExtraTreesClassifiers.\n",
            "  warn(\n",
            "/usr/local/lib/python3.10/dist-packages/sklearn/ensemble/_forest.py:424: FutureWarning: `max_features='auto'` has been deprecated in 1.1 and will be removed in 1.3. To keep the past behaviour, explicitly set `max_features='sqrt'` or remove this parameter as it is also the default value for RandomForestClassifiers and ExtraTreesClassifiers.\n",
            "  warn(\n",
            "/usr/local/lib/python3.10/dist-packages/sklearn/ensemble/_forest.py:424: FutureWarning: `max_features='auto'` has been deprecated in 1.1 and will be removed in 1.3. To keep the past behaviour, explicitly set `max_features='sqrt'` or remove this parameter as it is also the default value for RandomForestClassifiers and ExtraTreesClassifiers.\n",
            "  warn(\n",
            "/usr/local/lib/python3.10/dist-packages/sklearn/ensemble/_forest.py:424: FutureWarning: `max_features='auto'` has been deprecated in 1.1 and will be removed in 1.3. To keep the past behaviour, explicitly set `max_features='sqrt'` or remove this parameter as it is also the default value for RandomForestClassifiers and ExtraTreesClassifiers.\n",
            "  warn(\n",
            "/usr/local/lib/python3.10/dist-packages/sklearn/ensemble/_forest.py:424: FutureWarning: `max_features='auto'` has been deprecated in 1.1 and will be removed in 1.3. To keep the past behaviour, explicitly set `max_features='sqrt'` or remove this parameter as it is also the default value for RandomForestClassifiers and ExtraTreesClassifiers.\n",
            "  warn(\n",
            "/usr/local/lib/python3.10/dist-packages/sklearn/ensemble/_forest.py:424: FutureWarning: `max_features='auto'` has been deprecated in 1.1 and will be removed in 1.3. To keep the past behaviour, explicitly set `max_features='sqrt'` or remove this parameter as it is also the default value for RandomForestClassifiers and ExtraTreesClassifiers.\n",
            "  warn(\n",
            "/usr/local/lib/python3.10/dist-packages/sklearn/ensemble/_forest.py:424: FutureWarning: `max_features='auto'` has been deprecated in 1.1 and will be removed in 1.3. To keep the past behaviour, explicitly set `max_features='sqrt'` or remove this parameter as it is also the default value for RandomForestClassifiers and ExtraTreesClassifiers.\n",
            "  warn(\n",
            "/usr/local/lib/python3.10/dist-packages/sklearn/ensemble/_forest.py:424: FutureWarning: `max_features='auto'` has been deprecated in 1.1 and will be removed in 1.3. To keep the past behaviour, explicitly set `max_features='sqrt'` or remove this parameter as it is also the default value for RandomForestClassifiers and ExtraTreesClassifiers.\n",
            "  warn(\n",
            "/usr/local/lib/python3.10/dist-packages/sklearn/ensemble/_forest.py:424: FutureWarning: `max_features='auto'` has been deprecated in 1.1 and will be removed in 1.3. To keep the past behaviour, explicitly set `max_features='sqrt'` or remove this parameter as it is also the default value for RandomForestClassifiers and ExtraTreesClassifiers.\n",
            "  warn(\n",
            "/usr/local/lib/python3.10/dist-packages/sklearn/ensemble/_forest.py:424: FutureWarning: `max_features='auto'` has been deprecated in 1.1 and will be removed in 1.3. To keep the past behaviour, explicitly set `max_features='sqrt'` or remove this parameter as it is also the default value for RandomForestClassifiers and ExtraTreesClassifiers.\n",
            "  warn(\n",
            "/usr/local/lib/python3.10/dist-packages/sklearn/ensemble/_forest.py:424: FutureWarning: `max_features='auto'` has been deprecated in 1.1 and will be removed in 1.3. To keep the past behaviour, explicitly set `max_features='sqrt'` or remove this parameter as it is also the default value for RandomForestClassifiers and ExtraTreesClassifiers.\n",
            "  warn(\n",
            "/usr/local/lib/python3.10/dist-packages/sklearn/ensemble/_forest.py:424: FutureWarning: `max_features='auto'` has been deprecated in 1.1 and will be removed in 1.3. To keep the past behaviour, explicitly set `max_features='sqrt'` or remove this parameter as it is also the default value for RandomForestClassifiers and ExtraTreesClassifiers.\n",
            "  warn(\n",
            "/usr/local/lib/python3.10/dist-packages/sklearn/ensemble/_forest.py:424: FutureWarning: `max_features='auto'` has been deprecated in 1.1 and will be removed in 1.3. To keep the past behaviour, explicitly set `max_features='sqrt'` or remove this parameter as it is also the default value for RandomForestClassifiers and ExtraTreesClassifiers.\n",
            "  warn(\n",
            "/usr/local/lib/python3.10/dist-packages/sklearn/ensemble/_forest.py:424: FutureWarning: `max_features='auto'` has been deprecated in 1.1 and will be removed in 1.3. To keep the past behaviour, explicitly set `max_features='sqrt'` or remove this parameter as it is also the default value for RandomForestClassifiers and ExtraTreesClassifiers.\n",
            "  warn(\n",
            "/usr/local/lib/python3.10/dist-packages/sklearn/ensemble/_forest.py:424: FutureWarning: `max_features='auto'` has been deprecated in 1.1 and will be removed in 1.3. To keep the past behaviour, explicitly set `max_features='sqrt'` or remove this parameter as it is also the default value for RandomForestClassifiers and ExtraTreesClassifiers.\n",
            "  warn(\n",
            "/usr/local/lib/python3.10/dist-packages/sklearn/ensemble/_forest.py:424: FutureWarning: `max_features='auto'` has been deprecated in 1.1 and will be removed in 1.3. To keep the past behaviour, explicitly set `max_features='sqrt'` or remove this parameter as it is also the default value for RandomForestClassifiers and ExtraTreesClassifiers.\n",
            "  warn(\n",
            "/usr/local/lib/python3.10/dist-packages/sklearn/ensemble/_forest.py:424: FutureWarning: `max_features='auto'` has been deprecated in 1.1 and will be removed in 1.3. To keep the past behaviour, explicitly set `max_features='sqrt'` or remove this parameter as it is also the default value for RandomForestClassifiers and ExtraTreesClassifiers.\n",
            "  warn(\n",
            "/usr/local/lib/python3.10/dist-packages/sklearn/ensemble/_forest.py:424: FutureWarning: `max_features='auto'` has been deprecated in 1.1 and will be removed in 1.3. To keep the past behaviour, explicitly set `max_features='sqrt'` or remove this parameter as it is also the default value for RandomForestClassifiers and ExtraTreesClassifiers.\n",
            "  warn(\n",
            "/usr/local/lib/python3.10/dist-packages/sklearn/ensemble/_forest.py:424: FutureWarning: `max_features='auto'` has been deprecated in 1.1 and will be removed in 1.3. To keep the past behaviour, explicitly set `max_features='sqrt'` or remove this parameter as it is also the default value for RandomForestClassifiers and ExtraTreesClassifiers.\n",
            "  warn(\n",
            "/usr/local/lib/python3.10/dist-packages/sklearn/ensemble/_forest.py:424: FutureWarning: `max_features='auto'` has been deprecated in 1.1 and will be removed in 1.3. To keep the past behaviour, explicitly set `max_features='sqrt'` or remove this parameter as it is also the default value for RandomForestClassifiers and ExtraTreesClassifiers.\n",
            "  warn(\n",
            "/usr/local/lib/python3.10/dist-packages/sklearn/ensemble/_forest.py:424: FutureWarning: `max_features='auto'` has been deprecated in 1.1 and will be removed in 1.3. To keep the past behaviour, explicitly set `max_features='sqrt'` or remove this parameter as it is also the default value for RandomForestClassifiers and ExtraTreesClassifiers.\n",
            "  warn(\n",
            "/usr/local/lib/python3.10/dist-packages/sklearn/ensemble/_forest.py:424: FutureWarning: `max_features='auto'` has been deprecated in 1.1 and will be removed in 1.3. To keep the past behaviour, explicitly set `max_features='sqrt'` or remove this parameter as it is also the default value for RandomForestClassifiers and ExtraTreesClassifiers.\n",
            "  warn(\n",
            "/usr/local/lib/python3.10/dist-packages/sklearn/ensemble/_forest.py:424: FutureWarning: `max_features='auto'` has been deprecated in 1.1 and will be removed in 1.3. To keep the past behaviour, explicitly set `max_features='sqrt'` or remove this parameter as it is also the default value for RandomForestClassifiers and ExtraTreesClassifiers.\n",
            "  warn(\n",
            "/usr/local/lib/python3.10/dist-packages/sklearn/ensemble/_forest.py:424: FutureWarning: `max_features='auto'` has been deprecated in 1.1 and will be removed in 1.3. To keep the past behaviour, explicitly set `max_features='sqrt'` or remove this parameter as it is also the default value for RandomForestClassifiers and ExtraTreesClassifiers.\n",
            "  warn(\n",
            "/usr/local/lib/python3.10/dist-packages/sklearn/ensemble/_forest.py:424: FutureWarning: `max_features='auto'` has been deprecated in 1.1 and will be removed in 1.3. To keep the past behaviour, explicitly set `max_features='sqrt'` or remove this parameter as it is also the default value for RandomForestClassifiers and ExtraTreesClassifiers.\n",
            "  warn(\n",
            "/usr/local/lib/python3.10/dist-packages/sklearn/ensemble/_forest.py:424: FutureWarning: `max_features='auto'` has been deprecated in 1.1 and will be removed in 1.3. To keep the past behaviour, explicitly set `max_features='sqrt'` or remove this parameter as it is also the default value for RandomForestClassifiers and ExtraTreesClassifiers.\n",
            "  warn(\n",
            "/usr/local/lib/python3.10/dist-packages/sklearn/ensemble/_forest.py:424: FutureWarning: `max_features='auto'` has been deprecated in 1.1 and will be removed in 1.3. To keep the past behaviour, explicitly set `max_features='sqrt'` or remove this parameter as it is also the default value for RandomForestClassifiers and ExtraTreesClassifiers.\n",
            "  warn(\n",
            "/usr/local/lib/python3.10/dist-packages/sklearn/ensemble/_forest.py:424: FutureWarning: `max_features='auto'` has been deprecated in 1.1 and will be removed in 1.3. To keep the past behaviour, explicitly set `max_features='sqrt'` or remove this parameter as it is also the default value for RandomForestClassifiers and ExtraTreesClassifiers.\n",
            "  warn(\n",
            "/usr/local/lib/python3.10/dist-packages/sklearn/ensemble/_forest.py:424: FutureWarning: `max_features='auto'` has been deprecated in 1.1 and will be removed in 1.3. To keep the past behaviour, explicitly set `max_features='sqrt'` or remove this parameter as it is also the default value for RandomForestClassifiers and ExtraTreesClassifiers.\n",
            "  warn(\n",
            "/usr/local/lib/python3.10/dist-packages/sklearn/ensemble/_forest.py:424: FutureWarning: `max_features='auto'` has been deprecated in 1.1 and will be removed in 1.3. To keep the past behaviour, explicitly set `max_features='sqrt'` or remove this parameter as it is also the default value for RandomForestClassifiers and ExtraTreesClassifiers.\n",
            "  warn(\n",
            "/usr/local/lib/python3.10/dist-packages/sklearn/ensemble/_forest.py:424: FutureWarning: `max_features='auto'` has been deprecated in 1.1 and will be removed in 1.3. To keep the past behaviour, explicitly set `max_features='sqrt'` or remove this parameter as it is also the default value for RandomForestClassifiers and ExtraTreesClassifiers.\n",
            "  warn(\n",
            "/usr/local/lib/python3.10/dist-packages/sklearn/ensemble/_forest.py:424: FutureWarning: `max_features='auto'` has been deprecated in 1.1 and will be removed in 1.3. To keep the past behaviour, explicitly set `max_features='sqrt'` or remove this parameter as it is also the default value for RandomForestClassifiers and ExtraTreesClassifiers.\n",
            "  warn(\n",
            "/usr/local/lib/python3.10/dist-packages/sklearn/ensemble/_forest.py:424: FutureWarning: `max_features='auto'` has been deprecated in 1.1 and will be removed in 1.3. To keep the past behaviour, explicitly set `max_features='sqrt'` or remove this parameter as it is also the default value for RandomForestClassifiers and ExtraTreesClassifiers.\n",
            "  warn(\n",
            "/usr/local/lib/python3.10/dist-packages/sklearn/ensemble/_forest.py:424: FutureWarning: `max_features='auto'` has been deprecated in 1.1 and will be removed in 1.3. To keep the past behaviour, explicitly set `max_features='sqrt'` or remove this parameter as it is also the default value for RandomForestClassifiers and ExtraTreesClassifiers.\n",
            "  warn(\n",
            "/usr/local/lib/python3.10/dist-packages/sklearn/ensemble/_forest.py:424: FutureWarning: `max_features='auto'` has been deprecated in 1.1 and will be removed in 1.3. To keep the past behaviour, explicitly set `max_features='sqrt'` or remove this parameter as it is also the default value for RandomForestClassifiers and ExtraTreesClassifiers.\n",
            "  warn(\n",
            "/usr/local/lib/python3.10/dist-packages/sklearn/ensemble/_forest.py:424: FutureWarning: `max_features='auto'` has been deprecated in 1.1 and will be removed in 1.3. To keep the past behaviour, explicitly set `max_features='sqrt'` or remove this parameter as it is also the default value for RandomForestClassifiers and ExtraTreesClassifiers.\n",
            "  warn(\n",
            "/usr/local/lib/python3.10/dist-packages/sklearn/ensemble/_forest.py:424: FutureWarning: `max_features='auto'` has been deprecated in 1.1 and will be removed in 1.3. To keep the past behaviour, explicitly set `max_features='sqrt'` or remove this parameter as it is also the default value for RandomForestClassifiers and ExtraTreesClassifiers.\n",
            "  warn(\n",
            "/usr/local/lib/python3.10/dist-packages/sklearn/ensemble/_forest.py:424: FutureWarning: `max_features='auto'` has been deprecated in 1.1 and will be removed in 1.3. To keep the past behaviour, explicitly set `max_features='sqrt'` or remove this parameter as it is also the default value for RandomForestClassifiers and ExtraTreesClassifiers.\n",
            "  warn(\n",
            "/usr/local/lib/python3.10/dist-packages/sklearn/ensemble/_forest.py:424: FutureWarning: `max_features='auto'` has been deprecated in 1.1 and will be removed in 1.3. To keep the past behaviour, explicitly set `max_features='sqrt'` or remove this parameter as it is also the default value for RandomForestClassifiers and ExtraTreesClassifiers.\n",
            "  warn(\n",
            "/usr/local/lib/python3.10/dist-packages/sklearn/ensemble/_forest.py:424: FutureWarning: `max_features='auto'` has been deprecated in 1.1 and will be removed in 1.3. To keep the past behaviour, explicitly set `max_features='sqrt'` or remove this parameter as it is also the default value for RandomForestClassifiers and ExtraTreesClassifiers.\n",
            "  warn(\n",
            "/usr/local/lib/python3.10/dist-packages/sklearn/ensemble/_forest.py:424: FutureWarning: `max_features='auto'` has been deprecated in 1.1 and will be removed in 1.3. To keep the past behaviour, explicitly set `max_features='sqrt'` or remove this parameter as it is also the default value for RandomForestClassifiers and ExtraTreesClassifiers.\n",
            "  warn(\n",
            "/usr/local/lib/python3.10/dist-packages/sklearn/ensemble/_forest.py:424: FutureWarning: `max_features='auto'` has been deprecated in 1.1 and will be removed in 1.3. To keep the past behaviour, explicitly set `max_features='sqrt'` or remove this parameter as it is also the default value for RandomForestClassifiers and ExtraTreesClassifiers.\n",
            "  warn(\n",
            "/usr/local/lib/python3.10/dist-packages/sklearn/ensemble/_forest.py:424: FutureWarning: `max_features='auto'` has been deprecated in 1.1 and will be removed in 1.3. To keep the past behaviour, explicitly set `max_features='sqrt'` or remove this parameter as it is also the default value for RandomForestClassifiers and ExtraTreesClassifiers.\n",
            "  warn(\n",
            "/usr/local/lib/python3.10/dist-packages/sklearn/ensemble/_forest.py:424: FutureWarning: `max_features='auto'` has been deprecated in 1.1 and will be removed in 1.3. To keep the past behaviour, explicitly set `max_features='sqrt'` or remove this parameter as it is also the default value for RandomForestClassifiers and ExtraTreesClassifiers.\n",
            "  warn(\n",
            "/usr/local/lib/python3.10/dist-packages/sklearn/ensemble/_forest.py:424: FutureWarning: `max_features='auto'` has been deprecated in 1.1 and will be removed in 1.3. To keep the past behaviour, explicitly set `max_features='sqrt'` or remove this parameter as it is also the default value for RandomForestClassifiers and ExtraTreesClassifiers.\n",
            "  warn(\n"
          ]
        },
        {
          "name": "stdout",
          "output_type": "stream",
          "text": [
            "Best Parameters: {'n_estimators': 100, 'min_samples_split': 5, 'min_samples_leaf': 1, 'max_features': 'auto', 'max_depth': None}\n",
            "Best Score: 0.9698687894914311\n"
          ]
        }
      ],
      "source": [
        "import numpy as np\n",
        "from sklearn.ensemble import RandomForestClassifier\n",
        "from sklearn.model_selection import RandomizedSearchCV\n",
        "rf_classifier = RandomForestClassifier()\n",
        "# Define the hyperparameter grid\n",
        "param_grid = {\n",
        "    'n_estimators': [10, 50, 100],\n",
        "    'max_depth': [None, 5, 10],\n",
        "    'min_samples_split': [2, 5, 10],\n",
        "    'min_samples_leaf': [1, 2, 4],\n",
        "    'max_features': ['auto', 'sqrt']\n",
        "}\n",
        "\n",
        "# Perform random search cross-validation\n",
        "random_search = RandomizedSearchCV(rf_classifier, param_distributions=param_grid, n_iter=10, cv=10)\n",
        "random_search.fit(xtr, ytr)\n",
        "\n",
        "# Print the best parameters and score\n",
        "print(\"Best Parameters:\", random_search.best_params_)\n",
        "print(\"Best Score:\", random_search.best_score_)"
      ]
    },
    {
      "cell_type": "code",
      "execution_count": null,
      "metadata": {
        "colab": {
          "base_uri": "https://localhost:8080/"
        },
        "id": "6uP_0wUCH7ib",
        "outputId": "997552db-7aad-4548-f2c0-c9fc4ee34031"
      },
      "outputs": [
        {
          "name": "stderr",
          "output_type": "stream",
          "text": [
            "/usr/local/lib/python3.10/dist-packages/sklearn/ensemble/_forest.py:424: FutureWarning: `max_features='auto'` has been deprecated in 1.1 and will be removed in 1.3. To keep the past behaviour, explicitly set `max_features='sqrt'` or remove this parameter as it is also the default value for RandomForestClassifiers and ExtraTreesClassifiers.\n",
            "  warn(\n"
          ]
        },
        {
          "name": "stdout",
          "output_type": "stream",
          "text": [
            "[[3395    0]\n",
            " [ 164   17]]\n",
            "              precision    recall  f1-score   support\n",
            "\n",
            "           0       0.95      1.00      0.98      3395\n",
            "           1       1.00      0.09      0.17       181\n",
            "\n",
            "    accuracy                           0.95      3576\n",
            "   macro avg       0.98      0.55      0.57      3576\n",
            "weighted avg       0.96      0.95      0.94      3576\n",
            "\n",
            "0.9541387024608501\n"
          ]
        },
        {
          "data": {
            "text/plain": [
              "['/content/drive/MyDrive/IR_project/models/random_forest_model.joblib']"
            ]
          },
          "execution_count": 23,
          "metadata": {},
          "output_type": "execute_result"
        }
      ],
      "source": [
        "from sklearn.ensemble import RandomForestClassifier\n",
        "rfc = RandomForestClassifier(n_estimators=100,min_samples_leaf=1,min_samples_split=5,max_features='auto',max_depth=None)\n",
        "rfc.fit(xtr,ytr)\n",
        "y_pred=rfc.predict(xt)\n",
        "# Evaluate the model\n",
        "print(confusion_matrix(yt, y_pred))\n",
        "print(classification_report(yt, y_pred))\n",
        "print(accuracy_score(yt,y_pred))\n",
        "# joblib.dump(rfc,r'/content/drive/MyDrive/IR_project/models/random_forest_model.joblib')\n"
      ]
    },
    {
      "attachments": {},
      "cell_type": "markdown",
      "metadata": {
        "id": "rEsIdCOCKvwN"
      },
      "source": [
        "Naive Bayes Classifier"
      ]
    },
    {
      "cell_type": "code",
      "execution_count": null,
      "metadata": {
        "colab": {
          "base_uri": "https://localhost:8080/"
        },
        "id": "KjcXEU9sKyQs",
        "outputId": "e0be18f5-b9a7-44ab-a077-09de1f5ffc4b"
      },
      "outputs": [
        {
          "name": "stdout",
          "output_type": "stream",
          "text": [
            "[[2555  840]\n",
            " [  68  113]]\n",
            "              precision    recall  f1-score   support\n",
            "\n",
            "           0       0.97      0.75      0.85      3395\n",
            "           1       0.12      0.62      0.20       181\n",
            "\n",
            "    accuracy                           0.75      3576\n",
            "   macro avg       0.55      0.69      0.52      3576\n",
            "weighted avg       0.93      0.75      0.82      3576\n",
            "\n",
            "0.7460850111856824\n"
          ]
        }
      ],
      "source": [
        "from sklearn.naive_bayes import GaussianNB\n",
        "\n",
        "naive_bayes = GaussianNB()\n",
        "naive_bayes.fit(xtr, ytr)\n",
        "\n",
        "# Make predictions\n",
        "y_pred = naive_bayes.predict(xt)\n",
        "\n",
        "# Evaluate the model\n",
        "print(confusion_matrix(yt, y_pred))\n",
        "print(classification_report(yt, y_pred))\n",
        "print(accuracy_score(yt,y_pred))\n",
        "# joblib.dump(naive_bayes,r'/content/drive/MyDrive/IR_project/models/naive_bayes_model.joblib')"
      ]
    },
    {
      "attachments": {},
      "cell_type": "markdown",
      "metadata": {
        "id": "ynzsPb_xQzTf"
      },
      "source": [
        "Decision Tree classifier"
      ]
    },
    {
      "cell_type": "code",
      "execution_count": null,
      "metadata": {
        "colab": {
          "base_uri": "https://localhost:8080/"
        },
        "id": "B2Xvvy4LQVsI",
        "outputId": "b38fe194-0784-48b5-d62f-15081e7d852d"
      },
      "outputs": [
        {
          "name": "stderr",
          "output_type": "stream",
          "text": [
            "/usr/local/lib/python3.10/dist-packages/sklearn/tree/_classes.py:269: FutureWarning: `max_features='auto'` has been deprecated in 1.1 and will be removed in 1.3. To keep the past behaviour, explicitly set `max_features='sqrt'`.\n",
            "  warnings.warn(\n",
            "/usr/local/lib/python3.10/dist-packages/sklearn/tree/_classes.py:269: FutureWarning: `max_features='auto'` has been deprecated in 1.1 and will be removed in 1.3. To keep the past behaviour, explicitly set `max_features='sqrt'`.\n",
            "  warnings.warn(\n",
            "/usr/local/lib/python3.10/dist-packages/sklearn/tree/_classes.py:269: FutureWarning: `max_features='auto'` has been deprecated in 1.1 and will be removed in 1.3. To keep the past behaviour, explicitly set `max_features='sqrt'`.\n",
            "  warnings.warn(\n",
            "/usr/local/lib/python3.10/dist-packages/sklearn/tree/_classes.py:269: FutureWarning: `max_features='auto'` has been deprecated in 1.1 and will be removed in 1.3. To keep the past behaviour, explicitly set `max_features='sqrt'`.\n",
            "  warnings.warn(\n",
            "/usr/local/lib/python3.10/dist-packages/sklearn/tree/_classes.py:269: FutureWarning: `max_features='auto'` has been deprecated in 1.1 and will be removed in 1.3. To keep the past behaviour, explicitly set `max_features='sqrt'`.\n",
            "  warnings.warn(\n",
            "/usr/local/lib/python3.10/dist-packages/sklearn/tree/_classes.py:269: FutureWarning: `max_features='auto'` has been deprecated in 1.1 and will be removed in 1.3. To keep the past behaviour, explicitly set `max_features='sqrt'`.\n",
            "  warnings.warn(\n",
            "/usr/local/lib/python3.10/dist-packages/sklearn/tree/_classes.py:269: FutureWarning: `max_features='auto'` has been deprecated in 1.1 and will be removed in 1.3. To keep the past behaviour, explicitly set `max_features='sqrt'`.\n",
            "  warnings.warn(\n",
            "/usr/local/lib/python3.10/dist-packages/sklearn/tree/_classes.py:269: FutureWarning: `max_features='auto'` has been deprecated in 1.1 and will be removed in 1.3. To keep the past behaviour, explicitly set `max_features='sqrt'`.\n",
            "  warnings.warn(\n",
            "/usr/local/lib/python3.10/dist-packages/sklearn/tree/_classes.py:269: FutureWarning: `max_features='auto'` has been deprecated in 1.1 and will be removed in 1.3. To keep the past behaviour, explicitly set `max_features='sqrt'`.\n",
            "  warnings.warn(\n",
            "/usr/local/lib/python3.10/dist-packages/sklearn/tree/_classes.py:269: FutureWarning: `max_features='auto'` has been deprecated in 1.1 and will be removed in 1.3. To keep the past behaviour, explicitly set `max_features='sqrt'`.\n",
            "  warnings.warn(\n",
            "/usr/local/lib/python3.10/dist-packages/sklearn/tree/_classes.py:269: FutureWarning: `max_features='auto'` has been deprecated in 1.1 and will be removed in 1.3. To keep the past behaviour, explicitly set `max_features='sqrt'`.\n",
            "  warnings.warn(\n",
            "/usr/local/lib/python3.10/dist-packages/sklearn/tree/_classes.py:269: FutureWarning: `max_features='auto'` has been deprecated in 1.1 and will be removed in 1.3. To keep the past behaviour, explicitly set `max_features='sqrt'`.\n",
            "  warnings.warn(\n",
            "/usr/local/lib/python3.10/dist-packages/sklearn/tree/_classes.py:269: FutureWarning: `max_features='auto'` has been deprecated in 1.1 and will be removed in 1.3. To keep the past behaviour, explicitly set `max_features='sqrt'`.\n",
            "  warnings.warn(\n",
            "/usr/local/lib/python3.10/dist-packages/sklearn/tree/_classes.py:269: FutureWarning: `max_features='auto'` has been deprecated in 1.1 and will be removed in 1.3. To keep the past behaviour, explicitly set `max_features='sqrt'`.\n",
            "  warnings.warn(\n",
            "/usr/local/lib/python3.10/dist-packages/sklearn/tree/_classes.py:269: FutureWarning: `max_features='auto'` has been deprecated in 1.1 and will be removed in 1.3. To keep the past behaviour, explicitly set `max_features='sqrt'`.\n",
            "  warnings.warn(\n",
            "/usr/local/lib/python3.10/dist-packages/sklearn/tree/_classes.py:269: FutureWarning: `max_features='auto'` has been deprecated in 1.1 and will be removed in 1.3. To keep the past behaviour, explicitly set `max_features='sqrt'`.\n",
            "  warnings.warn(\n",
            "/usr/local/lib/python3.10/dist-packages/sklearn/tree/_classes.py:269: FutureWarning: `max_features='auto'` has been deprecated in 1.1 and will be removed in 1.3. To keep the past behaviour, explicitly set `max_features='sqrt'`.\n",
            "  warnings.warn(\n",
            "/usr/local/lib/python3.10/dist-packages/sklearn/tree/_classes.py:269: FutureWarning: `max_features='auto'` has been deprecated in 1.1 and will be removed in 1.3. To keep the past behaviour, explicitly set `max_features='sqrt'`.\n",
            "  warnings.warn(\n",
            "/usr/local/lib/python3.10/dist-packages/sklearn/tree/_classes.py:269: FutureWarning: `max_features='auto'` has been deprecated in 1.1 and will be removed in 1.3. To keep the past behaviour, explicitly set `max_features='sqrt'`.\n",
            "  warnings.warn(\n",
            "/usr/local/lib/python3.10/dist-packages/sklearn/tree/_classes.py:269: FutureWarning: `max_features='auto'` has been deprecated in 1.1 and will be removed in 1.3. To keep the past behaviour, explicitly set `max_features='sqrt'`.\n",
            "  warnings.warn(\n",
            "/usr/local/lib/python3.10/dist-packages/sklearn/tree/_classes.py:269: FutureWarning: `max_features='auto'` has been deprecated in 1.1 and will be removed in 1.3. To keep the past behaviour, explicitly set `max_features='sqrt'`.\n",
            "  warnings.warn(\n",
            "/usr/local/lib/python3.10/dist-packages/sklearn/tree/_classes.py:269: FutureWarning: `max_features='auto'` has been deprecated in 1.1 and will be removed in 1.3. To keep the past behaviour, explicitly set `max_features='sqrt'`.\n",
            "  warnings.warn(\n",
            "/usr/local/lib/python3.10/dist-packages/sklearn/tree/_classes.py:269: FutureWarning: `max_features='auto'` has been deprecated in 1.1 and will be removed in 1.3. To keep the past behaviour, explicitly set `max_features='sqrt'`.\n",
            "  warnings.warn(\n",
            "/usr/local/lib/python3.10/dist-packages/sklearn/tree/_classes.py:269: FutureWarning: `max_features='auto'` has been deprecated in 1.1 and will be removed in 1.3. To keep the past behaviour, explicitly set `max_features='sqrt'`.\n",
            "  warnings.warn(\n",
            "/usr/local/lib/python3.10/dist-packages/sklearn/tree/_classes.py:269: FutureWarning: `max_features='auto'` has been deprecated in 1.1 and will be removed in 1.3. To keep the past behaviour, explicitly set `max_features='sqrt'`.\n",
            "  warnings.warn(\n",
            "/usr/local/lib/python3.10/dist-packages/sklearn/tree/_classes.py:269: FutureWarning: `max_features='auto'` has been deprecated in 1.1 and will be removed in 1.3. To keep the past behaviour, explicitly set `max_features='sqrt'`.\n",
            "  warnings.warn(\n",
            "/usr/local/lib/python3.10/dist-packages/sklearn/tree/_classes.py:269: FutureWarning: `max_features='auto'` has been deprecated in 1.1 and will be removed in 1.3. To keep the past behaviour, explicitly set `max_features='sqrt'`.\n",
            "  warnings.warn(\n",
            "/usr/local/lib/python3.10/dist-packages/sklearn/tree/_classes.py:269: FutureWarning: `max_features='auto'` has been deprecated in 1.1 and will be removed in 1.3. To keep the past behaviour, explicitly set `max_features='sqrt'`.\n",
            "  warnings.warn(\n",
            "/usr/local/lib/python3.10/dist-packages/sklearn/tree/_classes.py:269: FutureWarning: `max_features='auto'` has been deprecated in 1.1 and will be removed in 1.3. To keep the past behaviour, explicitly set `max_features='sqrt'`.\n",
            "  warnings.warn(\n",
            "/usr/local/lib/python3.10/dist-packages/sklearn/tree/_classes.py:269: FutureWarning: `max_features='auto'` has been deprecated in 1.1 and will be removed in 1.3. To keep the past behaviour, explicitly set `max_features='sqrt'`.\n",
            "  warnings.warn(\n",
            "/usr/local/lib/python3.10/dist-packages/sklearn/tree/_classes.py:269: FutureWarning: `max_features='auto'` has been deprecated in 1.1 and will be removed in 1.3. To keep the past behaviour, explicitly set `max_features='sqrt'`.\n",
            "  warnings.warn(\n",
            "/usr/local/lib/python3.10/dist-packages/sklearn/tree/_classes.py:269: FutureWarning: `max_features='auto'` has been deprecated in 1.1 and will be removed in 1.3. To keep the past behaviour, explicitly set `max_features='sqrt'`.\n",
            "  warnings.warn(\n",
            "/usr/local/lib/python3.10/dist-packages/sklearn/tree/_classes.py:269: FutureWarning: `max_features='auto'` has been deprecated in 1.1 and will be removed in 1.3. To keep the past behaviour, explicitly set `max_features='sqrt'`.\n",
            "  warnings.warn(\n",
            "/usr/local/lib/python3.10/dist-packages/sklearn/tree/_classes.py:269: FutureWarning: `max_features='auto'` has been deprecated in 1.1 and will be removed in 1.3. To keep the past behaviour, explicitly set `max_features='sqrt'`.\n",
            "  warnings.warn(\n",
            "/usr/local/lib/python3.10/dist-packages/sklearn/tree/_classes.py:269: FutureWarning: `max_features='auto'` has been deprecated in 1.1 and will be removed in 1.3. To keep the past behaviour, explicitly set `max_features='sqrt'`.\n",
            "  warnings.warn(\n",
            "/usr/local/lib/python3.10/dist-packages/sklearn/tree/_classes.py:269: FutureWarning: `max_features='auto'` has been deprecated in 1.1 and will be removed in 1.3. To keep the past behaviour, explicitly set `max_features='sqrt'`.\n",
            "  warnings.warn(\n",
            "/usr/local/lib/python3.10/dist-packages/sklearn/tree/_classes.py:269: FutureWarning: `max_features='auto'` has been deprecated in 1.1 and will be removed in 1.3. To keep the past behaviour, explicitly set `max_features='sqrt'`.\n",
            "  warnings.warn(\n",
            "/usr/local/lib/python3.10/dist-packages/sklearn/tree/_classes.py:269: FutureWarning: `max_features='auto'` has been deprecated in 1.1 and will be removed in 1.3. To keep the past behaviour, explicitly set `max_features='sqrt'`.\n",
            "  warnings.warn(\n",
            "/usr/local/lib/python3.10/dist-packages/sklearn/tree/_classes.py:269: FutureWarning: `max_features='auto'` has been deprecated in 1.1 and will be removed in 1.3. To keep the past behaviour, explicitly set `max_features='sqrt'`.\n",
            "  warnings.warn(\n",
            "/usr/local/lib/python3.10/dist-packages/sklearn/tree/_classes.py:269: FutureWarning: `max_features='auto'` has been deprecated in 1.1 and will be removed in 1.3. To keep the past behaviour, explicitly set `max_features='sqrt'`.\n",
            "  warnings.warn(\n"
          ]
        },
        {
          "name": "stdout",
          "output_type": "stream",
          "text": [
            "Best Parameters: {'min_samples_split': 2, 'min_samples_leaf': 1, 'max_features': 'sqrt', 'max_depth': 10, 'criterion': 'gini'}\n",
            "Best Score: 0.9609202816749987\n"
          ]
        }
      ],
      "source": [
        "from sklearn.tree import DecisionTreeClassifier\n",
        "# Create a Decision Tree classifier\n",
        "dt_classifier = DecisionTreeClassifier()\n",
        "\n",
        "# Define the hyperparameter grid\n",
        "param_grid = {\n",
        "    'criterion': ['gini', 'entropy'],\n",
        "    'max_depth': [None, 5, 10],\n",
        "    'min_samples_split': [2, 5, 10],\n",
        "    'min_samples_leaf': [1, 2, 4],\n",
        "    'max_features': ['auto', 'sqrt']\n",
        "}\n",
        "\n",
        "# Perform random search cross-validation\n",
        "random_search = RandomizedSearchCV(dt_classifier, param_distributions=param_grid, n_iter=10, cv=10)\n",
        "random_search.fit(xtr, ytr)\n",
        "\n",
        "# Print the best parameters and score\n",
        "print(\"Best Parameters:\", random_search.best_params_)\n",
        "print(\"Best Score:\", random_search.best_score_)"
      ]
    },
    {
      "cell_type": "code",
      "execution_count": null,
      "metadata": {
        "colab": {
          "base_uri": "https://localhost:8080/"
        },
        "id": "iwth83GQQ3Zs",
        "outputId": "95ec232f-ac00-4690-acda-90e271504da2"
      },
      "outputs": [
        {
          "name": "stdout",
          "output_type": "stream",
          "text": [
            "[[3342   53]\n",
            " [ 152   29]]\n",
            "              precision    recall  f1-score   support\n",
            "\n",
            "           0       0.96      0.98      0.97      3395\n",
            "           1       0.35      0.16      0.22       181\n",
            "\n",
            "    accuracy                           0.94      3576\n",
            "   macro avg       0.66      0.57      0.60      3576\n",
            "weighted avg       0.93      0.94      0.93      3576\n",
            "\n",
            "0.9426733780760627\n"
          ]
        },
        {
          "data": {
            "text/plain": [
              "['/content/drive/MyDrive/IR_project/models/decision_tree_model.joblib']"
            ]
          },
          "execution_count": 34,
          "metadata": {},
          "output_type": "execute_result"
        }
      ],
      "source": [
        "from sklearn.tree import DecisionTreeClassifier\n",
        "#  Create Decision Tree classifier\n",
        "dt_classifier = DecisionTreeClassifier(min_samples_split=2, min_samples_leaf=1, max_features='sqrt', max_depth=10, criterion='gini')\n",
        "dt_classifier.fit(xtr, ytr)\n",
        "\n",
        "# Make predictions\n",
        "y_pred = dt_classifier.predict(xt)\n",
        "\n",
        "# Evaluate the model\n",
        "print(confusion_matrix(yt, y_pred))\n",
        "print(classification_report(yt, y_pred))\n",
        "print(accuracy_score(yt,y_pred))\n",
        "# joblib.dump(dt_classifier,r'/content/drive/MyDrive/IR_project/models/decision_tree_model.joblib')"
      ]
    },
    {
      "attachments": {},
      "cell_type": "markdown",
      "metadata": {
        "id": "8rS4sLsrRYWv"
      },
      "source": [
        "Support Vector machine Model"
      ]
    },
    {
      "cell_type": "code",
      "execution_count": null,
      "metadata": {
        "colab": {
          "base_uri": "https://localhost:8080/"
        },
        "id": "Bta8EwMGRYGa",
        "outputId": "53838b6c-6a21-48fb-ee1c-2912d4f0d9e4"
      },
      "outputs": [
        {
          "name": "stdout",
          "output_type": "stream",
          "text": [
            "[[3395    0]\n",
            " [ 158   23]]\n",
            "              precision    recall  f1-score   support\n",
            "\n",
            "           0       0.96      1.00      0.98      3395\n",
            "           1       1.00      0.13      0.23       181\n",
            "\n",
            "    accuracy                           0.96      3576\n",
            "   macro avg       0.98      0.56      0.60      3576\n",
            "weighted avg       0.96      0.96      0.94      3576\n",
            "\n",
            "0.9558165548098434\n"
          ]
        }
      ],
      "source": [
        "from sklearn.svm import SVC\n",
        "\n",
        "# Create SVM classifier\n",
        "svc_classifier = SVC()\n",
        "svc_classifier.fit(xtr, ytr)\n",
        "\n",
        "# Make predictions\n",
        "y_pred = svc_classifier.predict(xt)\n",
        "\n",
        "# Evaluate the model\n",
        "print(confusion_matrix(yt, y_pred))\n",
        "print(classification_report(yt, y_pred))\n",
        "print(accuracy_score(yt,y_pred))\n",
        "# joblib.dump(dt_classifier,r'/content/drive/MyDrive/IR_project/models/svc_model.joblib')"
      ]
    },
    {
      "attachments": {},
      "cell_type": "markdown",
      "metadata": {
        "id": "CT-4bUwKT_Gz"
      },
      "source": [
        "MLP classifier"
      ]
    },
    {
      "cell_type": "code",
      "execution_count": null,
      "metadata": {
        "colab": {
          "base_uri": "https://localhost:8080/"
        },
        "id": "6HNcpd30UAux",
        "outputId": "065f289c-983c-420f-fe20-109c609244b3"
      },
      "outputs": [
        {
          "name": "stdout",
          "output_type": "stream",
          "text": [
            "[[3162  233]\n",
            " [ 152   29]]\n",
            "              precision    recall  f1-score   support\n",
            "\n",
            "           0       0.95      0.93      0.94      3395\n",
            "           1       0.11      0.16      0.13       181\n",
            "\n",
            "    accuracy                           0.89      3576\n",
            "   macro avg       0.53      0.55      0.54      3576\n",
            "weighted avg       0.91      0.89      0.90      3576\n",
            "\n",
            "0.892337807606264\n"
          ]
        }
      ],
      "source": [
        "from sklearn.neural_network import MLPClassifier\n",
        "# Create MLP classifier\n",
        "mlp_classifier = MLPClassifier(hidden_layer_sizes=(10, 10, 10), max_iter=1000)\n",
        "mlp_classifier.fit(xtr, ytr)\n",
        "\n",
        "# Make predictions\n",
        "y_pred = mlp_classifier.predict(xt)\n",
        "\n",
        "# Evaluate the model\n",
        "print(confusion_matrix(yt, y_pred))\n",
        "print(classification_report(yt, y_pred))\n",
        "print(accuracy_score(yt,y_pred))\n",
        "# joblib.dump(dt_classifier,r'/content/drive/MyDrive/IR_project/models/mlp_model.joblib')"
      ]
    },
    {
      "attachments": {},
      "cell_type": "markdown",
      "metadata": {
        "id": "bn9aUZgtXMGU"
      },
      "source": [
        "Neural Network Classifier"
      ]
    },
    {
      "cell_type": "code",
      "execution_count": null,
      "metadata": {
        "id": "scpx7ns0YG4s"
      },
      "outputs": [],
      "source": [
        "from tensorflow.keras.callbacks import ModelCheckpoint\n",
        "checkpoint_filepath = '/content/drive/MyDrive/IR_project/models/neural_network_model.h5'\n",
        "checkpoint_callback = ModelCheckpoint(\n",
        "    filepath=checkpoint_filepath,\n",
        "    monitor='val_loss',\n",
        "    mode='min',\n",
        "    save_best_only=True,\n",
        "    verbose=1\n",
        ")"
      ]
    },
    {
      "cell_type": "code",
      "execution_count": null,
      "metadata": {
        "colab": {
          "base_uri": "https://localhost:8080/"
        },
        "id": "5GKFdYc_XOeL",
        "outputId": "8c8a2661-dbcb-40a1-b0aa-b6190c16517d"
      },
      "outputs": [
        {
          "name": "stdout",
          "output_type": "stream",
          "text": [
            "Epoch 1/50\n",
            "174/179 [============================>.] - ETA: 0s - loss: 0.6048 - accuracy: 0.6220\n",
            "Epoch 1: val_loss improved from inf to 0.60686, saving model to /content/drive/MyDrive/IR_project/models/neural_network_model.h5\n",
            "179/179 [==============================] - 2s 4ms/step - loss: 0.6042 - accuracy: 0.6254 - val_loss: 0.6069 - val_accuracy: 0.7574\n",
            "Epoch 2/50\n",
            "155/179 [========================>.....] - ETA: 0s - loss: 0.4641 - accuracy: 0.8058\n",
            "Epoch 2: val_loss improved from 0.60686 to 0.40171, saving model to /content/drive/MyDrive/IR_project/models/neural_network_model.h5\n",
            "179/179 [==============================] - 0s 3ms/step - loss: 0.4529 - accuracy: 0.8130 - val_loss: 0.4017 - val_accuracy: 0.8542\n",
            "Epoch 3/50\n",
            "177/179 [============================>.] - ETA: 0s - loss: 0.3519 - accuracy: 0.8677\n",
            "Epoch 3: val_loss improved from 0.40171 to 0.35510, saving model to /content/drive/MyDrive/IR_project/models/neural_network_model.h5\n",
            "179/179 [==============================] - 1s 3ms/step - loss: 0.3522 - accuracy: 0.8679 - val_loss: 0.3551 - val_accuracy: 0.8588\n",
            "Epoch 4/50\n",
            "174/179 [============================>.] - ETA: 0s - loss: 0.2941 - accuracy: 0.8854\n",
            "Epoch 4: val_loss improved from 0.35510 to 0.29955, saving model to /content/drive/MyDrive/IR_project/models/neural_network_model.h5\n",
            "179/179 [==============================] - 1s 3ms/step - loss: 0.2953 - accuracy: 0.8854 - val_loss: 0.2996 - val_accuracy: 0.8798\n",
            "Epoch 5/50\n",
            "163/179 [==========================>...] - ETA: 0s - loss: 0.2517 - accuracy: 0.9039\n",
            "Epoch 5: val_loss improved from 0.29955 to 0.29776, saving model to /content/drive/MyDrive/IR_project/models/neural_network_model.h5\n",
            "179/179 [==============================] - 0s 3ms/step - loss: 0.2548 - accuracy: 0.9040 - val_loss: 0.2978 - val_accuracy: 0.8805\n",
            "Epoch 6/50\n",
            "160/179 [=========================>....] - ETA: 0s - loss: 0.2185 - accuracy: 0.9111\n",
            "Epoch 6: val_loss improved from 0.29776 to 0.28888, saving model to /content/drive/MyDrive/IR_project/models/neural_network_model.h5\n",
            "179/179 [==============================] - 0s 3ms/step - loss: 0.2224 - accuracy: 0.9111 - val_loss: 0.2889 - val_accuracy: 0.8902\n",
            "Epoch 7/50\n",
            "167/179 [==========================>...] - ETA: 0s - loss: 0.1906 - accuracy: 0.9251\n",
            "Epoch 7: val_loss improved from 0.28888 to 0.26528, saving model to /content/drive/MyDrive/IR_project/models/neural_network_model.h5\n",
            "179/179 [==============================] - 0s 3ms/step - loss: 0.1937 - accuracy: 0.9248 - val_loss: 0.2653 - val_accuracy: 0.9039\n",
            "Epoch 8/50\n",
            "158/179 [=========================>....] - ETA: 0s - loss: 0.1647 - accuracy: 0.9326\n",
            "Epoch 8: val_loss improved from 0.26528 to 0.24868, saving model to /content/drive/MyDrive/IR_project/models/neural_network_model.h5\n",
            "179/179 [==============================] - 0s 3ms/step - loss: 0.1708 - accuracy: 0.9317 - val_loss: 0.2487 - val_accuracy: 0.9042\n",
            "Epoch 9/50\n",
            "166/179 [==========================>...] - ETA: 0s - loss: 0.1500 - accuracy: 0.9400\n",
            "Epoch 9: val_loss improved from 0.24868 to 0.20297, saving model to /content/drive/MyDrive/IR_project/models/neural_network_model.h5\n",
            "179/179 [==============================] - 1s 4ms/step - loss: 0.1499 - accuracy: 0.9403 - val_loss: 0.2030 - val_accuracy: 0.9259\n",
            "Epoch 10/50\n",
            "178/179 [============================>.] - ETA: 0s - loss: 0.1341 - accuracy: 0.9483\n",
            "Epoch 10: val_loss did not improve from 0.20297\n",
            "179/179 [==============================] - 1s 4ms/step - loss: 0.1338 - accuracy: 0.9483 - val_loss: 0.2163 - val_accuracy: 0.9238\n",
            "Epoch 11/50\n",
            "178/179 [============================>.] - ETA: 0s - loss: 0.1206 - accuracy: 0.9534\n",
            "Epoch 11: val_loss did not improve from 0.20297\n",
            "179/179 [==============================] - 1s 4ms/step - loss: 0.1203 - accuracy: 0.9535 - val_loss: 0.2096 - val_accuracy: 0.9259\n",
            "Epoch 12/50\n",
            "177/179 [============================>.] - ETA: 0s - loss: 0.1087 - accuracy: 0.9562\n",
            "Epoch 12: val_loss improved from 0.20297 to 0.20151, saving model to /content/drive/MyDrive/IR_project/models/neural_network_model.h5\n",
            "179/179 [==============================] - 1s 4ms/step - loss: 0.1087 - accuracy: 0.9563 - val_loss: 0.2015 - val_accuracy: 0.9315\n",
            "Epoch 13/50\n",
            "173/179 [===========================>..] - ETA: 0s - loss: 0.0986 - accuracy: 0.9600\n",
            "Epoch 13: val_loss improved from 0.20151 to 0.18173, saving model to /content/drive/MyDrive/IR_project/models/neural_network_model.h5\n",
            "179/179 [==============================] - 1s 4ms/step - loss: 0.0980 - accuracy: 0.9601 - val_loss: 0.1817 - val_accuracy: 0.9402\n",
            "Epoch 14/50\n",
            "168/179 [===========================>..] - ETA: 0s - loss: 0.0880 - accuracy: 0.9658\n",
            "Epoch 14: val_loss did not improve from 0.18173\n",
            "179/179 [==============================] - 1s 4ms/step - loss: 0.0883 - accuracy: 0.9657 - val_loss: 0.1827 - val_accuracy: 0.9409\n",
            "Epoch 15/50\n",
            "170/179 [===========================>..] - ETA: 0s - loss: 0.0813 - accuracy: 0.9684\n",
            "Epoch 15: val_loss improved from 0.18173 to 0.17251, saving model to /content/drive/MyDrive/IR_project/models/neural_network_model.h5\n",
            "179/179 [==============================] - 0s 3ms/step - loss: 0.0812 - accuracy: 0.9679 - val_loss: 0.1725 - val_accuracy: 0.9455\n",
            "Epoch 16/50\n",
            "154/179 [========================>.....] - ETA: 0s - loss: 0.0693 - accuracy: 0.9742\n",
            "Epoch 16: val_loss did not improve from 0.17251\n",
            "179/179 [==============================] - 0s 2ms/step - loss: 0.0713 - accuracy: 0.9734 - val_loss: 0.1789 - val_accuracy: 0.9441\n",
            "Epoch 17/50\n",
            "157/179 [=========================>....] - ETA: 0s - loss: 0.0638 - accuracy: 0.9752\n",
            "Epoch 17: val_loss did not improve from 0.17251\n",
            "179/179 [==============================] - 0s 2ms/step - loss: 0.0618 - accuracy: 0.9761 - val_loss: 0.1961 - val_accuracy: 0.9409\n",
            "Epoch 18/50\n",
            "162/179 [==========================>...] - ETA: 0s - loss: 0.0554 - accuracy: 0.9779\n",
            "Epoch 18: val_loss did not improve from 0.17251\n",
            "179/179 [==============================] - 0s 3ms/step - loss: 0.0547 - accuracy: 0.9782 - val_loss: 0.1778 - val_accuracy: 0.9479\n",
            "Epoch 19/50\n",
            "170/179 [===========================>..] - ETA: 0s - loss: 0.0501 - accuracy: 0.9801\n",
            "Epoch 19: val_loss did not improve from 0.17251\n",
            "179/179 [==============================] - 0s 3ms/step - loss: 0.0503 - accuracy: 0.9802 - val_loss: 0.1739 - val_accuracy: 0.9511\n",
            "Epoch 20/50\n",
            "169/179 [===========================>..] - ETA: 0s - loss: 0.0435 - accuracy: 0.9826\n",
            "Epoch 20: val_loss did not improve from 0.17251\n",
            "179/179 [==============================] - 0s 3ms/step - loss: 0.0447 - accuracy: 0.9821 - val_loss: 0.1798 - val_accuracy: 0.9556\n",
            "Epoch 21/50\n",
            "166/179 [==========================>...] - ETA: 0s - loss: 0.0425 - accuracy: 0.9832\n",
            "Epoch 21: val_loss did not improve from 0.17251\n",
            "179/179 [==============================] - 0s 2ms/step - loss: 0.0413 - accuracy: 0.9835 - val_loss: 0.1986 - val_accuracy: 0.9493\n",
            "Epoch 22/50\n",
            "167/179 [==========================>...] - ETA: 0s - loss: 0.0337 - accuracy: 0.9871\n",
            "Epoch 22: val_loss did not improve from 0.17251\n",
            "179/179 [==============================] - 0s 2ms/step - loss: 0.0339 - accuracy: 0.9869 - val_loss: 0.1996 - val_accuracy: 0.9535\n",
            "Epoch 23/50\n",
            "160/179 [=========================>....] - ETA: 0s - loss: 0.0302 - accuracy: 0.9887\n",
            "Epoch 23: val_loss did not improve from 0.17251\n",
            "179/179 [==============================] - 0s 2ms/step - loss: 0.0297 - accuracy: 0.9888 - val_loss: 0.2089 - val_accuracy: 0.9521\n",
            "Epoch 24/50\n",
            "159/179 [=========================>....] - ETA: 0s - loss: 0.0264 - accuracy: 0.9893\n",
            "Epoch 24: val_loss did not improve from 0.17251\n",
            "179/179 [==============================] - 0s 2ms/step - loss: 0.0261 - accuracy: 0.9894 - val_loss: 0.2075 - val_accuracy: 0.9532\n",
            "Epoch 25/50\n",
            "153/179 [========================>.....] - ETA: 0s - loss: 0.0224 - accuracy: 0.9919\n",
            "Epoch 25: val_loss did not improve from 0.17251\n",
            "179/179 [==============================] - 0s 2ms/step - loss: 0.0226 - accuracy: 0.9917 - val_loss: 0.2133 - val_accuracy: 0.9549\n",
            "Epoch 26/50\n",
            "165/179 [==========================>...] - ETA: 0s - loss: 0.0184 - accuracy: 0.9934\n",
            "Epoch 26: val_loss did not improve from 0.17251\n",
            "179/179 [==============================] - 0s 2ms/step - loss: 0.0196 - accuracy: 0.9933 - val_loss: 0.2145 - val_accuracy: 0.9584\n",
            "Epoch 27/50\n",
            "156/179 [=========================>....] - ETA: 0s - loss: 0.0160 - accuracy: 0.9953\n",
            "Epoch 27: val_loss did not improve from 0.17251\n",
            "179/179 [==============================] - 1s 3ms/step - loss: 0.0166 - accuracy: 0.9949 - val_loss: 0.2263 - val_accuracy: 0.9588\n",
            "Epoch 28/50\n",
            "170/179 [===========================>..] - ETA: 0s - loss: 0.0155 - accuracy: 0.9954\n",
            "Epoch 28: val_loss did not improve from 0.17251\n",
            "179/179 [==============================] - 0s 3ms/step - loss: 0.0151 - accuracy: 0.9956 - val_loss: 0.2399 - val_accuracy: 0.9584\n",
            "Epoch 29/50\n",
            "168/179 [===========================>..] - ETA: 0s - loss: 0.0138 - accuracy: 0.9962\n",
            "Epoch 29: val_loss did not improve from 0.17251\n",
            "179/179 [==============================] - 0s 3ms/step - loss: 0.0139 - accuracy: 0.9962 - val_loss: 0.2463 - val_accuracy: 0.9574\n",
            "Epoch 30/50\n",
            "175/179 [============================>.] - ETA: 0s - loss: 0.0118 - accuracy: 0.9969\n",
            "Epoch 30: val_loss did not improve from 0.17251\n",
            "179/179 [==============================] - 0s 3ms/step - loss: 0.0129 - accuracy: 0.9966 - val_loss: 0.2677 - val_accuracy: 0.9556\n",
            "Epoch 31/50\n",
            "170/179 [===========================>..] - ETA: 0s - loss: 0.0143 - accuracy: 0.9953\n",
            "Epoch 31: val_loss did not improve from 0.17251\n",
            "179/179 [==============================] - 0s 3ms/step - loss: 0.0145 - accuracy: 0.9952 - val_loss: 0.2545 - val_accuracy: 0.9581\n",
            "Epoch 32/50\n",
            "164/179 [==========================>...] - ETA: 0s - loss: 0.0126 - accuracy: 0.9962\n",
            "Epoch 32: val_loss did not improve from 0.17251\n",
            "179/179 [==============================] - 0s 2ms/step - loss: 0.0128 - accuracy: 0.9962 - val_loss: 0.2718 - val_accuracy: 0.9560\n",
            "Epoch 33/50\n",
            "171/179 [===========================>..] - ETA: 0s - loss: 0.0095 - accuracy: 0.9979\n",
            "Epoch 33: val_loss did not improve from 0.17251\n",
            "179/179 [==============================] - 1s 3ms/step - loss: 0.0094 - accuracy: 0.9978 - val_loss: 0.2719 - val_accuracy: 0.9602\n",
            "Epoch 34/50\n",
            "179/179 [==============================] - ETA: 0s - loss: 0.0075 - accuracy: 0.9983\n",
            "Epoch 34: val_loss did not improve from 0.17251\n",
            "179/179 [==============================] - 0s 3ms/step - loss: 0.0075 - accuracy: 0.9983 - val_loss: 0.2762 - val_accuracy: 0.9581\n",
            "Epoch 35/50\n",
            "172/179 [===========================>..] - ETA: 0s - loss: 0.0060 - accuracy: 0.9991\n",
            "Epoch 35: val_loss did not improve from 0.17251\n",
            "179/179 [==============================] - 1s 3ms/step - loss: 0.0063 - accuracy: 0.9990 - val_loss: 0.2861 - val_accuracy: 0.9584\n",
            "Epoch 36/50\n",
            "175/179 [============================>.] - ETA: 0s - loss: 0.0055 - accuracy: 0.9991\n",
            "Epoch 36: val_loss did not improve from 0.17251\n",
            "179/179 [==============================] - 1s 5ms/step - loss: 0.0054 - accuracy: 0.9991 - val_loss: 0.2878 - val_accuracy: 0.9588\n",
            "Epoch 37/50\n",
            "177/179 [============================>.] - ETA: 0s - loss: 0.0050 - accuracy: 0.9989\n",
            "Epoch 37: val_loss did not improve from 0.17251\n",
            "179/179 [==============================] - 1s 5ms/step - loss: 0.0050 - accuracy: 0.9990 - val_loss: 0.2953 - val_accuracy: 0.9595\n",
            "Epoch 38/50\n",
            "165/179 [==========================>...] - ETA: 0s - loss: 0.0050 - accuracy: 0.9991\n",
            "Epoch 38: val_loss did not improve from 0.17251\n",
            "179/179 [==============================] - 1s 4ms/step - loss: 0.0050 - accuracy: 0.9990 - val_loss: 0.2981 - val_accuracy: 0.9609\n",
            "Epoch 39/50\n",
            "173/179 [===========================>..] - ETA: 0s - loss: 0.0037 - accuracy: 0.9994\n",
            "Epoch 39: val_loss did not improve from 0.17251\n",
            "179/179 [==============================] - 1s 4ms/step - loss: 0.0037 - accuracy: 0.9994 - val_loss: 0.3051 - val_accuracy: 0.9616\n",
            "Epoch 40/50\n",
            "164/179 [==========================>...] - ETA: 0s - loss: 0.0042 - accuracy: 0.9990\n",
            "Epoch 40: val_loss did not improve from 0.17251\n",
            "179/179 [==============================] - 1s 3ms/step - loss: 0.0055 - accuracy: 0.9985 - val_loss: 0.4000 - val_accuracy: 0.9451\n",
            "Epoch 41/50\n",
            "178/179 [============================>.] - ETA: 0s - loss: 0.0873 - accuracy: 0.9680\n",
            "Epoch 41: val_loss did not improve from 0.17251\n",
            "179/179 [==============================] - 1s 4ms/step - loss: 0.0875 - accuracy: 0.9678 - val_loss: 0.3383 - val_accuracy: 0.9430\n",
            "Epoch 42/50\n",
            "175/179 [============================>.] - ETA: 0s - loss: 0.0721 - accuracy: 0.9757\n",
            "Epoch 42: val_loss did not improve from 0.17251\n",
            "179/179 [==============================] - 0s 3ms/step - loss: 0.0710 - accuracy: 0.9759 - val_loss: 0.2948 - val_accuracy: 0.9476\n",
            "Epoch 43/50\n",
            "160/179 [=========================>....] - ETA: 0s - loss: 0.0234 - accuracy: 0.9896\n",
            "Epoch 43: val_loss did not improve from 0.17251\n",
            "179/179 [==============================] - 0s 3ms/step - loss: 0.0224 - accuracy: 0.9901 - val_loss: 0.2698 - val_accuracy: 0.9563\n",
            "Epoch 44/50\n",
            "178/179 [============================>.] - ETA: 0s - loss: 0.0108 - accuracy: 0.9958\n",
            "Epoch 44: val_loss did not improve from 0.17251\n",
            "179/179 [==============================] - 0s 3ms/step - loss: 0.0108 - accuracy: 0.9958 - val_loss: 0.2737 - val_accuracy: 0.9581\n",
            "Epoch 45/50\n",
            "178/179 [============================>.] - ETA: 0s - loss: 0.0074 - accuracy: 0.9979\n",
            "Epoch 45: val_loss did not improve from 0.17251\n",
            "179/179 [==============================] - 1s 3ms/step - loss: 0.0074 - accuracy: 0.9979 - val_loss: 0.2767 - val_accuracy: 0.9591\n",
            "Epoch 46/50\n",
            "173/179 [===========================>..] - ETA: 0s - loss: 0.0059 - accuracy: 0.9987\n",
            "Epoch 46: val_loss did not improve from 0.17251\n",
            "179/179 [==============================] - 0s 3ms/step - loss: 0.0058 - accuracy: 0.9988 - val_loss: 0.2814 - val_accuracy: 0.9595\n",
            "Epoch 47/50\n",
            "173/179 [===========================>..] - ETA: 0s - loss: 0.0048 - accuracy: 0.9991\n",
            "Epoch 47: val_loss did not improve from 0.17251\n",
            "179/179 [==============================] - 0s 3ms/step - loss: 0.0047 - accuracy: 0.9991 - val_loss: 0.2873 - val_accuracy: 0.9609\n",
            "Epoch 48/50\n",
            "152/179 [========================>.....] - ETA: 0s - loss: 0.0040 - accuracy: 0.9993\n",
            "Epoch 48: val_loss did not improve from 0.17251\n",
            "179/179 [==============================] - 0s 2ms/step - loss: 0.0040 - accuracy: 0.9993 - val_loss: 0.2913 - val_accuracy: 0.9612\n",
            "Epoch 49/50\n",
            "155/179 [========================>.....] - ETA: 0s - loss: 0.0032 - accuracy: 0.9997\n",
            "Epoch 49: val_loss did not improve from 0.17251\n",
            "179/179 [==============================] - 0s 2ms/step - loss: 0.0034 - accuracy: 0.9995 - val_loss: 0.2951 - val_accuracy: 0.9612\n",
            "Epoch 50/50\n",
            "165/179 [==========================>...] - ETA: 0s - loss: 0.0029 - accuracy: 0.9996\n",
            "Epoch 50: val_loss did not improve from 0.17251\n",
            "179/179 [==============================] - 0s 2ms/step - loss: 0.0030 - accuracy: 0.9996 - val_loss: 0.3009 - val_accuracy: 0.9616\n"
          ]
        },
        {
          "data": {
            "text/plain": [
              "<keras.callbacks.History at 0x7fe429e018d0>"
            ]
          },
          "execution_count": 74,
          "metadata": {},
          "output_type": "execute_result"
        }
      ],
      "source": [
        "# Import necessary libraries\n",
        "from keras.models import Sequential\n",
        "from keras.layers import Dense\n",
        "from keras.layers import Dense, Dropout\n",
        "from sklearn.utils import class_weight\n",
        "\n",
        "class_weights = class_weight.compute_class_weight(class_weight='balanced',classes=np.unique(ytr),y=ytr)\n",
        "class_weights = dict(enumerate(class_weights))\n",
        "\n",
        "\n",
        "# Create Neural Network model\n",
        "model = Sequential()\n",
        "model.add(Dense(20, activation='relu'))\n",
        "model.add(Dense(10, activation='relu'))\n",
        "model.add(Dense(5, activation='relu'))\n",
        "model.add(Dense(1, activation='sigmoid'))\n",
        "\n",
        "# Compile model\n",
        "model.compile(loss='binary_crossentropy', optimizer='adam', metrics=['accuracy'])\n",
        "# Fit the model\n",
        "model.fit(xtr, ytr, epochs=50,validation_split=0.2 ,batch_size=64,callbacks=[checkpoint_callback],class_weight=class_weights)"
      ]
    },
    {
      "cell_type": "code",
      "execution_count": null,
      "metadata": {
        "colab": {
          "base_uri": "https://localhost:8080/"
        },
        "id": "jJT1cIJkYbML",
        "outputId": "a6308b77-2ec4-402f-c5b6-d42d40c62bef"
      },
      "outputs": [
        {
          "name": "stdout",
          "output_type": "stream",
          "text": [
            "112/112 [==============================] - 0s 1ms/step\n",
            "112/112 [==============================] - 0s 2ms/step - loss: 0.3083 - accuracy: 0.9130\n",
            "Test loss: 0.3083372116088867\n",
            "Test accuracy: 0.9130313396453857\n",
            "\n",
            "[[3187  208]\n",
            " [ 103   78]]\n",
            "              precision    recall  f1-score   support\n",
            "\n",
            "           0       0.97      0.94      0.95      3395\n",
            "           1       0.27      0.43      0.33       181\n",
            "\n",
            "    accuracy                           0.91      3576\n",
            "   macro avg       0.62      0.68      0.64      3576\n",
            "weighted avg       0.93      0.91      0.92      3576\n",
            "\n"
          ]
        }
      ],
      "source": [
        "from tensorflow.keras.models import load_model\n",
        "loaded_model = load_model('/content/drive/MyDrive/IR_project/models/neural_network_model.h5')\n",
        "pred = loaded_model.predict(xt)\n",
        "loss, acc = loaded_model.evaluate(xt,yt, batch_size=32)\n",
        "\n",
        "print('Test loss:', loss)\n",
        "print('Test accuracy:', acc,end = '\\n\\n')\n",
        "\n",
        "for i,x in enumerate(pred):\n",
        "  if x >= 0.5:\n",
        "    pred[i] = 1\n",
        "  else:\n",
        "    pred[i] = 0\n",
        "cm = confusion_matrix(yt,pred)\n",
        "print(cm)\n",
        "cr = classification_report(yt,pred)\n",
        "print(cr)"
      ]
    },
    {
      "attachments": {},
      "cell_type": "markdown",
      "metadata": {
        "id": "vnwqnwFMfeTX"
      },
      "source": [
        "## CNN model with word level embedding"
      ]
    },
    {
      "cell_type": "code",
      "execution_count": null,
      "metadata": {
        "id": "6wwacCQvjSlG"
      },
      "outputs": [],
      "source": [
        "# from sklearn.model_selection import train_test_split\n",
        "\n",
        "# xtr,xt,ytr,yt=train_test_split(df['text'],df['fraudulent'],test_size=0.2,random_state=42)"
      ]
    },
    {
      "cell_type": "code",
      "execution_count": null,
      "metadata": {
        "id": "k7T8cpr4iK0V"
      },
      "outputs": [],
      "source": [
        "# import pandas as pd\n",
        "# import pickle\n",
        "# import numpy as np\n",
        "# from sklearn.preprocessing import LabelEncoder as le\n",
        "# import tensorflow as tf\n",
        "# from sklearn.metrics import confusion_matrix,classification_report\n",
        "# from tensorflow.keras.models import load_model\n",
        "# from tensorflow.keras.callbacks import ModelCheckpoint\n",
        "# from tensorflow.keras import layers\n",
        "# from gensim.models import KeyedVectors"
      ]
    },
    {
      "cell_type": "code",
      "execution_count": null,
      "metadata": {
        "id": "ecx4YzzPfkFu"
      },
      "outputs": [],
      "source": [
        "# max_length = 50\n",
        "# embedding_dim = 50\n",
        "# num_words = 2624"
      ]
    },
    {
      "cell_type": "code",
      "execution_count": null,
      "metadata": {
        "id": "1YvdW6oMiF1y"
      },
      "outputs": [],
      "source": [
        "# glove_file = '/content/drive/MyDrive/FYP-DATA-AND-RESOURCES/Models_and_data/glove.6B.50d.txt'\n",
        "# word_vectors = KeyedVectors.load_word2vec_format(glove_file, binary=False)\n",
        "\n",
        "# # df['processed_text'] = preprocess_text(df)\n",
        "\n",
        "# tokenizer = tf.keras.preprocessing.text.Tokenizer()\n",
        "# tokenizer.fit_on_texts(xtr)\n",
        "# sequences = tokenizer.texts_to_sequences(xtr)\n",
        "# padded_sequences = tf.keras.preprocessing.sequence.pad_sequences(\n",
        "#     sequences, maxlen=max_length, padding='post', truncating='post'\n",
        "# )\n",
        "\n",
        "# with open('/content/drive/MyDrive/IR_project/models/word_level_tokenizer.pickle', 'wb') as handle:\n",
        "#     pickle.dump(tokenizer, handle, protocol=pickle.HIGHEST_PROTOCOL)\n",
        "\n",
        "# word_index = tokenizer.word_index\n",
        "# num_words = len(word_index) + 1\n",
        "# # print(num_words)\n",
        "# embedding_matrix = np.zeros((num_words, embedding_dim))\n",
        "# for word, i in word_index.items():\n",
        "#     if word in word_vectors:\n",
        "#         embedding_matrix[i] = word_vectors[word]"
      ]
    },
    {
      "cell_type": "code",
      "execution_count": null,
      "metadata": {
        "colab": {
          "base_uri": "https://localhost:8080/"
        },
        "id": "64Jp3jUMiVat",
        "outputId": "db4785aa-2b21-4b15-dc84-a9eca332a7f4"
      },
      "outputs": [
        {
          "name": "stdout",
          "output_type": "stream",
          "text": [
            "Average sentence length: 1995.5264261744962\n"
          ]
        }
      ],
      "source": [
        "# sentence_lengths = xtr.apply(lambda x: [len(x) for x in xtr])\n",
        "# avg_sentence_length = sentence_lengths.apply(lambda x: sum(x) / len(x))\n",
        "# print(\"Average sentence length:\", avg_sentence_length.mean())"
      ]
    },
    {
      "cell_type": "code",
      "execution_count": null,
      "metadata": {
        "id": "22yUU3yUiYYp"
      },
      "outputs": [],
      "source": [
        "# checkpoint_filepath = '/content/drive/MyDrive/IR_project/models/cnn_wordlevel.h5'\n",
        "# checkpoint_callback = ModelCheckpoint(\n",
        "#     filepath=checkpoint_filepath,\n",
        "#     monitor='val_accuracy',\n",
        "#     mode='max',\n",
        "#     save_best_only=True,\n",
        "#     verbose=1\n",
        "# )"
      ]
    },
    {
      "cell_type": "code",
      "execution_count": null,
      "metadata": {
        "colab": {
          "base_uri": "https://localhost:8080/"
        },
        "id": "xGii-pNSiadu",
        "outputId": "e1c4cf40-c6ef-49bf-cdcd-f418c9247c34"
      },
      "outputs": [
        {
          "name": "stdout",
          "output_type": "stream",
          "text": [
            "Epoch 1/100\n",
            "403/403 [==============================] - ETA: 0s - loss: 0.8501 - accuracy: 0.9501\n",
            "Epoch 1: val_accuracy improved from -inf to 0.94969, saving model to /content/drive/MyDrive/IR_project/models/cnn_wordlevel.h5\n",
            "403/403 [==============================] - 21s 18ms/step - loss: 0.8501 - accuracy: 0.9501 - val_loss: 0.1357 - val_accuracy: 0.9497\n",
            "Epoch 2/100\n",
            "395/403 [============================>.] - ETA: 0s - loss: 0.1009 - accuracy: 0.9706\n",
            "Epoch 2: val_accuracy improved from 0.94969 to 0.97624, saving model to /content/drive/MyDrive/IR_project/models/cnn_wordlevel.h5\n",
            "403/403 [==============================] - 7s 16ms/step - loss: 0.1004 - accuracy: 0.9708 - val_loss: 0.0987 - val_accuracy: 0.9762\n",
            "Epoch 3/100\n",
            "399/403 [============================>.] - ETA: 0s - loss: 0.0665 - accuracy: 0.9866\n",
            "Epoch 3: val_accuracy improved from 0.97624 to 0.98253, saving model to /content/drive/MyDrive/IR_project/models/cnn_wordlevel.h5\n",
            "403/403 [==============================] - 5s 12ms/step - loss: 0.0674 - accuracy: 0.9864 - val_loss: 0.0943 - val_accuracy: 0.9825\n",
            "Epoch 4/100\n",
            "399/403 [============================>.] - ETA: 0s - loss: 0.0502 - accuracy: 0.9934\n",
            "Epoch 4: val_accuracy did not improve from 0.98253\n",
            "403/403 [==============================] - 3s 7ms/step - loss: 0.0501 - accuracy: 0.9934 - val_loss: 0.0880 - val_accuracy: 0.9811\n",
            "Epoch 5/100\n",
            "399/403 [============================>.] - ETA: 0s - loss: 0.0387 - accuracy: 0.9966\n",
            "Epoch 5: val_accuracy did not improve from 0.98253\n",
            "403/403 [==============================] - 2s 6ms/step - loss: 0.0388 - accuracy: 0.9965 - val_loss: 0.1156 - val_accuracy: 0.9804\n",
            "Epoch 6/100\n",
            "396/403 [============================>.] - ETA: 0s - loss: 0.0334 - accuracy: 0.9967\n",
            "Epoch 6: val_accuracy did not improve from 0.98253\n",
            "403/403 [==============================] - 2s 6ms/step - loss: 0.0334 - accuracy: 0.9967 - val_loss: 0.0886 - val_accuracy: 0.9818\n",
            "Epoch 7/100\n",
            "402/403 [============================>.] - ETA: 0s - loss: 0.0271 - accuracy: 0.9986\n",
            "Epoch 7: val_accuracy improved from 0.98253 to 0.98393, saving model to /content/drive/MyDrive/IR_project/models/cnn_wordlevel.h5\n",
            "403/403 [==============================] - 8s 21ms/step - loss: 0.0270 - accuracy: 0.9986 - val_loss: 0.1416 - val_accuracy: 0.9839\n",
            "Epoch 8/100\n",
            "396/403 [============================>.] - ETA: 0s - loss: 0.0313 - accuracy: 0.9961\n",
            "Epoch 8: val_accuracy did not improve from 0.98393\n",
            "403/403 [==============================] - 2s 5ms/step - loss: 0.0311 - accuracy: 0.9962 - val_loss: 0.1157 - val_accuracy: 0.9839\n",
            "Epoch 9/100\n",
            "396/403 [============================>.] - ETA: 0s - loss: 0.0218 - accuracy: 0.9987\n",
            "Epoch 9: val_accuracy did not improve from 0.98393\n",
            "403/403 [==============================] - 2s 5ms/step - loss: 0.0221 - accuracy: 0.9986 - val_loss: 0.0771 - val_accuracy: 0.9832\n",
            "Epoch 10/100\n",
            "394/403 [============================>.] - ETA: 0s - loss: 0.0178 - accuracy: 0.9991\n",
            "Epoch 10: val_accuracy did not improve from 0.98393\n",
            "403/403 [==============================] - 3s 6ms/step - loss: 0.0180 - accuracy: 0.9991 - val_loss: 0.0980 - val_accuracy: 0.9811\n",
            "Epoch 11/100\n",
            "401/403 [============================>.] - ETA: 0s - loss: 0.0155 - accuracy: 0.9994\n",
            "Epoch 11: val_accuracy improved from 0.98393 to 0.98463, saving model to /content/drive/MyDrive/IR_project/models/cnn_wordlevel.h5\n",
            "403/403 [==============================] - 6s 15ms/step - loss: 0.0155 - accuracy: 0.9994 - val_loss: 0.1065 - val_accuracy: 0.9846\n",
            "Epoch 12/100\n",
            "398/403 [============================>.] - ETA: 0s - loss: 0.0267 - accuracy: 0.9959\n",
            "Epoch 12: val_accuracy did not improve from 0.98463\n",
            "403/403 [==============================] - 2s 6ms/step - loss: 0.0266 - accuracy: 0.9960 - val_loss: 0.1891 - val_accuracy: 0.9832\n",
            "Epoch 13/100\n",
            "403/403 [==============================] - ETA: 0s - loss: 0.0222 - accuracy: 0.9972\n",
            "Epoch 13: val_accuracy did not improve from 0.98463\n",
            "403/403 [==============================] - 2s 6ms/step - loss: 0.0222 - accuracy: 0.9972 - val_loss: 0.1292 - val_accuracy: 0.9679\n",
            "Epoch 14/100\n",
            "400/403 [============================>.] - ETA: 0s - loss: 0.0223 - accuracy: 0.9971\n",
            "Epoch 14: val_accuracy did not improve from 0.98463\n",
            "403/403 [==============================] - 2s 6ms/step - loss: 0.0223 - accuracy: 0.9971 - val_loss: 0.1634 - val_accuracy: 0.9846\n",
            "Epoch 15/100\n",
            "401/403 [============================>.] - ETA: 0s - loss: 0.0170 - accuracy: 0.9983\n",
            "Epoch 15: val_accuracy did not improve from 0.98463\n",
            "403/403 [==============================] - 2s 6ms/step - loss: 0.0170 - accuracy: 0.9983 - val_loss: 0.1355 - val_accuracy: 0.9832\n",
            "Epoch 16/100\n",
            "402/403 [============================>.] - ETA: 0s - loss: 0.0160 - accuracy: 0.9984\n",
            "Epoch 16: val_accuracy did not improve from 0.98463\n",
            "403/403 [==============================] - 3s 7ms/step - loss: 0.0160 - accuracy: 0.9984 - val_loss: 0.2111 - val_accuracy: 0.9818\n",
            "Epoch 17/100\n",
            "401/403 [============================>.] - ETA: 0s - loss: 0.0126 - accuracy: 0.9994\n",
            "Epoch 17: val_accuracy did not improve from 0.98463\n",
            "403/403 [==============================] - 3s 7ms/step - loss: 0.0126 - accuracy: 0.9994 - val_loss: 0.1170 - val_accuracy: 0.9832\n",
            "Epoch 18/100\n",
            "403/403 [==============================] - ETA: 0s - loss: 0.0092 - accuracy: 0.9995\n",
            "Epoch 18: val_accuracy did not improve from 0.98463\n",
            "403/403 [==============================] - 2s 5ms/step - loss: 0.0092 - accuracy: 0.9995 - val_loss: 0.1651 - val_accuracy: 0.9839\n",
            "Epoch 19/100\n",
            "401/403 [============================>.] - ETA: 0s - loss: 0.0094 - accuracy: 0.9993\n",
            "Epoch 19: val_accuracy did not improve from 0.98463\n",
            "403/403 [==============================] - 2s 5ms/step - loss: 0.0093 - accuracy: 0.9993 - val_loss: 0.1480 - val_accuracy: 0.9811\n",
            "Epoch 20/100\n",
            "394/403 [============================>.] - ETA: 0s - loss: 0.0091 - accuracy: 0.9993\n",
            "Epoch 20: val_accuracy did not improve from 0.98463\n",
            "403/403 [==============================] - 2s 5ms/step - loss: 0.0090 - accuracy: 0.9993 - val_loss: 0.1410 - val_accuracy: 0.9846\n",
            "Epoch 21/100\n",
            "396/403 [============================>.] - ETA: 0s - loss: 0.0081 - accuracy: 0.9995\n",
            "Epoch 21: val_accuracy improved from 0.98463 to 0.98532, saving model to /content/drive/MyDrive/IR_project/models/cnn_wordlevel.h5\n",
            "403/403 [==============================] - 6s 15ms/step - loss: 0.0082 - accuracy: 0.9995 - val_loss: 0.1785 - val_accuracy: 0.9853\n",
            "Epoch 22/100\n",
            "399/403 [============================>.] - ETA: 0s - loss: 0.0075 - accuracy: 0.9995\n",
            "Epoch 22: val_accuracy did not improve from 0.98532\n",
            "403/403 [==============================] - 2s 6ms/step - loss: 0.0075 - accuracy: 0.9995 - val_loss: 0.1984 - val_accuracy: 0.9839\n",
            "Epoch 23/100\n",
            "399/403 [============================>.] - ETA: 0s - loss: 0.0243 - accuracy: 0.9956\n",
            "Epoch 23: val_accuracy did not improve from 0.98532\n",
            "403/403 [==============================] - 2s 6ms/step - loss: 0.0242 - accuracy: 0.9956 - val_loss: 0.2098 - val_accuracy: 0.9818\n",
            "Epoch 24/100\n",
            "397/403 [============================>.] - ETA: 0s - loss: 0.0189 - accuracy: 0.9972\n",
            "Epoch 24: val_accuracy did not improve from 0.98532\n",
            "403/403 [==============================] - 2s 6ms/step - loss: 0.0188 - accuracy: 0.9972 - val_loss: 0.1381 - val_accuracy: 0.9790\n",
            "Epoch 25/100\n",
            "395/403 [============================>.] - ETA: 0s - loss: 0.0126 - accuracy: 0.9990\n",
            "Epoch 25: val_accuracy did not improve from 0.98532\n",
            "403/403 [==============================] - 3s 6ms/step - loss: 0.0130 - accuracy: 0.9988 - val_loss: 0.1785 - val_accuracy: 0.9825\n",
            "Epoch 26/100\n",
            "397/403 [============================>.] - ETA: 0s - loss: 0.0091 - accuracy: 0.9993\n",
            "Epoch 26: val_accuracy improved from 0.98532 to 0.98812, saving model to /content/drive/MyDrive/IR_project/models/cnn_wordlevel.h5\n",
            "403/403 [==============================] - 8s 20ms/step - loss: 0.0091 - accuracy: 0.9993 - val_loss: 0.1525 - val_accuracy: 0.9881\n",
            "Epoch 27/100\n",
            "400/403 [============================>.] - ETA: 0s - loss: 0.0127 - accuracy: 0.9980\n",
            "Epoch 27: val_accuracy did not improve from 0.98812\n",
            "403/403 [==============================] - 2s 6ms/step - loss: 0.0127 - accuracy: 0.9980 - val_loss: 0.1788 - val_accuracy: 0.9867\n",
            "Epoch 28/100\n",
            "394/403 [============================>.] - ETA: 0s - loss: 0.0096 - accuracy: 0.9987\n",
            "Epoch 28: val_accuracy did not improve from 0.98812\n",
            "403/403 [==============================] - 2s 6ms/step - loss: 0.0096 - accuracy: 0.9988 - val_loss: 0.1770 - val_accuracy: 0.9853\n",
            "Epoch 29/100\n",
            "399/403 [============================>.] - ETA: 0s - loss: 0.0134 - accuracy: 0.9979\n",
            "Epoch 29: val_accuracy did not improve from 0.98812\n",
            "403/403 [==============================] - 3s 7ms/step - loss: 0.0134 - accuracy: 0.9979 - val_loss: 0.1606 - val_accuracy: 0.9860\n",
            "Epoch 30/100\n",
            "397/403 [============================>.] - ETA: 0s - loss: 0.0077 - accuracy: 0.9993\n",
            "Epoch 30: val_accuracy did not improve from 0.98812\n",
            "403/403 [==============================] - 3s 8ms/step - loss: 0.0077 - accuracy: 0.9993 - val_loss: 0.1787 - val_accuracy: 0.9867\n",
            "Epoch 31/100\n",
            "395/403 [============================>.] - ETA: 0s - loss: 0.0066 - accuracy: 0.9997\n",
            "Epoch 31: val_accuracy did not improve from 0.98812\n",
            "403/403 [==============================] - 2s 6ms/step - loss: 0.0066 - accuracy: 0.9997 - val_loss: 0.1927 - val_accuracy: 0.9839\n",
            "Epoch 32/100\n",
            "400/403 [============================>.] - ETA: 0s - loss: 0.0060 - accuracy: 0.9994\n",
            "Epoch 32: val_accuracy did not improve from 0.98812\n",
            "403/403 [==============================] - 2s 5ms/step - loss: 0.0060 - accuracy: 0.9994 - val_loss: 0.1549 - val_accuracy: 0.9846\n",
            "Epoch 33/100\n",
            "396/403 [============================>.] - ETA: 0s - loss: 0.0183 - accuracy: 0.9961\n",
            "Epoch 33: val_accuracy did not improve from 0.98812\n",
            "403/403 [==============================] - 2s 6ms/step - loss: 0.0181 - accuracy: 0.9961 - val_loss: 0.2263 - val_accuracy: 0.9797\n",
            "Epoch 34/100\n",
            "403/403 [==============================] - ETA: 0s - loss: 0.0138 - accuracy: 0.9985\n",
            "Epoch 34: val_accuracy did not improve from 0.98812\n",
            "403/403 [==============================] - 2s 6ms/step - loss: 0.0138 - accuracy: 0.9985 - val_loss: 0.2157 - val_accuracy: 0.9839\n",
            "Epoch 35/100\n",
            "403/403 [==============================] - ETA: 0s - loss: 0.0089 - accuracy: 0.9987\n",
            "Epoch 35: val_accuracy did not improve from 0.98812\n",
            "403/403 [==============================] - 3s 7ms/step - loss: 0.0089 - accuracy: 0.9987 - val_loss: 0.2006 - val_accuracy: 0.9839\n",
            "Epoch 36/100\n",
            "394/403 [============================>.] - ETA: 0s - loss: 0.0124 - accuracy: 0.9983\n",
            "Epoch 36: val_accuracy did not improve from 0.98812\n",
            "403/403 [==============================] - 3s 7ms/step - loss: 0.0122 - accuracy: 0.9984 - val_loss: 0.2107 - val_accuracy: 0.9832\n",
            "Epoch 37/100\n",
            "403/403 [==============================] - ETA: 0s - loss: 0.0082 - accuracy: 0.9988\n",
            "Epoch 37: val_accuracy did not improve from 0.98812\n",
            "403/403 [==============================] - 2s 6ms/step - loss: 0.0082 - accuracy: 0.9988 - val_loss: 0.3455 - val_accuracy: 0.9832\n",
            "Epoch 38/100\n",
            "394/403 [============================>.] - ETA: 0s - loss: 0.0073 - accuracy: 0.9992\n",
            "Epoch 38: val_accuracy did not improve from 0.98812\n",
            "403/403 [==============================] - 2s 6ms/step - loss: 0.0073 - accuracy: 0.9992 - val_loss: 0.2632 - val_accuracy: 0.9839\n",
            "Epoch 39/100\n",
            "400/403 [============================>.] - ETA: 0s - loss: 0.0067 - accuracy: 0.9993\n",
            "Epoch 39: val_accuracy did not improve from 0.98812\n",
            "403/403 [==============================] - 2s 5ms/step - loss: 0.0067 - accuracy: 0.9993 - val_loss: 0.2869 - val_accuracy: 0.9846\n",
            "Epoch 40/100\n",
            "395/403 [============================>.] - ETA: 0s - loss: 0.0095 - accuracy: 0.9981\n",
            "Epoch 40: val_accuracy did not improve from 0.98812\n",
            "403/403 [==============================] - 2s 5ms/step - loss: 0.0096 - accuracy: 0.9981 - val_loss: 0.5718 - val_accuracy: 0.9839\n",
            "Epoch 41/100\n",
            "396/403 [============================>.] - ETA: 0s - loss: 0.0152 - accuracy: 0.9967\n",
            "Epoch 41: val_accuracy did not improve from 0.98812\n",
            "403/403 [==============================] - 3s 7ms/step - loss: 0.0157 - accuracy: 0.9967 - val_loss: 0.3098 - val_accuracy: 0.9811\n",
            "Epoch 42/100\n",
            "395/403 [============================>.] - ETA: 0s - loss: 0.0129 - accuracy: 0.9983\n",
            "Epoch 42: val_accuracy did not improve from 0.98812\n",
            "403/403 [==============================] - 3s 6ms/step - loss: 0.0128 - accuracy: 0.9984 - val_loss: 0.3696 - val_accuracy: 0.9839\n",
            "Epoch 43/100\n",
            "401/403 [============================>.] - ETA: 0s - loss: 0.0084 - accuracy: 0.9991\n",
            "Epoch 43: val_accuracy did not improve from 0.98812\n",
            "403/403 [==============================] - 2s 5ms/step - loss: 0.0084 - accuracy: 0.9991 - val_loss: 0.2298 - val_accuracy: 0.9832\n",
            "Epoch 44/100\n",
            "402/403 [============================>.] - ETA: 0s - loss: 0.0062 - accuracy: 0.9995\n",
            "Epoch 44: val_accuracy did not improve from 0.98812\n",
            "403/403 [==============================] - 2s 5ms/step - loss: 0.0062 - accuracy: 0.9995 - val_loss: 0.2758 - val_accuracy: 0.9853\n",
            "Epoch 45/100\n",
            "399/403 [============================>.] - ETA: 0s - loss: 0.0069 - accuracy: 0.9994\n",
            "Epoch 45: val_accuracy did not improve from 0.98812\n",
            "403/403 [==============================] - 2s 5ms/step - loss: 0.0070 - accuracy: 0.9993 - val_loss: 0.2820 - val_accuracy: 0.9853\n",
            "Epoch 46/100\n",
            "396/403 [============================>.] - ETA: 0s - loss: 0.0171 - accuracy: 0.9967\n",
            "Epoch 46: val_accuracy did not improve from 0.98812\n",
            "403/403 [==============================] - 2s 6ms/step - loss: 0.0175 - accuracy: 0.9965 - val_loss: 0.3720 - val_accuracy: 0.9832\n",
            "Epoch 47/100\n",
            "400/403 [============================>.] - ETA: 0s - loss: 0.0145 - accuracy: 0.9976\n",
            "Epoch 47: val_accuracy did not improve from 0.98812\n",
            "403/403 [==============================] - 3s 8ms/step - loss: 0.0144 - accuracy: 0.9976 - val_loss: 0.2624 - val_accuracy: 0.9839\n",
            "Epoch 48/100\n",
            "396/403 [============================>.] - ETA: 0s - loss: 0.0099 - accuracy: 0.9985\n",
            "Epoch 48: val_accuracy did not improve from 0.98812\n",
            "403/403 [==============================] - 2s 6ms/step - loss: 0.0099 - accuracy: 0.9985 - val_loss: 0.3027 - val_accuracy: 0.9832\n",
            "Epoch 49/100\n",
            "394/403 [============================>.] - ETA: 0s - loss: 0.0099 - accuracy: 0.9983\n",
            "Epoch 49: val_accuracy did not improve from 0.98812\n",
            "403/403 [==============================] - 2s 6ms/step - loss: 0.0098 - accuracy: 0.9984 - val_loss: 0.2736 - val_accuracy: 0.9846\n",
            "Epoch 50/100\n",
            "398/403 [============================>.] - ETA: 0s - loss: 0.0078 - accuracy: 0.9987\n",
            "Epoch 50: val_accuracy did not improve from 0.98812\n",
            "403/403 [==============================] - 2s 6ms/step - loss: 0.0077 - accuracy: 0.9988 - val_loss: 0.3595 - val_accuracy: 0.9839\n",
            "Epoch 51/100\n",
            "395/403 [============================>.] - ETA: 0s - loss: 0.0117 - accuracy: 0.9981\n",
            "Epoch 51: val_accuracy did not improve from 0.98812\n",
            "403/403 [==============================] - 2s 6ms/step - loss: 0.0135 - accuracy: 0.9974 - val_loss: 0.5063 - val_accuracy: 0.9790\n",
            "Epoch 52/100\n",
            "401/403 [============================>.] - ETA: 0s - loss: 0.0229 - accuracy: 0.9957\n",
            "Epoch 52: val_accuracy did not improve from 0.98812\n",
            "403/403 [==============================] - 3s 7ms/step - loss: 0.0229 - accuracy: 0.9957 - val_loss: 0.2928 - val_accuracy: 0.9825\n",
            "Epoch 53/100\n",
            "401/403 [============================>.] - ETA: 0s - loss: 0.0125 - accuracy: 0.9982\n",
            "Epoch 53: val_accuracy did not improve from 0.98812\n",
            "403/403 [==============================] - 3s 8ms/step - loss: 0.0125 - accuracy: 0.9982 - val_loss: 0.3385 - val_accuracy: 0.9853\n",
            "Epoch 54/100\n",
            "398/403 [============================>.] - ETA: 0s - loss: 0.0119 - accuracy: 0.9980\n",
            "Epoch 54: val_accuracy did not improve from 0.98812\n",
            "403/403 [==============================] - 2s 6ms/step - loss: 0.0119 - accuracy: 0.9980 - val_loss: 0.4052 - val_accuracy: 0.9846\n",
            "Epoch 55/100\n",
            "401/403 [============================>.] - ETA: 0s - loss: 0.0085 - accuracy: 0.9989\n",
            "Epoch 55: val_accuracy did not improve from 0.98812\n",
            "403/403 [==============================] - 2s 6ms/step - loss: 0.0085 - accuracy: 0.9989 - val_loss: 0.2372 - val_accuracy: 0.9853\n",
            "Epoch 56/100\n",
            "399/403 [============================>.] - ETA: 0s - loss: 0.0096 - accuracy: 0.9984\n",
            "Epoch 56: val_accuracy did not improve from 0.98812\n",
            "403/403 [==============================] - 2s 6ms/step - loss: 0.0096 - accuracy: 0.9984 - val_loss: 0.3029 - val_accuracy: 0.9832\n",
            "Epoch 57/100\n",
            "397/403 [============================>.] - ETA: 0s - loss: 0.0084 - accuracy: 0.9986\n",
            "Epoch 57: val_accuracy did not improve from 0.98812\n",
            "403/403 [==============================] - 2s 5ms/step - loss: 0.0084 - accuracy: 0.9986 - val_loss: 0.3587 - val_accuracy: 0.9839\n",
            "Epoch 58/100\n",
            "397/403 [============================>.] - ETA: 0s - loss: 0.0068 - accuracy: 0.9991\n",
            "Epoch 58: val_accuracy did not improve from 0.98812\n",
            "403/403 [==============================] - 3s 8ms/step - loss: 0.0068 - accuracy: 0.9991 - val_loss: 0.3750 - val_accuracy: 0.9860\n",
            "Epoch 59/100\n",
            "400/403 [============================>.] - ETA: 0s - loss: 0.0076 - accuracy: 0.9992\n",
            "Epoch 59: val_accuracy did not improve from 0.98812\n",
            "403/403 [==============================] - 3s 6ms/step - loss: 0.0076 - accuracy: 0.9992 - val_loss: 0.6416 - val_accuracy: 0.9811\n",
            "Epoch 60/100\n",
            "395/403 [============================>.] - ETA: 0s - loss: 0.0208 - accuracy: 0.9956\n",
            "Epoch 60: val_accuracy did not improve from 0.98812\n",
            "403/403 [==============================] - 2s 6ms/step - loss: 0.0206 - accuracy: 0.9956 - val_loss: 0.4256 - val_accuracy: 0.9825\n",
            "Epoch 61/100\n",
            "399/403 [============================>.] - ETA: 0s - loss: 0.0072 - accuracy: 0.9993\n",
            "Epoch 61: val_accuracy did not improve from 0.98812\n",
            "403/403 [==============================] - 2s 6ms/step - loss: 0.0072 - accuracy: 0.9993 - val_loss: 0.2673 - val_accuracy: 0.9825\n",
            "Epoch 62/100\n",
            "396/403 [============================>.] - ETA: 0s - loss: 0.0122 - accuracy: 0.9976\n",
            "Epoch 62: val_accuracy did not improve from 0.98812\n",
            "403/403 [==============================] - 2s 6ms/step - loss: 0.0121 - accuracy: 0.9976 - val_loss: 0.4241 - val_accuracy: 0.9846\n",
            "Epoch 63/100\n",
            "402/403 [============================>.] - ETA: 0s - loss: 0.0100 - accuracy: 0.9984\n",
            "Epoch 63: val_accuracy did not improve from 0.98812\n",
            "403/403 [==============================] - 3s 7ms/step - loss: 0.0100 - accuracy: 0.9984 - val_loss: 0.2868 - val_accuracy: 0.9832\n",
            "Epoch 64/100\n",
            "403/403 [==============================] - ETA: 0s - loss: 0.0067 - accuracy: 0.9992\n",
            "Epoch 64: val_accuracy did not improve from 0.98812\n",
            "403/403 [==============================] - 3s 8ms/step - loss: 0.0067 - accuracy: 0.9992 - val_loss: 0.4384 - val_accuracy: 0.9839\n",
            "Epoch 65/100\n",
            "395/403 [============================>.] - ETA: 0s - loss: 0.0068 - accuracy: 0.9987\n",
            "Epoch 65: val_accuracy did not improve from 0.98812\n",
            "403/403 [==============================] - 2s 5ms/step - loss: 0.0069 - accuracy: 0.9988 - val_loss: 0.8416 - val_accuracy: 0.9832\n",
            "Epoch 66/100\n",
            "394/403 [============================>.] - ETA: 0s - loss: 0.0125 - accuracy: 0.9983\n",
            "Epoch 66: val_accuracy did not improve from 0.98812\n",
            "403/403 [==============================] - 2s 5ms/step - loss: 0.0123 - accuracy: 0.9983 - val_loss: 0.2540 - val_accuracy: 0.9825\n",
            "Epoch 67/100\n",
            "403/403 [==============================] - ETA: 0s - loss: 0.0068 - accuracy: 0.9988\n",
            "Epoch 67: val_accuracy did not improve from 0.98812\n",
            "403/403 [==============================] - 2s 6ms/step - loss: 0.0068 - accuracy: 0.9988 - val_loss: 0.3311 - val_accuracy: 0.9783\n",
            "Epoch 68/100\n",
            "402/403 [============================>.] - ETA: 0s - loss: 0.0087 - accuracy: 0.9983\n",
            "Epoch 68: val_accuracy did not improve from 0.98812\n",
            "403/403 [==============================] - 2s 5ms/step - loss: 0.0087 - accuracy: 0.9983 - val_loss: 0.3291 - val_accuracy: 0.9679\n",
            "Epoch 69/100\n",
            "401/403 [============================>.] - ETA: 0s - loss: 0.0133 - accuracy: 0.9965\n",
            "Epoch 69: val_accuracy did not improve from 0.98812\n",
            "403/403 [==============================] - 3s 7ms/step - loss: 0.0133 - accuracy: 0.9965 - val_loss: 0.2576 - val_accuracy: 0.9832\n",
            "Epoch 70/100\n",
            "401/403 [============================>.] - ETA: 0s - loss: 0.0101 - accuracy: 0.9964\n",
            "Epoch 70: val_accuracy did not improve from 0.98812\n",
            "403/403 [==============================] - 3s 7ms/step - loss: 0.0100 - accuracy: 0.9964 - val_loss: 0.2135 - val_accuracy: 0.9832\n",
            "Epoch 71/100\n",
            "401/403 [============================>.] - ETA: 0s - loss: 0.0101 - accuracy: 0.9963\n",
            "Epoch 71: val_accuracy did not improve from 0.98812\n",
            "403/403 [==============================] - 2s 6ms/step - loss: 0.0101 - accuracy: 0.9963 - val_loss: 0.3396 - val_accuracy: 0.9825\n",
            "Epoch 72/100\n",
            "401/403 [============================>.] - ETA: 0s - loss: 0.0149 - accuracy: 0.9945\n",
            "Epoch 72: val_accuracy did not improve from 0.98812\n",
            "403/403 [==============================] - 2s 6ms/step - loss: 0.0149 - accuracy: 0.9946 - val_loss: 0.3087 - val_accuracy: 0.9846\n",
            "Epoch 73/100\n",
            "401/403 [============================>.] - ETA: 0s - loss: 0.0182 - accuracy: 0.9945\n",
            "Epoch 73: val_accuracy did not improve from 0.98812\n",
            "403/403 [==============================] - 2s 6ms/step - loss: 0.0182 - accuracy: 0.9945 - val_loss: 0.2865 - val_accuracy: 0.9839\n",
            "Epoch 74/100\n",
            "402/403 [============================>.] - ETA: 0s - loss: 0.0176 - accuracy: 0.9949\n",
            "Epoch 74: val_accuracy did not improve from 0.98812\n",
            "403/403 [==============================] - 2s 6ms/step - loss: 0.0176 - accuracy: 0.9950 - val_loss: 0.2256 - val_accuracy: 0.9839\n",
            "Epoch 75/100\n",
            "399/403 [============================>.] - ETA: 0s - loss: 0.0105 - accuracy: 0.9966\n",
            "Epoch 75: val_accuracy did not improve from 0.98812\n",
            "403/403 [==============================] - 3s 8ms/step - loss: 0.0105 - accuracy: 0.9966 - val_loss: 0.2091 - val_accuracy: 0.9839\n",
            "Epoch 76/100\n",
            "397/403 [============================>.] - ETA: 0s - loss: 0.0149 - accuracy: 0.9961\n",
            "Epoch 76: val_accuracy did not improve from 0.98812\n",
            "403/403 [==============================] - 3s 6ms/step - loss: 0.0148 - accuracy: 0.9961 - val_loss: 0.2134 - val_accuracy: 0.9860\n",
            "Epoch 77/100\n",
            "401/403 [============================>.] - ETA: 0s - loss: 0.0113 - accuracy: 0.9959\n",
            "Epoch 77: val_accuracy did not improve from 0.98812\n",
            "403/403 [==============================] - 2s 6ms/step - loss: 0.0112 - accuracy: 0.9959 - val_loss: 0.2053 - val_accuracy: 0.9853\n",
            "Epoch 78/100\n",
            "402/403 [============================>.] - ETA: 0s - loss: 0.0107 - accuracy: 0.9961\n",
            "Epoch 78: val_accuracy did not improve from 0.98812\n",
            "403/403 [==============================] - 2s 6ms/step - loss: 0.0107 - accuracy: 0.9961 - val_loss: 0.4232 - val_accuracy: 0.9832\n",
            "Epoch 79/100\n",
            "397/403 [============================>.] - ETA: 0s - loss: 0.0200 - accuracy: 0.9947\n",
            "Epoch 79: val_accuracy did not improve from 0.98812\n",
            "403/403 [==============================] - 2s 6ms/step - loss: 0.0203 - accuracy: 0.9946 - val_loss: 0.2425 - val_accuracy: 0.9776\n",
            "Epoch 80/100\n",
            "401/403 [============================>.] - ETA: 0s - loss: 0.0181 - accuracy: 0.9957\n",
            "Epoch 80: val_accuracy did not improve from 0.98812\n",
            "403/403 [==============================] - 3s 6ms/step - loss: 0.0181 - accuracy: 0.9956 - val_loss: 0.2154 - val_accuracy: 0.9825\n",
            "Epoch 81/100\n",
            "402/403 [============================>.] - ETA: 0s - loss: 0.0132 - accuracy: 0.9965\n",
            "Epoch 81: val_accuracy did not improve from 0.98812\n",
            "403/403 [==============================] - 3s 8ms/step - loss: 0.0132 - accuracy: 0.9965 - val_loss: 0.3167 - val_accuracy: 0.9797\n",
            "Epoch 82/100\n",
            "396/403 [============================>.] - ETA: 0s - loss: 0.0133 - accuracy: 0.9964\n",
            "Epoch 82: val_accuracy did not improve from 0.98812\n",
            "403/403 [==============================] - 2s 6ms/step - loss: 0.0134 - accuracy: 0.9963 - val_loss: 0.2436 - val_accuracy: 0.9811\n",
            "Epoch 83/100\n",
            "400/403 [============================>.] - ETA: 0s - loss: 0.0100 - accuracy: 0.9973\n",
            "Epoch 83: val_accuracy did not improve from 0.98812\n",
            "403/403 [==============================] - 2s 6ms/step - loss: 0.0099 - accuracy: 0.9974 - val_loss: 0.3002 - val_accuracy: 0.9832\n",
            "Epoch 84/100\n",
            "402/403 [============================>.] - ETA: 0s - loss: 0.0125 - accuracy: 0.9959\n",
            "Epoch 84: val_accuracy did not improve from 0.98812\n",
            "403/403 [==============================] - 2s 6ms/step - loss: 0.0125 - accuracy: 0.9959 - val_loss: 0.2863 - val_accuracy: 0.9832\n",
            "Epoch 85/100\n",
            "402/403 [============================>.] - ETA: 0s - loss: 0.0227 - accuracy: 0.9947\n",
            "Epoch 85: val_accuracy did not improve from 0.98812\n",
            "403/403 [==============================] - 2s 6ms/step - loss: 0.0227 - accuracy: 0.9947 - val_loss: 0.2567 - val_accuracy: 0.9860\n",
            "Epoch 86/100\n",
            "403/403 [==============================] - ETA: 0s - loss: 0.0151 - accuracy: 0.9971\n",
            "Epoch 86: val_accuracy did not improve from 0.98812\n",
            "403/403 [==============================] - 3s 7ms/step - loss: 0.0151 - accuracy: 0.9971 - val_loss: 0.2463 - val_accuracy: 0.9853\n",
            "Epoch 87/100\n",
            "401/403 [============================>.] - ETA: 0s - loss: 0.0147 - accuracy: 0.9964\n",
            "Epoch 87: val_accuracy did not improve from 0.98812\n",
            "403/403 [==============================] - 3s 7ms/step - loss: 0.0147 - accuracy: 0.9964 - val_loss: 0.2546 - val_accuracy: 0.9825\n",
            "Epoch 88/100\n",
            "397/403 [============================>.] - ETA: 0s - loss: 0.0141 - accuracy: 0.9965\n",
            "Epoch 88: val_accuracy did not improve from 0.98812\n",
            "403/403 [==============================] - 2s 6ms/step - loss: 0.0140 - accuracy: 0.9965 - val_loss: 0.1992 - val_accuracy: 0.9783\n",
            "Epoch 89/100\n",
            "398/403 [============================>.] - ETA: 0s - loss: 0.0190 - accuracy: 0.9954\n",
            "Epoch 89: val_accuracy did not improve from 0.98812\n",
            "403/403 [==============================] - 2s 6ms/step - loss: 0.0189 - accuracy: 0.9954 - val_loss: 0.4403 - val_accuracy: 0.9818\n",
            "Epoch 90/100\n",
            "400/403 [============================>.] - ETA: 0s - loss: 0.0238 - accuracy: 0.9951\n",
            "Epoch 90: val_accuracy did not improve from 0.98812\n",
            "403/403 [==============================] - 2s 6ms/step - loss: 0.0237 - accuracy: 0.9951 - val_loss: 0.2154 - val_accuracy: 0.9839\n",
            "Epoch 91/100\n",
            "401/403 [============================>.] - ETA: 0s - loss: 0.0120 - accuracy: 0.9981\n",
            "Epoch 91: val_accuracy did not improve from 0.98812\n",
            "403/403 [==============================] - 2s 5ms/step - loss: 0.0120 - accuracy: 0.9981 - val_loss: 0.2285 - val_accuracy: 0.9839\n",
            "Epoch 92/100\n",
            "400/403 [============================>.] - ETA: 0s - loss: 0.0132 - accuracy: 0.9977\n",
            "Epoch 92: val_accuracy did not improve from 0.98812\n",
            "403/403 [==============================] - 3s 7ms/step - loss: 0.0132 - accuracy: 0.9977 - val_loss: 0.3296 - val_accuracy: 0.9804\n",
            "Epoch 93/100\n",
            "399/403 [============================>.] - ETA: 0s - loss: 0.0116 - accuracy: 0.9984\n",
            "Epoch 93: val_accuracy did not improve from 0.98812\n",
            "403/403 [==============================] - 3s 7ms/step - loss: 0.0116 - accuracy: 0.9984 - val_loss: 0.3009 - val_accuracy: 0.9832\n",
            "Epoch 94/100\n",
            "401/403 [============================>.] - ETA: 0s - loss: 0.0109 - accuracy: 0.9974\n",
            "Epoch 94: val_accuracy did not improve from 0.98812\n",
            "403/403 [==============================] - 2s 6ms/step - loss: 0.0108 - accuracy: 0.9974 - val_loss: 0.3085 - val_accuracy: 0.9825\n",
            "Epoch 95/100\n",
            "401/403 [============================>.] - ETA: 0s - loss: 0.0085 - accuracy: 0.9984\n",
            "Epoch 95: val_accuracy did not improve from 0.98812\n",
            "403/403 [==============================] - 2s 6ms/step - loss: 0.0085 - accuracy: 0.9984 - val_loss: 0.2322 - val_accuracy: 0.9804\n",
            "Epoch 96/100\n",
            "395/403 [============================>.] - ETA: 0s - loss: 0.0083 - accuracy: 0.9982\n",
            "Epoch 96: val_accuracy did not improve from 0.98812\n",
            "403/403 [==============================] - 2s 5ms/step - loss: 0.0087 - accuracy: 0.9981 - val_loss: 0.1886 - val_accuracy: 0.9804\n",
            "Epoch 97/100\n",
            "403/403 [==============================] - ETA: 0s - loss: 0.0103 - accuracy: 0.9975\n",
            "Epoch 97: val_accuracy did not improve from 0.98812\n",
            "403/403 [==============================] - 3s 6ms/step - loss: 0.0103 - accuracy: 0.9975 - val_loss: 0.3743 - val_accuracy: 0.9818\n",
            "Epoch 98/100\n",
            "401/403 [============================>.] - ETA: 0s - loss: 0.0086 - accuracy: 0.9981\n",
            "Epoch 98: val_accuracy did not improve from 0.98812\n",
            "403/403 [==============================] - 3s 8ms/step - loss: 0.0087 - accuracy: 0.9980 - val_loss: 0.2589 - val_accuracy: 0.9832\n",
            "Epoch 99/100\n",
            "399/403 [============================>.] - ETA: 0s - loss: 0.0100 - accuracy: 0.9977\n",
            "Epoch 99: val_accuracy did not improve from 0.98812\n",
            "403/403 [==============================] - 2s 6ms/step - loss: 0.0099 - accuracy: 0.9977 - val_loss: 0.2489 - val_accuracy: 0.9797\n",
            "Epoch 100/100\n",
            "402/403 [============================>.] - ETA: 0s - loss: 0.0087 - accuracy: 0.9981\n",
            "Epoch 100: val_accuracy did not improve from 0.98812\n",
            "403/403 [==============================] - 2s 6ms/step - loss: 0.0087 - accuracy: 0.9981 - val_loss: 0.2185 - val_accuracy: 0.9811\n"
          ]
        },
        {
          "data": {
            "text/plain": [
              "<keras.callbacks.History at 0x7fa8f856b4f0>"
            ]
          },
          "execution_count": 22,
          "metadata": {},
          "output_type": "execute_result"
        }
      ],
      "source": [
        "# model = tf.keras.models.Sequential([\n",
        "#     layers.Embedding(num_words, embedding_dim, embeddings_initializer=tf.keras.initializers.Constant(embedding_matrix),\n",
        "#                     input_length=max_length, trainable=False),\n",
        "#     tf.keras.layers.Conv1D(128, 5, activation='relu'),\n",
        "#     tf.keras.layers.MaxPooling1D(pool_size=4),\n",
        "#     tf.keras.layers.Conv1D(256, 5, activation='relu'),\n",
        "#     tf.keras.layers.MaxPooling1D(pool_size=4),\n",
        "#     tf.keras.layers.Flatten(),\n",
        "#     tf.keras.layers.Dense(512, activation='relu', kernel_regularizer=tf.keras.regularizers.l2(0.01)),\n",
        "#     tf.keras.layers.Dropout(0.5),\n",
        "#     tf.keras.layers.Dense(256, activation='relu', kernel_regularizer=tf.keras.regularizers.l2(0.01)),\n",
        "#     tf.keras.layers.Dropout(0.5),\n",
        "#     tf.keras.layers.Dense(1, activation='sigmoid')\n",
        "# ])\n",
        "# model.compile(optimizer='adam', loss='binary_crossentropy', metrics=['accuracy'])\n",
        "# model.fit(padded_sequences, ytr, epochs = 100, validation_split = 0.1,callbacks=[checkpoint_callback])"
      ]
    },
    {
      "cell_type": "code",
      "execution_count": null,
      "metadata": {
        "id": "b2bmRRgPihb-"
      },
      "outputs": [],
      "source": [
        "# with open('/content/drive/MyDrive/IR_project/models/word_level_tokenizer.pickle', 'rb') as handle:\n",
        "#     loaded_tokenizer = pickle.load(handle)\n",
        "\n",
        "# loaded_model = load_model('/content/drive/MyDrive/IR_project/models/cnn_wordlevel.h5')"
      ]
    },
    {
      "cell_type": "code",
      "execution_count": null,
      "metadata": {
        "colab": {
          "base_uri": "https://localhost:8080/"
        },
        "id": "PBss-7jXii25",
        "outputId": "f5a623fb-6281-41b5-a768-f57bb78b9b57"
      },
      "outputs": [
        {
          "name": "stdout",
          "output_type": "stream",
          "text": [
            "112/112 [==============================] - 1s 4ms/step\n",
            "112/112 [==============================] - 1s 3ms/step - loss: 0.2317 - accuracy: 0.9779\n",
            "Test loss: 0.23174859583377838\n",
            "Test accuracy: 0.9779082536697388\n",
            "\n",
            "[[3376   19]\n",
            " [  60  121]]\n",
            "              precision    recall  f1-score   support\n",
            "\n",
            "           0       0.98      0.99      0.99      3395\n",
            "           1       0.86      0.67      0.75       181\n",
            "\n",
            "    accuracy                           0.98      3576\n",
            "   macro avg       0.92      0.83      0.87      3576\n",
            "weighted avg       0.98      0.98      0.98      3576\n",
            "\n"
          ]
        }
      ],
      "source": [
        "# test_sequences = loaded_tokenizer.texts_to_sequences(xt)\n",
        "# test_data_padded = tf.keras.preprocessing.sequence.pad_sequences(test_sequences, maxlen=max_length, padding='post', truncating='post')\n",
        "\n",
        "# pred = loaded_model.predict(test_data_padded)\n",
        "# loss, acc = loaded_model.evaluate(test_data_padded,yt, batch_size=32)\n",
        "\n",
        "# print('Test loss:', loss)\n",
        "# print('Test accuracy:', acc,end = '\\n\\n')\n",
        "\n",
        "# for i,x in enumerate(pred):\n",
        "#   if x >= 0.5:\n",
        "#     pred[i] = 1\n",
        "#   else:\n",
        "#     pred[i] = 0\n",
        "# cm = confusion_matrix(yt,pred)\n",
        "# print(cm)\n",
        "# cr = classification_report(yt,pred)\n",
        "# print(cr)"
      ]
    },
    {
      "attachments": {},
      "cell_type": "markdown",
      "metadata": {
        "id": "6g1ZdqwGiM3E"
      },
      "source": [
        "## Model using Attention with transformer"
      ]
    },
    {
      "cell_type": "code",
      "execution_count": null,
      "metadata": {
        "id": "lRjYJYKKoPAW"
      },
      "outputs": [],
      "source": [
        "import pandas as pd\n",
        "import pickle\n",
        "import numpy as np\n",
        "from sklearn.preprocessing import LabelEncoder as le\n",
        "import tensorflow as tf\n",
        "from sklearn.metrics import confusion_matrix,classification_report\n",
        "from tensorflow.keras.models import load_model\n",
        "from tensorflow.keras.callbacks import ModelCheckpoint\n",
        "from tensorflow.keras import layers\n",
        "from gensim.models import KeyedVectors"
      ]
    },
    {
      "cell_type": "code",
      "execution_count": null,
      "metadata": {
        "id": "c4SrsZuTiRS_"
      },
      "outputs": [],
      "source": [
        "# loading the training data\n",
        "train_df=pd.read_csv(r'/content/drive/MyDrive/IR_project/train.csv')"
      ]
    },
    {
      "cell_type": "code",
      "execution_count": null,
      "metadata": {
        "colab": {
          "base_uri": "https://localhost:8080/"
        },
        "id": "A35khUCt6k0g",
        "outputId": "324f0b4f-47c5-4ddd-eb80-5129eb55f106"
      },
      "outputs": [
        {
          "name": "stdout",
          "output_type": "stream",
          "text": [
            "                                   preprocessed_data  label\n",
            "0  operation specialist operation want build st c...      0\n",
            "1  purolator international pricing financial anal...      0\n",
            "2  account manager maker row online marketplace c...      0\n",
            "3  immediate opening j ee developer bahrain infor...      0\n",
            "4  senior strategic buyer supply chain ms office ...      0\n"
          ]
        }
      ],
      "source": [
        "print(train_df.head())"
      ]
    },
    {
      "cell_type": "code",
      "execution_count": null,
      "metadata": {
        "id": "UKC9OqKJ_DEo"
      },
      "outputs": [],
      "source": [
        "xtr=train_df['preprocessed_data'].values\n",
        "ytr=train_df['label'].values"
      ]
    },
    {
      "cell_type": "code",
      "execution_count": null,
      "metadata": {
        "id": "2FxhNJN0maFv"
      },
      "outputs": [],
      "source": [
        "# from sklearn.utils import class_weight\n",
        "\n",
        "# class_weights = class_weight.compute_class_weight(class_weight='balanced',classes=np.unique(ytr),y=ytr)\n",
        "\n",
        "# class_weights = dict(enumerate(class_weights))"
      ]
    },
    {
      "cell_type": "code",
      "execution_count": null,
      "metadata": {
        "id": "SNmZ5uvIq6ME"
      },
      "outputs": [],
      "source": [
        "class MultiHeadSelfAttention(layers.Layer):\n",
        "    def __init__(self, embed_dim, num_heads=8):\n",
        "        super(MultiHeadSelfAttention, self).__init__()\n",
        "        self.embed_dim = embed_dim\n",
        "        self.num_heads = num_heads\n",
        "        if embed_dim % num_heads != 0:\n",
        "            raise ValueError(\n",
        "                f\"embedding dimension = {embed_dim} should be divisible by number of heads = {num_heads}\"\n",
        "            )\n",
        "        self.projection_dim = embed_dim // num_heads\n",
        "        self.query_dense = layers.Dense(embed_dim)\n",
        "        self.key_dense = layers.Dense(embed_dim)\n",
        "        self.value_dense = layers.Dense(embed_dim)\n",
        "        self.combine_heads = layers.Dense(embed_dim)\n",
        "\n",
        "    def attention(self, query, key, value):\n",
        "        score = tf.matmul(query, key, transpose_b=True)\n",
        "        dim_key = tf.cast(tf.shape(key)[-1], tf.float32)\n",
        "        scaled_score = score / tf.math.sqrt(dim_key)\n",
        "        weights = tf.nn.softmax(scaled_score, axis=-1)\n",
        "        output = tf.matmul(weights, value)\n",
        "        return output, weights\n",
        "\n",
        "    def separate_heads(self, x, batch_size):\n",
        "        x = tf.reshape(x, (batch_size, -1, self.num_heads, self.projection_dim))\n",
        "        return tf.transpose(x, perm=[0, 2, 1, 3])\n",
        "\n",
        "    def call(self, inputs):\n",
        "        batch_size = tf.shape(inputs)[0]\n",
        "        query = self.query_dense(inputs)\n",
        "        key = self.key_dense(inputs)\n",
        "        value = self.value_dense(inputs)\n",
        "        query = self.separate_heads(query, batch_size)\n",
        "        key = self.separate_heads(key, batch_size)\n",
        "        value = self.separate_heads(value, batch_size)\n",
        "\n",
        "        attention, weights = self.attention(query, key, value)\n",
        "        attention = tf.transpose(attention, perm=[0, 2, 1, 3])\n",
        "        concat_attention = tf.reshape(attention, (batch_size, -1, self.embed_dim))\n",
        "        output = self.combine_heads(concat_attention)\n",
        "        return output\n"
      ]
    },
    {
      "cell_type": "code",
      "execution_count": null,
      "metadata": {
        "id": "g6gYKz30q6jU"
      },
      "outputs": [],
      "source": [
        "class TransformerBlock(layers.Layer):\n",
        "    def __init__(self, embed_dim, num_heads, ff_dim, rate=0.1):\n",
        "        super(TransformerBlock, self).__init__()\n",
        "        self.att = MultiHeadSelfAttention(embed_dim, num_heads)\n",
        "        self.ffn = tf.keras.Sequential(\n",
        "            [layers.Dense(ff_dim, activation=\"relu\"), layers.Dense(embed_dim),]\n",
        "        )\n",
        "        self.layernorm1 = layers.LayerNormalization(epsilon=1e-6)\n",
        "        self.layernorm2 = layers.LayerNormalization(epsilon=1e-6)\n",
        "        self.dropout1 = layers.Dropout(rate)\n",
        "        self.dropout2 = layers.Dropout(rate)\n",
        "\n",
        "    def call(self, inputs, training):\n",
        "        attn_output = self.att(inputs)\n",
        "        attn_output = self.dropout1(attn_output, training=training)\n",
        "        out1 = self.layernorm1(inputs + attn_output)\n",
        "        ffn_output = self.ffn(out1)\n",
        "        ffn_output = self.dropout2(ffn_output, training=training)\n",
        "        return self.layernorm2(out1 + ffn_output)\n"
      ]
    },
    {
      "cell_type": "code",
      "execution_count": null,
      "metadata": {
        "id": "5cEHR6MNq6xE"
      },
      "outputs": [],
      "source": [
        "class TokenAndPositionEmbedding(layers.Layer):\n",
        "    def __init__(self, maxlen, vocab_size, embed_dim):\n",
        "        super(TokenAndPositionEmbedding, self).__init__()\n",
        "        self.token_emb = layers.Embedding(input_dim=vocab_size, output_dim=embed_dim)\n",
        "        self.pos_emb = layers.Embedding(input_dim=maxlen, output_dim=embed_dim)\n",
        "\n",
        "    def call(self, x):\n",
        "        maxlen = tf.shape(x)[-1]\n",
        "        positions = tf.range(start=0, limit=maxlen, delta=1)\n",
        "        positions = self.pos_emb(positions)\n",
        "        x = self.token_emb(x)\n",
        "        return x + positions\n",
        "\n",
        "def build_model(max_len, vocab_size, embed_dim, num_heads, ff_dim):\n",
        "    inputs = layers.Input(shape=(max_len,))\n",
        "    embedding_layer = TokenAndPositionEmbedding(max_len, vocab_size, embed_dim)\n",
        "    x = embedding_layer(inputs)\n",
        "    transformer_block = TransformerBlock(embed_dim, num_heads, ff_dim)\n",
        "    x = transformer_block(x)\n",
        "    x = layers.GlobalAveragePooling1D()(x)\n",
        "    x = layers.Dropout(0.1)(x)\n",
        "    x = layers.Dense(20, activation=\"relu\")(x)\n",
        "    x = layers.Dropout(0.1)(x)\n",
        "    outputs = layers.Dense(2, activation=\"softmax\")(x)\n",
        "\n",
        "    model = tf.keras.Model(inputs=inputs, outputs=outputs)\n",
        "    return model"
      ]
    },
    {
      "cell_type": "code",
      "execution_count": null,
      "metadata": {
        "id": "MK1g0R4eoFZl"
      },
      "outputs": [],
      "source": [
        "checkpoint_filepath = '/content/drive/MyDrive/IR_project/models/attention.h5'\n",
        "checkpoint_callback = ModelCheckpoint(\n",
        "    filepath=checkpoint_filepath,\n",
        "    monitor='val_loss',\n",
        "    mode='min',\n",
        "    save_best_only=True,\n",
        "    verbose=1\n",
        ")"
      ]
    },
    {
      "cell_type": "code",
      "execution_count": null,
      "metadata": {
        "id": "aeJM9WnhoGvn"
      },
      "outputs": [],
      "source": [
        "# parameters\n",
        "max_len = 512  # maximum length of a sequence\n",
        "vocab_size = 20000  # size of your vocabulary\n",
        "embed_dim = 128  # embedding dimension\n",
        "num_heads = 8  # number of attention heads\n",
        "ff_dim = 32  # hidden layer size in feed forward network inside transformer\n",
        "\n",
        "model = build_model(max_len, vocab_size, embed_dim, num_heads, ff_dim)\n",
        "\n",
        "model.compile(loss='sparse_categorical_crossentropy', optimizer='adam', metrics=['accuracy'])"
      ]
    },
    {
      "cell_type": "code",
      "execution_count": null,
      "metadata": {
        "colab": {
          "base_uri": "https://localhost:8080/"
        },
        "id": "jRdB22y_rTj1",
        "outputId": "7f2c07a1-2cfc-4deb-fb57-cdebdf1874cf"
      },
      "outputs": [
        {
          "name": "stdout",
          "output_type": "stream",
          "text": [
            "Model: \"model_1\"\n",
            "_________________________________________________________________\n",
            " Layer (type)                Output Shape              Param #   \n",
            "=================================================================\n",
            " input_2 (InputLayer)        [(None, 512)]             0         \n",
            "                                                                 \n",
            " token_and_position_embeddin  (None, 512, 128)         2625536   \n",
            " g_2 (TokenAndPositionEmbedd                                     \n",
            " ing)                                                            \n",
            "                                                                 \n",
            " transformer_block_2 (Transf  (None, 512, 128)         74912     \n",
            " ormerBlock)                                                     \n",
            "                                                                 \n",
            " global_average_pooling1d_1   (None, 128)              0         \n",
            " (GlobalAveragePooling1D)                                        \n",
            "                                                                 \n",
            " dropout_8 (Dropout)         (None, 128)               0         \n",
            "                                                                 \n",
            " dense_20 (Dense)            (None, 20)                2580      \n",
            "                                                                 \n",
            " dropout_9 (Dropout)         (None, 20)                0         \n",
            "                                                                 \n",
            " dense_21 (Dense)            (None, 2)                 42        \n",
            "                                                                 \n",
            "=================================================================\n",
            "Total params: 2,703,070\n",
            "Trainable params: 2,703,070\n",
            "Non-trainable params: 0\n",
            "_________________________________________________________________\n"
          ]
        }
      ],
      "source": [
        "model.summary()"
      ]
    },
    {
      "cell_type": "code",
      "execution_count": null,
      "metadata": {
        "colab": {
          "base_uri": "https://localhost:8080/"
        },
        "id": "BsdwC1X1r4NT",
        "outputId": "599d956b-22cf-475b-f474-523807e28e69"
      },
      "outputs": [
        {
          "name": "stderr",
          "output_type": "stream",
          "text": [
            "<ipython-input-106-e76e92ca6d6f>:6: DeprecationWarning: `np.str` is a deprecated alias for the builtin `str`. To silence this warning, use `str` by itself. Doing this will not modify any behavior and is safe. If you specifically wanted the numpy scalar type, use `np.str_` here.\n",
            "Deprecated in NumPy 1.20; for more details and guidance: https://numpy.org/devdocs/release/1.20.0-notes.html#deprecations\n",
            "  xtr = xtr.astype(np.str)\n"
          ]
        }
      ],
      "source": [
        "# from keras.preprocessing.text import Tokenizer\n",
        "# from tensorflow.keras.preprocessing.sequence import pad_sequences\n",
        "\n",
        "# # maximum number of words to keep, based on word frequency\n",
        "# max_words = 20000\n",
        "# xtr = xtr.astype(np.str)\n",
        "# tokenizer = Tokenizer(num_words=max_words)\n",
        "# tokenizer.fit_on_texts(list(xtr))\n",
        "\n",
        "# xtr = tokenizer.texts_to_sequences(xtr)\n",
        "# # max length for a doc (you can also set this to an arbitrary number)\n",
        "# max_len = 512\n",
        "# xtr = pad_sequences(xtr, maxlen=max_len)"
      ]
    },
    {
      "cell_type": "code",
      "execution_count": null,
      "metadata": {
        "colab": {
          "base_uri": "https://localhost:8080/"
        },
        "id": "7chpptB2sWMd",
        "outputId": "aa84ae5c-484a-4621-9c21-44c3507581e3"
      },
      "outputs": [
        {
          "name": "stdout",
          "output_type": "stream",
          "text": [
            "Epoch 1/10\n",
            "358/358 [==============================] - ETA: 0s - loss: 0.1503 - accuracy: 0.9570\n",
            "Epoch 1: val_loss improved from inf to 0.07451, saving model to /content/drive/MyDrive/IR_project/models/attention.h5\n",
            "358/358 [==============================] - 59s 151ms/step - loss: 0.1503 - accuracy: 0.9570 - val_loss: 0.0745 - val_accuracy: 0.9780\n",
            "Epoch 2/10\n",
            "358/358 [==============================] - ETA: 0s - loss: 0.0413 - accuracy: 0.9858\n",
            "Epoch 2: val_loss improved from 0.07451 to 0.06253, saving model to /content/drive/MyDrive/IR_project/models/attention.h5\n",
            "358/358 [==============================] - 35s 96ms/step - loss: 0.0413 - accuracy: 0.9858 - val_loss: 0.0625 - val_accuracy: 0.9846\n",
            "Epoch 3/10\n",
            "358/358 [==============================] - ETA: 0s - loss: 0.0150 - accuracy: 0.9955\n",
            "Epoch 3: val_loss did not improve from 0.06253\n",
            "358/358 [==============================] - 28s 77ms/step - loss: 0.0150 - accuracy: 0.9955 - val_loss: 0.0729 - val_accuracy: 0.9829\n",
            "Epoch 4/10\n",
            "358/358 [==============================] - ETA: 0s - loss: 0.0076 - accuracy: 0.9976\n",
            "Epoch 4: val_loss did not improve from 0.06253\n",
            "358/358 [==============================] - 25s 70ms/step - loss: 0.0076 - accuracy: 0.9976 - val_loss: 0.0802 - val_accuracy: 0.9829\n",
            "Epoch 5/10\n",
            "358/358 [==============================] - ETA: 0s - loss: 0.0032 - accuracy: 0.9990\n",
            "Epoch 5: val_loss did not improve from 0.06253\n",
            "358/358 [==============================] - 22s 63ms/step - loss: 0.0032 - accuracy: 0.9990 - val_loss: 0.1606 - val_accuracy: 0.9811\n",
            "Epoch 6/10\n",
            "358/358 [==============================] - ETA: 0s - loss: 6.5901e-04 - accuracy: 0.9997\n",
            "Epoch 6: val_loss did not improve from 0.06253\n",
            "358/358 [==============================] - 23s 64ms/step - loss: 6.5901e-04 - accuracy: 0.9997 - val_loss: 0.1677 - val_accuracy: 0.9822\n",
            "Epoch 7/10\n",
            "358/358 [==============================] - ETA: 0s - loss: 5.5784e-05 - accuracy: 1.0000\n",
            "Epoch 7: val_loss did not improve from 0.06253\n",
            "358/358 [==============================] - 22s 62ms/step - loss: 5.5784e-05 - accuracy: 1.0000 - val_loss: 0.1682 - val_accuracy: 0.9818\n",
            "Epoch 8/10\n",
            "358/358 [==============================] - ETA: 0s - loss: 2.8554e-05 - accuracy: 1.0000\n",
            "Epoch 8: val_loss did not improve from 0.06253\n",
            "358/358 [==============================] - 21s 59ms/step - loss: 2.8554e-05 - accuracy: 1.0000 - val_loss: 0.1767 - val_accuracy: 0.9825\n",
            "Epoch 9/10\n",
            "358/358 [==============================] - ETA: 0s - loss: 1.5537e-05 - accuracy: 1.0000\n",
            "Epoch 9: val_loss did not improve from 0.06253\n",
            "358/358 [==============================] - 21s 59ms/step - loss: 1.5537e-05 - accuracy: 1.0000 - val_loss: 0.1832 - val_accuracy: 0.9829\n",
            "Epoch 10/10\n",
            "358/358 [==============================] - ETA: 0s - loss: 9.8845e-06 - accuracy: 1.0000\n",
            "Epoch 10: val_loss did not improve from 0.06253\n",
            "358/358 [==============================] - 21s 59ms/step - loss: 9.8845e-06 - accuracy: 1.0000 - val_loss: 0.1889 - val_accuracy: 0.9829\n"
          ]
        }
      ],
      "source": [
        "# # train model\n",
        "# history = model.fit(xtr, ytr,\n",
        "#                     batch_size=32,\n",
        "#                     epochs=10,\n",
        "#                     validation_split=0.2,\n",
        "#                     # class_weight=class_weights,\n",
        "#                     callbacks=[checkpoint_callback])"
      ]
    },
    {
      "cell_type": "code",
      "execution_count": null,
      "metadata": {
        "id": "Pt0Xoi4lv37j"
      },
      "outputs": [],
      "source": [
        "# # save the tokeniser for the preprocessed data to use in the model.\n",
        "# with open('/content/drive/MyDrive/IR_project/models/attention_tokenizer.pickle', 'wb') as handle:\n",
        "#     pickle.dump(tokenizer, handle, protocol=pickle.HIGHEST_PROTOCOL)"
      ]
    },
    {
      "cell_type": "code",
      "execution_count": null,
      "metadata": {
        "id": "i5K-dnuqwARP"
      },
      "outputs": [],
      "source": [
        "# with open('/content/drive/MyDrive/IR_project/models/attention_tokenizer.pickle', 'rb') as handle:\n",
        "#     loaded_tokenizer = pickle.load(handle)\n",
        "\n",
        "# loaded_model = load_model('/content/drive/MyDrive/IR_project/models/attention.h5',custom_objects={'TokenAndPositionEmbedding': TokenAndPositionEmbedding,\n",
        "#                                           'TransformerBlock': TransformerBlock,\n",
        "#                                           'MultiHeadSelfAttention': MultiHeadSelfAttention})"
      ]
    },
    {
      "cell_type": "code",
      "execution_count": null,
      "metadata": {
        "id": "NRDqvaHtyNaB"
      },
      "outputs": [],
      "source": [
        "# test_data=pd.read_csv(r'/content/drive/MyDrive/IR_project/test.csv')\n",
        "# xt=test_data['preprocessed_data'].values\n",
        "# yt=test_data['label'].values"
      ]
    },
    {
      "cell_type": "code",
      "execution_count": null,
      "metadata": {
        "colab": {
          "base_uri": "https://localhost:8080/"
        },
        "id": "KjdO2LQPyBVC",
        "outputId": "064a910c-abbc-43bb-e1aa-d2766e459d8a"
      },
      "outputs": [
        {
          "name": "stderr",
          "output_type": "stream",
          "text": [
            "<ipython-input-111-d36cd0022894>:4: DeprecationWarning: `np.str` is a deprecated alias for the builtin `str`. To silence this warning, use `str` by itself. Doing this will not modify any behavior and is safe. If you specifically wanted the numpy scalar type, use `np.str_` here.\n",
            "Deprecated in NumPy 1.20; for more details and guidance: https://numpy.org/devdocs/release/1.20.0-notes.html#deprecations\n",
            "  xt = xt.astype(np.str)\n"
          ]
        },
        {
          "name": "stdout",
          "output_type": "stream",
          "text": [
            "112/112 [==============================] - 2s 17ms/step\n",
            "112/112 [==============================] - 2s 18ms/step - loss: 0.0659 - accuracy: 0.9807\n",
            "Confusion Matrix:\n",
            "[[3369   26]\n",
            " [  43  138]]\n",
            "Classification Report:\n",
            "              precision    recall  f1-score   support\n",
            "\n",
            "           0       0.99      0.99      0.99      3395\n",
            "           1       0.84      0.76      0.80       181\n",
            "\n",
            "    accuracy                           0.98      3576\n",
            "   macro avg       0.91      0.88      0.89      3576\n",
            "weighted avg       0.98      0.98      0.98      3576\n",
            "\n"
          ]
        }
      ],
      "source": [
        "# from tensorflow.keras.preprocessing.sequence import pad_sequences\n",
        "\n",
        "# # Convert text to sequences\n",
        "# xt = xt.astype(np.str)\n",
        "# x_test_sequences = loaded_tokenizer.texts_to_sequences(xt)\n",
        "\n",
        "# # Pad sequences\n",
        "# x_test = pad_sequences(x_test_sequences, maxlen=max_len)\n",
        "\n",
        "# predictions = loaded_model.predict(x_test)\n",
        "# loss, acc = loaded_model.evaluate(x_test, yt,batch_size=32)\n",
        "\n",
        "# # For softmax activation\n",
        "# predicted_labels = np.argmax(predictions, axis=1)\n",
        "\n",
        "# if len(yt.shape) > 1 and yt.shape[1] > 1:\n",
        "#     yt = np.argmax(yt, axis=1)\n",
        "\n",
        "# # Compute confusion matrix\n",
        "# conf_mat = confusion_matrix(yt, predicted_labels)\n",
        "\n",
        "# print('Confusion Matrix:')\n",
        "# print(conf_mat)\n",
        "\n",
        "# # Compute classification report\n",
        "# class_report = classification_report(yt, predicted_labels)\n",
        "\n",
        "# print('Classification Report:')\n",
        "# print(class_report)\n"
      ]
    },
    {
      "attachments": {},
      "cell_type": "markdown",
      "metadata": {
        "id": "4vFvA3255yxI"
      },
      "source": []
    },
    {
      "attachments": {},
      "cell_type": "markdown",
      "metadata": {
        "id": "MxVfo2bb50w-"
      },
      "source": [
        "## Model using Bi-LSTM"
      ]
    },
    {
      "cell_type": "code",
      "execution_count": null,
      "metadata": {
        "colab": {
          "base_uri": "https://localhost:8080/"
        },
        "id": "OvZKHvHa_Yj9",
        "outputId": "687e62d3-5dca-471a-cfb3-1437c7d59c90"
      },
      "outputs": [
        {
          "name": "stdout",
          "output_type": "stream",
          "text": [
            "Found 79864 unique tokens.\n",
            "Shape of data tensor: (14304, 100)\n",
            "Shape of label tensor: (14304,)\n"
          ]
        }
      ],
      "source": [
        "# from keras.preprocessing.text import Tokenizer\n",
        "# from keras.utils import pad_sequences\n",
        "# import numpy as np\n",
        "\n",
        "# # Set parameters\n",
        "# maxlen = 100  # Maximum length of a sequence - you'll need to choose this\n",
        "# max_words = 10000  # Size of the vocabulary\n",
        "\n",
        "# # Tokenize the text\n",
        "# tokenizer = Tokenizer(num_words=max_words)\n",
        "# tokenizer.fit_on_texts(xtr)\n",
        "# xtr = tokenizer.texts_to_sequences(xtr)\n",
        "\n",
        "# word_index = tokenizer.word_index\n",
        "# print(f'Found {len(word_index)} unique tokens.')\n",
        "\n",
        "# # Pad sequences\n",
        "# xtr = pad_sequences(xtr, maxlen=maxlen)\n",
        "\n",
        "# # Prepare labels\n",
        "# ytr = np.asarray(ytr)\n",
        "# print(f'Shape of data tensor: {xtr.shape}')\n",
        "# print(f'Shape of label tensor: {ytr.shape}')\n"
      ]
    },
    {
      "cell_type": "code",
      "execution_count": null,
      "metadata": {
        "id": "S-2OjgIaD768"
      },
      "outputs": [],
      "source": [
        "# import pickle\n",
        "# # save the tokeniser for the preprocessed data to use in the model.\n",
        "# with open('/content/drive/MyDrive/IR_project/models/bi_gru_lstm_tokenizer.pickle', 'wb') as handle:\n",
        "#     pickle.dump(tokenizer, handle, protocol=pickle.HIGHEST_PROTOCOL)"
      ]
    },
    {
      "cell_type": "code",
      "execution_count": null,
      "metadata": {
        "colab": {
          "base_uri": "https://localhost:8080/"
        },
        "id": "PlI5klvuE7Y0",
        "outputId": "84f23f89-1039-487d-bc59-985a4d97161e"
      },
      "outputs": [
        {
          "name": "stderr",
          "output_type": "stream",
          "text": [
            "<ipython-input-13-89c33207a120>:5: DeprecationWarning: `np.str` is a deprecated alias for the builtin `str`. To silence this warning, use `str` by itself. Doing this will not modify any behavior and is safe. If you specifically wanted the numpy scalar type, use `np.str_` here.\n",
            "Deprecated in NumPy 1.20; for more details and guidance: https://numpy.org/devdocs/release/1.20.0-notes.html#deprecations\n",
            "  xt = xt.astype(np.str)\n"
          ]
        },
        {
          "name": "stdout",
          "output_type": "stream",
          "text": [
            "112/112 [==============================] - 1s 9ms/step\n",
            "Classification Report:\n",
            "               precision    recall  f1-score   support\n",
            "\n",
            "           0       0.96      0.82      0.88      3395\n",
            "           1       0.08      0.30      0.13       181\n",
            "\n",
            "    accuracy                           0.79      3576\n",
            "   macro avg       0.52      0.56      0.50      3576\n",
            "weighted avg       0.91      0.79      0.84      3576\n",
            "\n",
            "Confusion Matrix:\n",
            " [[2771  624]\n",
            " [ 127   54]]\n",
            "Accuracy Score: 0.7899888143176734\n"
          ]
        }
      ],
      "source": [
        "# from tensorflow.keras.utils import pad_sequences\n",
        "# from sklearn.metrics import confusion_matrix,classification_report\n",
        "# from sklearn.metrics import accuracy_score\n",
        "# # Convert text to sequences\n",
        "# xt = xt.astype(np.str)\n",
        "# x_test_sequences = loaded_tokenizer.texts_to_sequences(xt)\n",
        "\n",
        "# # Pad sequences\n",
        "# x_test = pad_sequences(x_test_sequences, maxlen=max_len)\n",
        "\n",
        "# # Assume `x_test` and `y_test` are your test data and labels\n",
        "# y_pred = loaded_model.predict(x_test)\n",
        "\n",
        "# # Since the model outputs probabilities, convert them to class labels\n",
        "# y_pred = np.round(y_pred).astype(int)\n",
        "\n",
        "# print(\"Classification Report:\\n\", classification_report(yt, y_pred))\n",
        "# print(\"Confusion Matrix:\\n\", confusion_matrix(yt, y_pred))\n",
        "# print(\"Accuracy Score:\", accuracy_score(yt, y_pred))\n"
      ]
    },
    {
      "cell_type": "code",
      "execution_count": null,
      "metadata": {
        "id": "aiYSaC7KNDr7"
      },
      "outputs": [],
      "source": [
        "import pandas as pd\n",
        "import pickle\n",
        "import numpy as np\n",
        "from sklearn.preprocessing import LabelEncoder as le\n",
        "import tensorflow as tf\n",
        "from sklearn.metrics import confusion_matrix,classification_report\n",
        "from tensorflow.keras.models import load_model\n",
        "from tensorflow.keras.callbacks import ModelCheckpoint\n",
        "from tensorflow.keras import layers\n",
        "from gensim.models import KeyedVectors"
      ]
    },
    {
      "cell_type": "code",
      "execution_count": null,
      "metadata": {
        "id": "_A-pB3xG53zG"
      },
      "outputs": [],
      "source": [
        "import pandas as pd\n",
        "import numpy as np\n",
        "\n",
        "train_df=pd.read_csv(r'/content/drive/MyDrive/IR_project/train.csv')\n",
        "test_df=pd.read_csv(r'/content/drive/MyDrive/IR_project/test.csv')\n",
        "\n",
        "xtr=train_df['preprocessed_data']\n",
        "ytr=train_df['label']\n",
        "xt=test_df['preprocessed_data']\n",
        "yt=test_df['label']"
      ]
    },
    {
      "cell_type": "code",
      "execution_count": null,
      "metadata": {
        "id": "42D2AA2WHVqM"
      },
      "outputs": [],
      "source": [
        "from sklearn.utils import class_weight\n",
        "class_weights = class_weight.compute_class_weight(class_weight='balanced',classes=np.unique(ytr),y=ytr)\n",
        "class_weights = dict(enumerate(class_weights))"
      ]
    },
    {
      "cell_type": "code",
      "execution_count": null,
      "metadata": {
        "id": "9hJCx46sMPa1"
      },
      "outputs": [],
      "source": [
        "max_len = 50\n",
        "embedding_dim = 50\n",
        "max_words = 2624"
      ]
    },
    {
      "cell_type": "code",
      "execution_count": null,
      "metadata": {
        "id": "fjNwacRwMX1s"
      },
      "outputs": [],
      "source": [
        "glove_file = '/content/drive/MyDrive/FYP-DATA-AND-RESOURCES/Models_and_data/glove.6B.50d.txt'\n",
        "word_vectors = KeyedVectors.load_word2vec_format(glove_file, binary=False)\n",
        "\n",
        "# df['processed_text'] = preprocess_text(df)\n",
        "\n",
        "tokenizer = tf.keras.preprocessing.text.Tokenizer()\n",
        "tokenizer.fit_on_texts(xtr)\n",
        "sequences = tokenizer.texts_to_sequences(xtr)\n",
        "padded_sequences = tf.keras.preprocessing.sequence.pad_sequences(\n",
        "    sequences, maxlen=max_len, padding='post', truncating='post'\n",
        ")\n",
        "\n",
        "with open('/content/drive/MyDrive/IR_project/models/word_level_tokenizer_bilstm.pickle', 'wb') as handle:\n",
        "    pickle.dump(tokenizer, handle, protocol=pickle.HIGHEST_PROTOCOL)\n",
        "\n",
        "word_index = tokenizer.word_index\n",
        "num_words = len(word_index) + 1\n",
        "# print(num_words)\n",
        "embedding_matrix = np.zeros((num_words, embedding_dim))\n",
        "for word, i in word_index.items():\n",
        "    if word in word_vectors:\n",
        "        embedding_matrix[i] = word_vectors[word]"
      ]
    },
    {
      "cell_type": "code",
      "execution_count": null,
      "metadata": {
        "colab": {
          "base_uri": "https://localhost:8080/"
        },
        "id": "EAL7opAOMbg2",
        "outputId": "6ff808b2-5dc4-462b-8570-5fc4e4663aef"
      },
      "outputs": [
        {
          "name": "stdout",
          "output_type": "stream",
          "text": [
            "Average sentence length: 1995.5264261744962\n"
          ]
        }
      ],
      "source": [
        "sentence_lengths = xtr.apply(lambda x: [len(x) for x in xtr])\n",
        "avg_sentence_length = sentence_lengths.apply(lambda x: sum(x) / len(x))\n",
        "print(\"Average sentence length:\", avg_sentence_length.mean())"
      ]
    },
    {
      "cell_type": "code",
      "execution_count": null,
      "metadata": {
        "id": "PCeLUJDI9g4F"
      },
      "outputs": [],
      "source": [
        "from tensorflow.keras.models import load_model\n",
        "from tensorflow.keras.callbacks import ModelCheckpoint\n",
        "\n",
        "checkpoint_filepath = '/content/drive/MyDrive/IR_project/models/bi_gru_lstm_model_6.h5'\n",
        "checkpoint_callback = ModelCheckpoint(\n",
        "    filepath=checkpoint_filepath,\n",
        "    monitor='val_loss',\n",
        "    mode='min',\n",
        "    save_best_only=True,\n",
        "    verbose=1\n",
        ")"
      ]
    },
    {
      "cell_type": "code",
      "execution_count": null,
      "metadata": {
        "colab": {
          "base_uri": "https://localhost:8080/"
        },
        "id": "gg_gJWrC85qX",
        "outputId": "488047ec-78a5-4862-f119-9a499f183432"
      },
      "outputs": [
        {
          "name": "stdout",
          "output_type": "stream",
          "text": [
            "Model: \"sequential\"\n",
            "_________________________________________________________________\n",
            " Layer (type)                Output Shape              Param #   \n",
            "=================================================================\n",
            " embedding (Embedding)       (None, 50, 50)            3993250   \n",
            "                                                                 \n",
            " bidirectional (Bidirectiona  (None, 50, 256)          138240    \n",
            " l)                                                              \n",
            "                                                                 \n",
            " bidirectional_1 (Bidirectio  (None, 128)              164352    \n",
            " nal)                                                            \n",
            "                                                                 \n",
            " dropout (Dropout)           (None, 128)               0         \n",
            "                                                                 \n",
            " dense (Dense)               (None, 32)                4128      \n",
            "                                                                 \n",
            " dropout_1 (Dropout)         (None, 32)                0         \n",
            "                                                                 \n",
            " dense_1 (Dense)             (None, 1)                 33        \n",
            "                                                                 \n",
            "=================================================================\n",
            "Total params: 4,300,003\n",
            "Trainable params: 306,753\n",
            "Non-trainable params: 3,993,250\n",
            "_________________________________________________________________\n"
          ]
        }
      ],
      "source": [
        "from keras.models import Sequential\n",
        "from keras.layers import Dense, Dropout\n",
        "from keras.layers import Embedding\n",
        "from keras.layers import Bidirectional, GRU, LSTM\n",
        "from keras.initializers import Constant\n",
        "\n",
        "model = Sequential()\n",
        "model.add(Embedding(num_words,\n",
        "                    embedding_dim,\n",
        "                    embeddings_initializer=Constant(embedding_matrix),\n",
        "                    input_length=max_len,\n",
        "                    trainable=False))\n",
        "model.add(Bidirectional(GRU(128, return_sequences=True)))\n",
        "model.add(Bidirectional(LSTM(64)))\n",
        "model.add(Dropout(0.5))\n",
        "model.add(Dense(32, activation='relu'))\n",
        "model.add(Dropout(0.5))\n",
        "model.add(Dense(1, activation='sigmoid'))\n",
        "\n",
        "model.compile(loss='binary_crossentropy',\n",
        "              optimizer='adam',\n",
        "              metrics=['accuracy'])\n",
        "\n",
        "\n",
        "model.summary()"
      ]
    },
    {
      "cell_type": "code",
      "execution_count": null,
      "metadata": {
        "colab": {
          "base_uri": "https://localhost:8080/"
        },
        "id": "5qwaokQXBIS0",
        "outputId": "8d38db31-dba8-459b-d20a-e8443f631cee"
      },
      "outputs": [
        {
          "name": "stdout",
          "output_type": "stream",
          "text": [
            "Epoch 1/20\n",
            "178/179 [============================>.] - ETA: 0s - loss: 0.5871 - accuracy: 0.6652\n",
            "Epoch 1: val_loss improved from inf to 0.51155, saving model to /content/drive/MyDrive/IR_project/models/bi_gru_lstm_model_6.h5\n",
            "179/179 [==============================] - 27s 69ms/step - loss: 0.5860 - accuracy: 0.6651 - val_loss: 0.5115 - val_accuracy: 0.7277\n",
            "Epoch 2/20\n",
            "178/179 [============================>.] - ETA: 0s - loss: 0.4204 - accuracy: 0.8050\n",
            "Epoch 2: val_loss improved from 0.51155 to 0.21496, saving model to /content/drive/MyDrive/IR_project/models/bi_gru_lstm_model_6.h5\n",
            "179/179 [==============================] - 10s 57ms/step - loss: 0.4194 - accuracy: 0.8056 - val_loss: 0.2150 - val_accuracy: 0.9423\n",
            "Epoch 3/20\n",
            "178/179 [============================>.] - ETA: 0s - loss: 0.3223 - accuracy: 0.8705\n",
            "Epoch 3: val_loss did not improve from 0.21496\n",
            "179/179 [==============================] - 3s 14ms/step - loss: 0.3224 - accuracy: 0.8704 - val_loss: 0.2277 - val_accuracy: 0.9091\n",
            "Epoch 4/20\n",
            "179/179 [==============================] - ETA: 0s - loss: 0.2286 - accuracy: 0.8994\n",
            "Epoch 4: val_loss improved from 0.21496 to 0.13315, saving model to /content/drive/MyDrive/IR_project/models/bi_gru_lstm_model_6.h5\n",
            "179/179 [==============================] - 12s 70ms/step - loss: 0.2286 - accuracy: 0.8994 - val_loss: 0.1331 - val_accuracy: 0.9518\n",
            "Epoch 5/20\n",
            "175/179 [============================>.] - ETA: 0s - loss: 0.2066 - accuracy: 0.9179\n",
            "Epoch 5: val_loss improved from 0.13315 to 0.10893, saving model to /content/drive/MyDrive/IR_project/models/bi_gru_lstm_model_6.h5\n",
            "179/179 [==============================] - 10s 56ms/step - loss: 0.2047 - accuracy: 0.9189 - val_loss: 0.1089 - val_accuracy: 0.9595\n",
            "Epoch 6/20\n",
            "177/179 [============================>.] - ETA: 0s - loss: 0.1400 - accuracy: 0.9414\n",
            "Epoch 6: val_loss did not improve from 0.10893\n",
            "179/179 [==============================] - 3s 15ms/step - loss: 0.1400 - accuracy: 0.9414 - val_loss: 0.1475 - val_accuracy: 0.9437\n",
            "Epoch 7/20\n",
            "178/179 [============================>.] - ETA: 0s - loss: 0.1279 - accuracy: 0.9470\n",
            "Epoch 7: val_loss did not improve from 0.10893\n",
            "179/179 [==============================] - 3s 14ms/step - loss: 0.1275 - accuracy: 0.9470 - val_loss: 0.1439 - val_accuracy: 0.9497\n",
            "Epoch 8/20\n",
            "177/179 [============================>.] - ETA: 0s - loss: 0.1058 - accuracy: 0.9572\n",
            "Epoch 8: val_loss did not improve from 0.10893\n",
            "179/179 [==============================] - 3s 18ms/step - loss: 0.1066 - accuracy: 0.9571 - val_loss: 0.1168 - val_accuracy: 0.9609\n",
            "Epoch 9/20\n",
            "178/179 [============================>.] - ETA: 0s - loss: 0.0908 - accuracy: 0.9608\n",
            "Epoch 9: val_loss improved from 0.10893 to 0.10470, saving model to /content/drive/MyDrive/IR_project/models/bi_gru_lstm_model_6.h5\n",
            "179/179 [==============================] - 22s 123ms/step - loss: 0.0905 - accuracy: 0.9608 - val_loss: 0.1047 - val_accuracy: 0.9671\n",
            "Epoch 10/20\n",
            "179/179 [==============================] - ETA: 0s - loss: 0.0904 - accuracy: 0.9640\n",
            "Epoch 10: val_loss did not improve from 0.10470\n",
            "179/179 [==============================] - 3s 17ms/step - loss: 0.0904 - accuracy: 0.9640 - val_loss: 0.1063 - val_accuracy: 0.9706\n",
            "Epoch 11/20\n",
            "179/179 [==============================] - ETA: 0s - loss: 0.0580 - accuracy: 0.9783\n",
            "Epoch 11: val_loss did not improve from 0.10470\n",
            "179/179 [==============================] - 3s 18ms/step - loss: 0.0580 - accuracy: 0.9783 - val_loss: 0.1080 - val_accuracy: 0.9692\n",
            "Epoch 12/20\n",
            "178/179 [============================>.] - ETA: 0s - loss: 0.0424 - accuracy: 0.9823\n",
            "Epoch 12: val_loss did not improve from 0.10470\n",
            "179/179 [==============================] - 3s 15ms/step - loss: 0.0423 - accuracy: 0.9822 - val_loss: 0.1179 - val_accuracy: 0.9636\n",
            "Epoch 13/20\n",
            "176/179 [============================>.] - ETA: 0s - loss: 0.0457 - accuracy: 0.9806\n",
            "Epoch 13: val_loss did not improve from 0.10470\n",
            "179/179 [==============================] - 3s 15ms/step - loss: 0.0453 - accuracy: 0.9809 - val_loss: 0.1125 - val_accuracy: 0.9745\n",
            "Epoch 14/20\n",
            "176/179 [============================>.] - ETA: 0s - loss: 0.0694 - accuracy: 0.9717\n",
            "Epoch 14: val_loss did not improve from 0.10470\n",
            "179/179 [==============================] - 3s 14ms/step - loss: 0.0688 - accuracy: 0.9719 - val_loss: 0.1065 - val_accuracy: 0.9734\n",
            "Epoch 15/20\n",
            "178/179 [============================>.] - ETA: 0s - loss: 0.0379 - accuracy: 0.9842\n",
            "Epoch 15: val_loss did not improve from 0.10470\n",
            "179/179 [==============================] - 3s 19ms/step - loss: 0.0380 - accuracy: 0.9841 - val_loss: 0.1157 - val_accuracy: 0.9664\n",
            "Epoch 16/20\n",
            "177/179 [============================>.] - ETA: 0s - loss: 0.0389 - accuracy: 0.9845\n",
            "Epoch 16: val_loss did not improve from 0.10470\n",
            "179/179 [==============================] - 3s 17ms/step - loss: 0.0387 - accuracy: 0.9845 - val_loss: 0.1207 - val_accuracy: 0.9643\n",
            "Epoch 17/20\n",
            "178/179 [============================>.] - ETA: 0s - loss: 0.0281 - accuracy: 0.9874\n",
            "Epoch 17: val_loss improved from 0.10470 to 0.10032, saving model to /content/drive/MyDrive/IR_project/models/bi_gru_lstm_model_6.h5\n",
            "179/179 [==============================] - 8s 43ms/step - loss: 0.0280 - accuracy: 0.9875 - val_loss: 0.1003 - val_accuracy: 0.9797\n",
            "Epoch 18/20\n",
            "177/179 [============================>.] - ETA: 0s - loss: 0.0464 - accuracy: 0.9818\n",
            "Epoch 18: val_loss improved from 0.10032 to 0.08435, saving model to /content/drive/MyDrive/IR_project/models/bi_gru_lstm_model_6.h5\n",
            "179/179 [==============================] - 8s 45ms/step - loss: 0.0459 - accuracy: 0.9820 - val_loss: 0.0843 - val_accuracy: 0.9766\n",
            "Epoch 19/20\n",
            "177/179 [============================>.] - ETA: 0s - loss: 0.0328 - accuracy: 0.9885\n",
            "Epoch 19: val_loss did not improve from 0.08435\n",
            "179/179 [==============================] - 3s 15ms/step - loss: 0.0327 - accuracy: 0.9886 - val_loss: 0.1518 - val_accuracy: 0.9525\n",
            "Epoch 20/20\n",
            "176/179 [============================>.] - ETA: 0s - loss: 0.0277 - accuracy: 0.9898\n",
            "Epoch 20: val_loss did not improve from 0.08435\n",
            "179/179 [==============================] - 3s 15ms/step - loss: 0.0276 - accuracy: 0.9898 - val_loss: 0.0970 - val_accuracy: 0.9832\n"
          ]
        },
        {
          "data": {
            "text/plain": [
              "<keras.callbacks.History at 0x7fa11c65cf70>"
            ]
          },
          "execution_count": 9,
          "metadata": {},
          "output_type": "execute_result"
        }
      ],
      "source": [
        "# Assume that `x_train` and `y_train` are your training data and labels\n",
        "model.fit(padded_sequences, ytr, batch_size=64,epochs=20,validation_split=0.2,callbacks=[checkpoint_callback],\n",
        "          class_weight=class_weights\n",
        "          )"
      ]
    },
    {
      "cell_type": "code",
      "execution_count": null,
      "metadata": {
        "id": "7xdSZNz3EqgM"
      },
      "outputs": [],
      "source": [
        "import pickle\n",
        "with open('/content/drive/MyDrive/IR_project/models/word_level_tokenizer_bilstm.pickle', 'rb') as handle:\n",
        "    loaded_tokenizer = pickle.load(handle)\n",
        "\n",
        "loaded_model = load_model('/content/drive/MyDrive/IR_project/models/bi_gru_lstm_model_6.h5')"
      ]
    },
    {
      "cell_type": "code",
      "execution_count": null,
      "metadata": {
        "colab": {
          "base_uri": "https://localhost:8080/"
        },
        "id": "UMR98zO5R6LN",
        "outputId": "ae067206-991f-4edb-837d-5dd26caa1b58"
      },
      "outputs": [
        {
          "name": "stdout",
          "output_type": "stream",
          "text": [
            "112/112 [==============================] - 1s 7ms/step\n",
            "112/112 [==============================] - 1s 8ms/step - loss: 0.0954 - accuracy: 0.9751\n",
            "Test loss: 0.09541492909193039\n",
            "Test accuracy: 0.9751118421554565\n",
            "\n",
            "[[2.2606754e-09]\n",
            " [8.6906884e-06]\n",
            " [3.0261403e-06]\n",
            " ...\n",
            " [3.0458486e-06]\n",
            " [1.8053912e-06]\n",
            " [1.0628543e-05]]\n",
            "[[3340   55]\n",
            " [  34  147]]\n",
            "              precision    recall  f1-score   support\n",
            "\n",
            "           0       0.99      0.98      0.99      3395\n",
            "           1       0.73      0.81      0.77       181\n",
            "\n",
            "    accuracy                           0.98      3576\n",
            "   macro avg       0.86      0.90      0.88      3576\n",
            "weighted avg       0.98      0.98      0.98      3576\n",
            "\n"
          ]
        }
      ],
      "source": [
        "test_sequences = loaded_tokenizer.texts_to_sequences(xt)\n",
        "test_data_padded = tf.keras.preprocessing.sequence.pad_sequences(test_sequences, maxlen=max_len, padding='post', truncating='post')\n",
        "\n",
        "pred = loaded_model.predict(test_data_padded)\n",
        "loss, acc = loaded_model.evaluate(test_data_padded,yt, batch_size=32)\n",
        "\n",
        "print('Test loss:', loss)\n",
        "print('Test accuracy:', acc,end = '\\n\\n')\n",
        "print(pred)\n",
        "for i,x in enumerate(pred):\n",
        "  if x >= 0.5:\n",
        "    pred[i] = 1\n",
        "  else:\n",
        "    pred[i] = 0\n",
        "cm = confusion_matrix(yt,pred)\n",
        "print(cm)\n",
        "cr = classification_report(yt,pred)\n",
        "print(cr)"
      ]
    }
  ],
  "metadata": {
    "accelerator": "GPU",
    "colab": {
      "collapsed_sections": [
        "vnwqnwFMfeTX",
        "6g1ZdqwGiM3E",
        "MxVfo2bb50w-"
      ],
      "gpuType": "T4",
      "provenance": []
    },
    "gpuClass": "standard",
    "kernelspec": {
      "display_name": "Python 3",
      "name": "python3"
    },
    "language_info": {
      "name": "python"
    }
  },
  "nbformat": 4,
  "nbformat_minor": 0
}
